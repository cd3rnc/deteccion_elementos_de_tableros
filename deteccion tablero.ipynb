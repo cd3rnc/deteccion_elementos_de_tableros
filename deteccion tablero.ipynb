{
 "cells": [
  {
   "cell_type": "markdown",
   "id": "07d88cd4-8c23-4422-8b17-6b78adaecf9e",
   "metadata": {},
   "source": [
    "## dividir imagen de alta resolucion de tablero"
   ]
  },
  {
   "cell_type": "code",
   "execution_count": 3,
   "id": "d53ce5db-d10f-4e58-9764-e73d51b1b737",
   "metadata": {},
   "outputs": [],
   "source": [
    "from PIL import Image\n",
    "import numpy as np\n",
    "\n",
    "def split_image(image_path, tile_size):\n",
    "    image = Image.open(image_path)\n",
    "    width, height = image.size\n",
    "    tiles = []\n",
    "\n",
    "    for top in range(0, height, tile_size):\n",
    "        for left in range(0, width, tile_size):\n",
    "            box = (left, top, min(left + tile_size, width), min(top + tile_size, height))\n",
    "            tiles.append((box, image.crop(box)))\n",
    "    \n",
    "    return tiles\n"
   ]
  },
  {
   "cell_type": "markdown",
   "id": "ef2c8d99-8c2a-4bc6-895d-f82ddd7dc9db",
   "metadata": {},
   "source": [
    "## aplicar modelo a las sub imagenes obtenidas"
   ]
  },
  {
   "cell_type": "code",
   "execution_count": 13,
   "id": "e7b45b47-b336-4cd5-b98b-5ff23b391b47",
   "metadata": {},
   "outputs": [],
   "source": [
    "from ultralytics import YOLO\n",
    "\n",
    "# Cargar el modelo YOLOv8\n",
    "model = YOLO('last.pt')\n",
    "\n",
    "from tqdm import tqdm\n",
    "\n",
    "def apply_model_to_tiles(model, tiles):\n",
    "    results = []\n",
    "    for box, tile in tqdm(tiles, desc=\"Processing tiles\"):  # Uso correcto de tqdm.tqdm\n",
    "        tile_array = np.array(tile)  # Convertir la subimagen a formato numpy\n",
    "        result = model(tile_array)  # Aplicar el modelo\n",
    "        results.append((box, result))\n",
    "    return results\n"
   ]
  },
  {
   "cell_type": "markdown",
   "id": "bb86ae3d-45af-4313-8a45-a62f884f5cd5",
   "metadata": {},
   "source": [
    "## re ajustar coordenadas de las detecciones"
   ]
  },
  {
   "cell_type": "code",
   "execution_count": 15,
   "id": "12cdccef-e762-4d3c-b790-48e252eba807",
   "metadata": {},
   "outputs": [],
   "source": [
    "def adjust_detections_to_global_space(tiles_with_detections):\n",
    "    global_detections = []\n",
    "    for (box, result) in tiles_with_detections:\n",
    "        left, top, _, _ = box  # Coordenadas de la subimagen\n",
    "        for detection in result[0].boxes:  # Acceder a las detecciones\n",
    "            # Obtener las coordenadas de la detección\n",
    "            x1, y1, x2, y2 = detection.xyxy[0].tolist()  # Convertir a lista\n",
    "            label = detection.cls.item()  # Clase detectada como entero\n",
    "            conf = detection.conf.item()  # Confianza de la detección\n",
    "            # Ajustar las coordenadas al espacio global\n",
    "            global_detections.append({\n",
    "                'x1': x1 + left, 'y1': y1 + top,\n",
    "                'x2': x2 + left, 'y2': y2 + top,\n",
    "                'label': int(label),  # Clase detectada\n",
    "                'confidence': conf   # Confianza\n",
    "            })\n",
    "    return global_detections\n"
   ]
  },
  {
   "cell_type": "markdown",
   "id": "6a50ca72-7647-49bf-aef6-420b0f2adc04",
   "metadata": {},
   "source": [
    "## recombinar resultados"
   ]
  },
  {
   "cell_type": "code",
   "execution_count": 39,
   "id": "7d9a6488-6dfb-4451-8fd1-dea0bdab4dd3",
   "metadata": {},
   "outputs": [],
   "source": [
    "import cv2\n",
    "import tqdm\n",
    "\n",
    "def visualize_detections(image_path, global_detections, class_names, output_path='output_with_detections.jpg'):\n",
    "    # Cargar la imagen original\n",
    "    image = cv2.imread(image_path)\n",
    "\n",
    "    # Dibujar cada detección en la imagen\n",
    "    for detection in global_detections:\n",
    "        # Acceder a las coordenadas y la clase desde el diccionario\n",
    "        x1, y1, x2, y2 = int(detection['x1']), int(detection['y1']), int(detection['x2']), int(detection['y2'])\n",
    "        class_id = int(detection['label'])  # ID de la clase\n",
    "        confidence = detection['confidence']\n",
    "\n",
    "        # Mostrar solo las detecciones con confianza mayor a 0.65\n",
    "        if confidence >= 0.55:\n",
    "            # Obtener el nombre de la clase\n",
    "            class_name = class_names[class_id] if class_id < len(class_names) else f\"Class {class_id}\"\n",
    "\n",
    "            # Dibujar un rectángulo alrededor del objeto detectado\n",
    "            cv2.rectangle(image, (x1, y1), (x2, y2), (0, 255, 0), 2)\n",
    "\n",
    "            # Ajustar el texto y el color\n",
    "            text = f\"{class_name} ({confidence:.2f})\"\n",
    "            font_scale = 0.7  # Aumentar el tamaño de la fuente\n",
    "            font_thickness = 2  # Grosor de la fuente\n",
    "            text_color = (0, 0, 139)  # Rojo oscuro en formato BGR\n",
    "\n",
    "            # Dibujar el texto\n",
    "            text_size, _ = cv2.getTextSize(text, cv2.FONT_HERSHEY_SIMPLEX, font_scale, font_thickness)\n",
    "            text_w, text_h = text_size\n",
    "            label_y = max(y1 - 10, text_h + 10)  # Asegurar que el texto no salga del borde superior\n",
    "\n",
    "            cv2.putText(image, text, (x1, label_y), cv2.FONT_HERSHEY_SIMPLEX, font_scale, text_color, font_thickness)\n",
    "\n",
    "    # Guardar la imagen con las detecciones visualizadas\n",
    "    cv2.imwrite(output_path, image)\n",
    "    print(f\"Detections saved to {output_path}\")"
   ]
  },
  {
   "cell_type": "code",
   "execution_count": 14,
   "id": "7cf98463-8043-47b4-a815-3f9e2650d510",
   "metadata": {},
   "outputs": [
    {
     "name": "stderr",
     "output_type": "stream",
     "text": [
      "Processing tiles:   0%|          | 0/416 [00:00<?, ?it/s]"
     ]
    },
    {
     "name": "stdout",
     "output_type": "stream",
     "text": [
      "\n",
      "0: 640x640 (no detections), 41.6ms\n",
      "Speed: 1.7ms preprocess, 41.6ms inference, 5.5ms postprocess per image at shape (1, 3, 640, 640)\n"
     ]
    },
    {
     "name": "stderr",
     "output_type": "stream",
     "text": [
      "Processing tiles:   0%|          | 1/416 [00:01<13:41,  1.98s/it]"
     ]
    },
    {
     "name": "stdout",
     "output_type": "stream",
     "text": [
      "\n",
      "0: 640x640 (no detections), 41.0ms\n",
      "Speed: 1.0ms preprocess, 41.0ms inference, 0.3ms postprocess per image at shape (1, 3, 640, 640)\n",
      "\n",
      "0: 640x640 (no detections), 36.3ms\n",
      "Speed: 0.9ms preprocess, 36.3ms inference, 0.3ms postprocess per image at shape (1, 3, 640, 640)\n",
      "\n",
      "0: 640x640 (no detections), 36.3ms\n",
      "Speed: 0.9ms preprocess, 36.3ms inference, 0.3ms postprocess per image at shape (1, 3, 640, 640)\n"
     ]
    },
    {
     "name": "stderr",
     "output_type": "stream",
     "text": [
      "Processing tiles:   1%|          | 4/416 [00:02<02:47,  2.45it/s]"
     ]
    },
    {
     "name": "stdout",
     "output_type": "stream",
     "text": [
      "\n",
      "0: 640x640 (no detections), 36.6ms\n",
      "Speed: 0.9ms preprocess, 36.6ms inference, 0.3ms postprocess per image at shape (1, 3, 640, 640)\n",
      "\n",
      "0: 640x640 (no detections), 36.3ms\n",
      "Speed: 1.0ms preprocess, 36.3ms inference, 0.3ms postprocess per image at shape (1, 3, 640, 640)\n",
      "\n",
      "0: 640x640 (no detections), 36.2ms\n",
      "Speed: 1.0ms preprocess, 36.2ms inference, 0.3ms postprocess per image at shape (1, 3, 640, 640)\n"
     ]
    },
    {
     "name": "stderr",
     "output_type": "stream",
     "text": [
      "Processing tiles:   2%|▏         | 7/416 [00:02<01:25,  4.76it/s]"
     ]
    },
    {
     "name": "stdout",
     "output_type": "stream",
     "text": [
      "\n",
      "0: 640x640 (no detections), 36.5ms\n",
      "Speed: 1.0ms preprocess, 36.5ms inference, 0.3ms postprocess per image at shape (1, 3, 640, 640)\n",
      "\n",
      "0: 640x640 (no detections), 36.5ms\n",
      "Speed: 1.0ms preprocess, 36.5ms inference, 0.3ms postprocess per image at shape (1, 3, 640, 640)\n",
      "\n",
      "0: 640x640 (no detections), 36.5ms\n",
      "Speed: 0.9ms preprocess, 36.5ms inference, 0.3ms postprocess per image at shape (1, 3, 640, 640)\n"
     ]
    },
    {
     "name": "stderr",
     "output_type": "stream",
     "text": [
      "Processing tiles:   2%|▏         | 10/416 [00:02<00:55,  7.36it/s]"
     ]
    },
    {
     "name": "stdout",
     "output_type": "stream",
     "text": [
      "\n",
      "0: 640x640 1 lampara, 36.4ms\n",
      "Speed: 1.0ms preprocess, 36.4ms inference, 26.9ms postprocess per image at shape (1, 3, 640, 640)\n",
      "\n",
      "0: 640x640 (no detections), 34.8ms\n",
      "Speed: 1.0ms preprocess, 34.8ms inference, 0.3ms postprocess per image at shape (1, 3, 640, 640)\n",
      "\n",
      "0: 640x640 (no detections), 36.9ms\n",
      "Speed: 1.0ms preprocess, 36.9ms inference, 0.3ms postprocess per image at shape (1, 3, 640, 640)\n"
     ]
    },
    {
     "name": "stderr",
     "output_type": "stream",
     "text": [
      "Processing tiles:   3%|▎         | 13/416 [00:02<00:41,  9.67it/s]"
     ]
    },
    {
     "name": "stdout",
     "output_type": "stream",
     "text": [
      "\n",
      "0: 640x640 (no detections), 36.8ms\n",
      "Speed: 1.0ms preprocess, 36.8ms inference, 0.3ms postprocess per image at shape (1, 3, 640, 640)\n",
      "\n",
      "0: 640x640 (no detections), 36.6ms\n",
      "Speed: 1.0ms preprocess, 36.6ms inference, 0.3ms postprocess per image at shape (1, 3, 640, 640)\n",
      "\n",
      "0: 640x640 (no detections), 36.5ms\n",
      "Speed: 1.0ms preprocess, 36.5ms inference, 0.3ms postprocess per image at shape (1, 3, 640, 640)\n"
     ]
    },
    {
     "name": "stderr",
     "output_type": "stream",
     "text": [
      "Processing tiles:   4%|▍         | 16/416 [00:02<00:32, 12.37it/s]"
     ]
    },
    {
     "name": "stdout",
     "output_type": "stream",
     "text": [
      "\n",
      "0: 640x640 (no detections), 36.7ms\n",
      "Speed: 1.0ms preprocess, 36.7ms inference, 0.3ms postprocess per image at shape (1, 3, 640, 640)\n",
      "\n",
      "0: 640x640 (no detections), 36.8ms\n",
      "Speed: 1.0ms preprocess, 36.8ms inference, 0.3ms postprocess per image at shape (1, 3, 640, 640)\n",
      "\n",
      "0: 640x640 (no detections), 36.7ms\n",
      "Speed: 1.0ms preprocess, 36.7ms inference, 0.3ms postprocess per image at shape (1, 3, 640, 640)\n"
     ]
    },
    {
     "name": "stderr",
     "output_type": "stream",
     "text": [
      "Processing tiles:   5%|▍         | 19/416 [00:02<00:26, 14.93it/s]"
     ]
    },
    {
     "name": "stdout",
     "output_type": "stream",
     "text": [
      "\n",
      "0: 640x640 (no detections), 36.5ms\n",
      "Speed: 0.9ms preprocess, 36.5ms inference, 0.3ms postprocess per image at shape (1, 3, 640, 640)\n",
      "\n",
      "0: 640x640 (no detections), 36.5ms\n",
      "Speed: 1.0ms preprocess, 36.5ms inference, 0.3ms postprocess per image at shape (1, 3, 640, 640)\n",
      "\n",
      "0: 640x640 (no detections), 36.3ms\n",
      "Speed: 1.0ms preprocess, 36.3ms inference, 0.3ms postprocess per image at shape (1, 3, 640, 640)\n"
     ]
    },
    {
     "name": "stderr",
     "output_type": "stream",
     "text": [
      "Processing tiles:   5%|▌         | 22/416 [00:02<00:22, 17.25it/s]"
     ]
    },
    {
     "name": "stdout",
     "output_type": "stream",
     "text": [
      "\n",
      "0: 640x640 (no detections), 36.4ms\n",
      "Speed: 1.0ms preprocess, 36.4ms inference, 0.3ms postprocess per image at shape (1, 3, 640, 640)\n",
      "\n",
      "0: 640x640 (no detections), 36.5ms\n",
      "Speed: 1.0ms preprocess, 36.5ms inference, 0.3ms postprocess per image at shape (1, 3, 640, 640)\n",
      "\n",
      "0: 640x640 (no detections), 36.6ms\n",
      "Speed: 1.0ms preprocess, 36.6ms inference, 0.3ms postprocess per image at shape (1, 3, 640, 640)\n"
     ]
    },
    {
     "name": "stderr",
     "output_type": "stream",
     "text": [
      "Processing tiles:   6%|▌         | 25/416 [00:02<00:20, 19.21it/s]"
     ]
    },
    {
     "name": "stdout",
     "output_type": "stream",
     "text": [
      "\n",
      "0: 640x544 (no detections), 40.7ms\n",
      "Speed: 0.9ms preprocess, 40.7ms inference, 0.3ms postprocess per image at shape (1, 3, 640, 544)\n",
      "\n",
      "0: 640x640 (no detections), 36.3ms\n",
      "Speed: 1.0ms preprocess, 36.3ms inference, 0.3ms postprocess per image at shape (1, 3, 640, 640)\n",
      "\n",
      "0: 640x640 1 interruptor-puerta, 36.3ms\n",
      "Speed: 0.9ms preprocess, 36.3ms inference, 0.7ms postprocess per image at shape (1, 3, 640, 640)\n"
     ]
    },
    {
     "name": "stderr",
     "output_type": "stream",
     "text": [
      "Processing tiles:   7%|▋         | 28/416 [00:03<00:18, 20.61it/s]"
     ]
    },
    {
     "name": "stdout",
     "output_type": "stream",
     "text": [
      "\n",
      "0: 640x640 (no detections), 36.5ms\n",
      "Speed: 0.9ms preprocess, 36.5ms inference, 0.3ms postprocess per image at shape (1, 3, 640, 640)\n",
      "\n",
      "0: 640x640 (no detections), 36.6ms\n",
      "Speed: 1.0ms preprocess, 36.6ms inference, 0.3ms postprocess per image at shape (1, 3, 640, 640)\n",
      "\n",
      "0: 640x640 1 puerto-comunicacion, 1 ventilador, 36.6ms\n",
      "Speed: 0.9ms preprocess, 36.6ms inference, 0.7ms postprocess per image at shape (1, 3, 640, 640)\n"
     ]
    },
    {
     "name": "stderr",
     "output_type": "stream",
     "text": [
      "Processing tiles:   7%|▋         | 31/416 [00:03<00:17, 21.85it/s]"
     ]
    },
    {
     "name": "stdout",
     "output_type": "stream",
     "text": [
      "\n",
      "0: 640x640 (no detections), 36.4ms\n",
      "Speed: 0.9ms preprocess, 36.4ms inference, 0.3ms postprocess per image at shape (1, 3, 640, 640)\n",
      "\n",
      "0: 640x640 (no detections), 36.7ms\n",
      "Speed: 1.0ms preprocess, 36.7ms inference, 0.3ms postprocess per image at shape (1, 3, 640, 640)\n",
      "\n",
      "0: 640x640 (no detections), 37.1ms\n",
      "Speed: 1.0ms preprocess, 37.1ms inference, 0.3ms postprocess per image at shape (1, 3, 640, 640)\n"
     ]
    },
    {
     "name": "stderr",
     "output_type": "stream",
     "text": [
      "Processing tiles:   8%|▊         | 34/416 [00:03<00:16, 22.81it/s]"
     ]
    },
    {
     "name": "stdout",
     "output_type": "stream",
     "text": [
      "\n",
      "0: 640x640 (no detections), 36.6ms\n",
      "Speed: 1.0ms preprocess, 36.6ms inference, 0.3ms postprocess per image at shape (1, 3, 640, 640)\n",
      "\n",
      "0: 640x640 (no detections), 36.7ms\n",
      "Speed: 1.0ms preprocess, 36.7ms inference, 0.3ms postprocess per image at shape (1, 3, 640, 640)\n",
      "\n",
      "0: 640x640 1 proteccion-termomagnetica, 1 transformador-corriente, 36.7ms\n",
      "Speed: 0.9ms preprocess, 36.7ms inference, 0.6ms postprocess per image at shape (1, 3, 640, 640)\n"
     ]
    },
    {
     "name": "stderr",
     "output_type": "stream",
     "text": [
      "Processing tiles:   9%|▉         | 37/416 [00:03<00:16, 23.51it/s]"
     ]
    },
    {
     "name": "stdout",
     "output_type": "stream",
     "text": [
      "\n",
      "0: 640x640 1 fusible, 3 luz-pilotos, 1 puerto-comunicacion, 1 ventilador, 36.6ms\n",
      "Speed: 1.0ms preprocess, 36.6ms inference, 0.8ms postprocess per image at shape (1, 3, 640, 640)\n",
      "\n",
      "0: 640x640 1 bloqueo, 36.6ms\n",
      "Speed: 1.0ms preprocess, 36.6ms inference, 0.6ms postprocess per image at shape (1, 3, 640, 640)\n",
      "\n",
      "0: 640x640 1 bloqueo, 36.7ms\n",
      "Speed: 0.9ms preprocess, 36.7ms inference, 0.6ms postprocess per image at shape (1, 3, 640, 640)\n"
     ]
    },
    {
     "name": "stderr",
     "output_type": "stream",
     "text": [
      "Processing tiles:  10%|▉         | 40/416 [00:03<00:15, 23.94it/s]"
     ]
    },
    {
     "name": "stdout",
     "output_type": "stream",
     "text": [
      "\n",
      "0: 640x640 (no detections), 36.6ms\n",
      "Speed: 0.9ms preprocess, 36.6ms inference, 0.3ms postprocess per image at shape (1, 3, 640, 640)\n",
      "\n",
      "0: 640x640 (no detections), 36.7ms\n",
      "Speed: 1.0ms preprocess, 36.7ms inference, 0.3ms postprocess per image at shape (1, 3, 640, 640)\n",
      "\n",
      "0: 640x640 (no detections), 36.6ms\n",
      "Speed: 1.0ms preprocess, 36.6ms inference, 0.3ms postprocess per image at shape (1, 3, 640, 640)\n"
     ]
    },
    {
     "name": "stderr",
     "output_type": "stream",
     "text": [
      "Processing tiles:  10%|█         | 43/416 [00:03<00:15, 24.37it/s]"
     ]
    },
    {
     "name": "stdout",
     "output_type": "stream",
     "text": [
      "\n",
      "0: 640x640 (no detections), 36.5ms\n",
      "Speed: 1.0ms preprocess, 36.5ms inference, 0.3ms postprocess per image at shape (1, 3, 640, 640)\n",
      "\n",
      "0: 640x640 (no detections), 36.5ms\n",
      "Speed: 0.9ms preprocess, 36.5ms inference, 0.3ms postprocess per image at shape (1, 3, 640, 640)\n",
      "\n",
      "0: 640x640 (no detections), 36.5ms\n",
      "Speed: 0.9ms preprocess, 36.5ms inference, 0.3ms postprocess per image at shape (1, 3, 640, 640)\n"
     ]
    },
    {
     "name": "stderr",
     "output_type": "stream",
     "text": [
      "Processing tiles:  11%|█         | 46/416 [00:03<00:14, 24.70it/s]"
     ]
    },
    {
     "name": "stdout",
     "output_type": "stream",
     "text": [
      "\n",
      "0: 640x640 (no detections), 36.6ms\n",
      "Speed: 0.9ms preprocess, 36.6ms inference, 0.3ms postprocess per image at shape (1, 3, 640, 640)\n",
      "\n",
      "0: 640x640 (no detections), 36.6ms\n",
      "Speed: 0.9ms preprocess, 36.6ms inference, 0.3ms postprocess per image at shape (1, 3, 640, 640)\n",
      "\n",
      "0: 640x640 (no detections), 36.6ms\n",
      "Speed: 1.0ms preprocess, 36.6ms inference, 0.3ms postprocess per image at shape (1, 3, 640, 640)\n"
     ]
    },
    {
     "name": "stderr",
     "output_type": "stream",
     "text": [
      "Processing tiles:  12%|█▏        | 49/416 [00:03<00:14, 24.91it/s]"
     ]
    },
    {
     "name": "stdout",
     "output_type": "stream",
     "text": [
      "\n",
      "0: 640x640 (no detections), 36.6ms\n",
      "Speed: 1.0ms preprocess, 36.6ms inference, 0.3ms postprocess per image at shape (1, 3, 640, 640)\n",
      "\n",
      "0: 640x640 (no detections), 36.6ms\n",
      "Speed: 1.0ms preprocess, 36.6ms inference, 0.3ms postprocess per image at shape (1, 3, 640, 640)\n",
      "\n",
      "0: 640x544 (no detections), 33.4ms\n",
      "Speed: 0.9ms preprocess, 33.4ms inference, 0.3ms postprocess per image at shape (1, 3, 640, 544)\n"
     ]
    },
    {
     "name": "stderr",
     "output_type": "stream",
     "text": [
      "Processing tiles:  12%|█▎        | 52/416 [00:04<00:14, 25.26it/s]"
     ]
    },
    {
     "name": "stdout",
     "output_type": "stream",
     "text": [
      "\n",
      "0: 640x640 (no detections), 37.2ms\n",
      "Speed: 1.0ms preprocess, 37.2ms inference, 0.3ms postprocess per image at shape (1, 3, 640, 640)\n",
      "\n",
      "0: 640x640 (no detections), 36.8ms\n",
      "Speed: 0.9ms preprocess, 36.8ms inference, 0.3ms postprocess per image at shape (1, 3, 640, 640)\n",
      "\n",
      "0: 640x640 (no detections), 36.8ms\n",
      "Speed: 0.9ms preprocess, 36.8ms inference, 0.3ms postprocess per image at shape (1, 3, 640, 640)\n"
     ]
    },
    {
     "name": "stderr",
     "output_type": "stream",
     "text": [
      "Processing tiles:  13%|█▎        | 55/416 [00:04<00:14, 25.22it/s]"
     ]
    },
    {
     "name": "stdout",
     "output_type": "stream",
     "text": [
      "\n",
      "0: 640x640 1 borne, 1 fusible, 36.7ms\n",
      "Speed: 0.9ms preprocess, 36.7ms inference, 0.6ms postprocess per image at shape (1, 3, 640, 640)\n",
      "\n",
      "0: 640x640 (no detections), 36.7ms\n",
      "Speed: 0.9ms preprocess, 36.7ms inference, 0.3ms postprocess per image at shape (1, 3, 640, 640)\n",
      "\n",
      "0: 640x640 (no detections), 36.7ms\n",
      "Speed: 0.9ms preprocess, 36.7ms inference, 0.3ms postprocess per image at shape (1, 3, 640, 640)\n"
     ]
    },
    {
     "name": "stderr",
     "output_type": "stream",
     "text": [
      "Processing tiles:  14%|█▍        | 58/416 [00:04<00:14, 25.23it/s]"
     ]
    },
    {
     "name": "stdout",
     "output_type": "stream",
     "text": [
      "\n",
      "0: 640x640 (no detections), 36.7ms\n",
      "Speed: 1.0ms preprocess, 36.7ms inference, 0.3ms postprocess per image at shape (1, 3, 640, 640)\n",
      "\n",
      "0: 640x640 (no detections), 36.6ms\n",
      "Speed: 0.9ms preprocess, 36.6ms inference, 0.3ms postprocess per image at shape (1, 3, 640, 640)\n",
      "\n",
      "0: 640x640 1 borne, 1 fusible, 36.4ms\n",
      "Speed: 1.0ms preprocess, 36.4ms inference, 0.7ms postprocess per image at shape (1, 3, 640, 640)\n"
     ]
    },
    {
     "name": "stderr",
     "output_type": "stream",
     "text": [
      "Processing tiles:  15%|█▍        | 61/416 [00:04<00:14, 25.26it/s]"
     ]
    },
    {
     "name": "stdout",
     "output_type": "stream",
     "text": [
      "\n",
      "0: 640x640 (no detections), 36.3ms\n",
      "Speed: 1.0ms preprocess, 36.3ms inference, 0.3ms postprocess per image at shape (1, 3, 640, 640)\n",
      "\n",
      "0: 640x640 1 proteccion-termomagnetica, 36.4ms\n",
      "Speed: 1.0ms preprocess, 36.4ms inference, 0.6ms postprocess per image at shape (1, 3, 640, 640)\n",
      "\n",
      "0: 640x640 2 proteccion-termomagneticas, 36.6ms\n",
      "Speed: 0.9ms preprocess, 36.6ms inference, 0.6ms postprocess per image at shape (1, 3, 640, 640)\n"
     ]
    },
    {
     "name": "stderr",
     "output_type": "stream",
     "text": [
      "Processing tiles:  15%|█▌        | 64/416 [00:04<00:13, 25.26it/s]"
     ]
    },
    {
     "name": "stdout",
     "output_type": "stream",
     "text": [
      "\n",
      "0: 640x640 (no detections), 36.6ms\n",
      "Speed: 0.9ms preprocess, 36.6ms inference, 0.3ms postprocess per image at shape (1, 3, 640, 640)\n",
      "\n",
      "0: 640x640 (no detections), 36.6ms\n",
      "Speed: 1.0ms preprocess, 36.6ms inference, 0.3ms postprocess per image at shape (1, 3, 640, 640)\n",
      "\n",
      "0: 640x640 1 borne, 1 fusible, 36.6ms\n",
      "Speed: 1.0ms preprocess, 36.6ms inference, 0.6ms postprocess per image at shape (1, 3, 640, 640)\n"
     ]
    },
    {
     "name": "stderr",
     "output_type": "stream",
     "text": [
      "Processing tiles:  16%|█▌        | 67/416 [00:04<00:13, 25.28it/s]"
     ]
    },
    {
     "name": "stdout",
     "output_type": "stream",
     "text": [
      "\n",
      "0: 640x640 (no detections), 36.5ms\n",
      "Speed: 1.0ms preprocess, 36.5ms inference, 0.3ms postprocess per image at shape (1, 3, 640, 640)\n",
      "\n",
      "0: 640x640 (no detections), 36.6ms\n",
      "Speed: 1.0ms preprocess, 36.6ms inference, 0.3ms postprocess per image at shape (1, 3, 640, 640)\n",
      "\n",
      "0: 640x640 1 fusible, 1 interruptor-puerta, 3 lamparas, 1 ventilador, 36.7ms\n",
      "Speed: 0.9ms preprocess, 36.7ms inference, 0.7ms postprocess per image at shape (1, 3, 640, 640)\n"
     ]
    },
    {
     "name": "stderr",
     "output_type": "stream",
     "text": [
      "Processing tiles:  17%|█▋        | 70/416 [00:04<00:13, 25.27it/s]"
     ]
    },
    {
     "name": "stdout",
     "output_type": "stream",
     "text": [
      "\n",
      "0: 640x640 1 borne, 1 fusible, 36.6ms\n",
      "Speed: 0.9ms preprocess, 36.6ms inference, 0.7ms postprocess per image at shape (1, 3, 640, 640)\n",
      "\n",
      "0: 640x640 (no detections), 36.7ms\n",
      "Speed: 1.0ms preprocess, 36.7ms inference, 0.3ms postprocess per image at shape (1, 3, 640, 640)\n",
      "\n",
      "0: 640x640 (no detections), 36.6ms\n",
      "Speed: 1.0ms preprocess, 36.6ms inference, 0.3ms postprocess per image at shape (1, 3, 640, 640)\n"
     ]
    },
    {
     "name": "stderr",
     "output_type": "stream",
     "text": [
      "Processing tiles:  18%|█▊        | 73/416 [00:04<00:13, 25.26it/s]"
     ]
    },
    {
     "name": "stdout",
     "output_type": "stream",
     "text": [
      "\n",
      "0: 640x640 (no detections), 36.5ms\n",
      "Speed: 0.9ms preprocess, 36.5ms inference, 0.3ms postprocess per image at shape (1, 3, 640, 640)\n",
      "\n",
      "0: 640x640 (no detections), 36.5ms\n",
      "Speed: 1.0ms preprocess, 36.5ms inference, 0.3ms postprocess per image at shape (1, 3, 640, 640)\n",
      "\n",
      "0: 640x640 (no detections), 36.6ms\n",
      "Speed: 0.9ms preprocess, 36.6ms inference, 0.3ms postprocess per image at shape (1, 3, 640, 640)\n"
     ]
    },
    {
     "name": "stderr",
     "output_type": "stream",
     "text": [
      "Processing tiles:  18%|█▊        | 76/416 [00:04<00:13, 25.32it/s]"
     ]
    },
    {
     "name": "stdout",
     "output_type": "stream",
     "text": [
      "\n",
      "0: 640x640 (no detections), 36.7ms\n",
      "Speed: 1.0ms preprocess, 36.7ms inference, 0.3ms postprocess per image at shape (1, 3, 640, 640)\n",
      "\n",
      "0: 640x544 (no detections), 33.2ms\n",
      "Speed: 0.9ms preprocess, 33.2ms inference, 0.3ms postprocess per image at shape (1, 3, 640, 544)\n",
      "\n",
      "0: 640x640 (no detections), 38.1ms\n",
      "Speed: 0.9ms preprocess, 38.1ms inference, 0.3ms postprocess per image at shape (1, 3, 640, 640)\n"
     ]
    },
    {
     "name": "stderr",
     "output_type": "stream",
     "text": [
      "Processing tiles:  19%|█▉        | 79/416 [00:05<00:13, 25.48it/s]"
     ]
    },
    {
     "name": "stdout",
     "output_type": "stream",
     "text": [
      "\n",
      "0: 640x640 (no detections), 36.7ms\n",
      "Speed: 1.0ms preprocess, 36.7ms inference, 0.3ms postprocess per image at shape (1, 3, 640, 640)\n",
      "\n",
      "0: 640x640 1 proteccion-termomagnetica, 36.8ms\n",
      "Speed: 1.0ms preprocess, 36.8ms inference, 0.7ms postprocess per image at shape (1, 3, 640, 640)\n",
      "\n",
      "0: 640x640 1 borne, 1 borne-cortocircuitable, 1 equipo-de-medida, 4 proteccion-termomagneticas, 1 transformador-corriente, 36.8ms\n",
      "Speed: 0.9ms preprocess, 36.8ms inference, 0.6ms postprocess per image at shape (1, 3, 640, 640)\n"
     ]
    },
    {
     "name": "stderr",
     "output_type": "stream",
     "text": [
      "Processing tiles:  20%|█▉        | 82/416 [00:05<00:13, 25.33it/s]"
     ]
    },
    {
     "name": "stdout",
     "output_type": "stream",
     "text": [
      "\n",
      "0: 640x640 5 proteccion-termomagneticas, 1 puerto-comunicacion, 36.7ms\n",
      "Speed: 0.9ms preprocess, 36.7ms inference, 0.6ms postprocess per image at shape (1, 3, 640, 640)\n",
      "\n",
      "0: 640x640 3 proteccion-termomagneticas, 36.7ms\n",
      "Speed: 1.0ms preprocess, 36.7ms inference, 0.6ms postprocess per image at shape (1, 3, 640, 640)\n",
      "\n",
      "0: 640x640 4 proteccion-termomagneticas, 37.0ms\n",
      "Speed: 1.0ms preprocess, 37.0ms inference, 0.6ms postprocess per image at shape (1, 3, 640, 640)\n"
     ]
    },
    {
     "name": "stderr",
     "output_type": "stream",
     "text": [
      "Processing tiles:  20%|██        | 85/416 [00:05<00:13, 25.21it/s]"
     ]
    },
    {
     "name": "stdout",
     "output_type": "stream",
     "text": [
      "\n",
      "0: 640x640 5 proteccion-termomagneticas, 36.7ms\n",
      "Speed: 0.9ms preprocess, 36.7ms inference, 0.6ms postprocess per image at shape (1, 3, 640, 640)\n",
      "\n",
      "0: 640x640 1 borne-cortocircuitable, 1 equipo-de-medida, 6 proteccion-termomagneticas, 1 transformador-corriente, 36.6ms\n",
      "Speed: 1.0ms preprocess, 36.6ms inference, 0.7ms postprocess per image at shape (1, 3, 640, 640)\n",
      "\n",
      "0: 640x640 4 proteccion-termomagneticas, 1 puerto-comunicacion, 36.8ms\n",
      "Speed: 0.9ms preprocess, 36.8ms inference, 0.6ms postprocess per image at shape (1, 3, 640, 640)\n"
     ]
    },
    {
     "name": "stderr",
     "output_type": "stream",
     "text": [
      "Processing tiles:  21%|██        | 88/416 [00:05<00:13, 25.14it/s]"
     ]
    },
    {
     "name": "stdout",
     "output_type": "stream",
     "text": [
      "\n",
      "0: 640x640 4 proteccion-termomagneticas, 36.6ms\n",
      "Speed: 1.0ms preprocess, 36.6ms inference, 0.6ms postprocess per image at shape (1, 3, 640, 640)\n",
      "\n",
      "0: 640x640 2 proteccion-termomagneticas, 36.6ms\n",
      "Speed: 1.0ms preprocess, 36.6ms inference, 0.6ms postprocess per image at shape (1, 3, 640, 640)\n",
      "\n",
      "0: 640x640 4 proteccion-termomagneticas, 36.7ms\n",
      "Speed: 1.0ms preprocess, 36.7ms inference, 0.6ms postprocess per image at shape (1, 3, 640, 640)\n"
     ]
    },
    {
     "name": "stderr",
     "output_type": "stream",
     "text": [
      "Processing tiles:  22%|██▏       | 91/416 [00:05<00:12, 25.12it/s]"
     ]
    },
    {
     "name": "stdout",
     "output_type": "stream",
     "text": [
      "\n",
      "0: 640x640 5 proteccion-termomagneticas, 36.6ms\n",
      "Speed: 0.9ms preprocess, 36.6ms inference, 0.6ms postprocess per image at shape (1, 3, 640, 640)\n",
      "\n",
      "0: 640x640 1 borne-cortocircuitable, 1 equipo-de-medida, 5 proteccion-termomagneticas, 1 puerto-comunicacion, 1 transformador-corriente, 36.7ms\n",
      "Speed: 0.9ms preprocess, 36.7ms inference, 0.6ms postprocess per image at shape (1, 3, 640, 640)\n",
      "\n",
      "0: 640x640 5 proteccion-termomagneticas, 1 puerto-comunicacion, 36.7ms\n",
      "Speed: 0.9ms preprocess, 36.7ms inference, 0.6ms postprocess per image at shape (1, 3, 640, 640)\n"
     ]
    },
    {
     "name": "stderr",
     "output_type": "stream",
     "text": [
      "Processing tiles:  23%|██▎       | 94/416 [00:05<00:12, 25.08it/s]"
     ]
    },
    {
     "name": "stdout",
     "output_type": "stream",
     "text": [
      "\n",
      "0: 640x640 3 proteccion-termomagneticas, 36.6ms\n",
      "Speed: 0.9ms preprocess, 36.6ms inference, 0.6ms postprocess per image at shape (1, 3, 640, 640)\n",
      "\n",
      "0: 640x640 3 proteccion-termomagneticas, 1 transformador-corriente, 36.6ms\n",
      "Speed: 0.9ms preprocess, 36.6ms inference, 0.6ms postprocess per image at shape (1, 3, 640, 640)\n",
      "\n",
      "0: 640x640 1 borne-cortocircuitable, 1 equipo-de-medida, 3 proteccion-termomagneticas, 1 puerto-comunicacion, 1 ventilador, 36.7ms\n",
      "Speed: 1.0ms preprocess, 36.7ms inference, 0.7ms postprocess per image at shape (1, 3, 640, 640)\n"
     ]
    },
    {
     "name": "stderr",
     "output_type": "stream",
     "text": [
      "Processing tiles:  23%|██▎       | 97/416 [00:05<00:12, 25.06it/s]"
     ]
    },
    {
     "name": "stdout",
     "output_type": "stream",
     "text": [
      "\n",
      "0: 640x640 (no detections), 36.7ms\n",
      "Speed: 0.9ms preprocess, 36.7ms inference, 0.3ms postprocess per image at shape (1, 3, 640, 640)\n",
      "\n",
      "0: 640x640 (no detections), 36.6ms\n",
      "Speed: 0.9ms preprocess, 36.6ms inference, 0.3ms postprocess per image at shape (1, 3, 640, 640)\n",
      "\n",
      "0: 640x640 (no detections), 36.6ms\n",
      "Speed: 0.9ms preprocess, 36.6ms inference, 0.3ms postprocess per image at shape (1, 3, 640, 640)\n"
     ]
    },
    {
     "name": "stderr",
     "output_type": "stream",
     "text": [
      "Processing tiles:  24%|██▍       | 100/416 [00:05<00:12, 25.18it/s]"
     ]
    },
    {
     "name": "stdout",
     "output_type": "stream",
     "text": [
      "\n",
      "0: 640x640 (no detections), 36.6ms\n",
      "Speed: 1.0ms preprocess, 36.6ms inference, 0.3ms postprocess per image at shape (1, 3, 640, 640)\n",
      "\n",
      "0: 640x640 (no detections), 36.7ms\n",
      "Speed: 1.0ms preprocess, 36.7ms inference, 0.3ms postprocess per image at shape (1, 3, 640, 640)\n",
      "\n",
      "0: 640x640 (no detections), 36.8ms\n",
      "Speed: 1.0ms preprocess, 36.8ms inference, 0.3ms postprocess per image at shape (1, 3, 640, 640)\n"
     ]
    },
    {
     "name": "stderr",
     "output_type": "stream",
     "text": [
      "Processing tiles:  25%|██▍       | 103/416 [00:06<00:12, 25.20it/s]"
     ]
    },
    {
     "name": "stdout",
     "output_type": "stream",
     "text": [
      "\n",
      "0: 640x544 (no detections), 33.7ms\n",
      "Speed: 0.8ms preprocess, 33.7ms inference, 0.3ms postprocess per image at shape (1, 3, 640, 544)\n",
      "\n",
      "0: 640x640 (no detections), 37.4ms\n",
      "Speed: 1.0ms preprocess, 37.4ms inference, 0.3ms postprocess per image at shape (1, 3, 640, 640)\n",
      "\n",
      "0: 640x640 2 transformador-corrientes, 36.8ms\n",
      "Speed: 0.9ms preprocess, 36.8ms inference, 0.6ms postprocess per image at shape (1, 3, 640, 640)\n"
     ]
    },
    {
     "name": "stderr",
     "output_type": "stream",
     "text": [
      "Processing tiles:  25%|██▌       | 106/416 [00:06<00:12, 25.36it/s]"
     ]
    },
    {
     "name": "stdout",
     "output_type": "stream",
     "text": [
      "\n",
      "0: 640x640 1 actuador-knx, 1 borne, 1 proteccion-diferencial, 36.7ms\n",
      "Speed: 1.0ms preprocess, 36.7ms inference, 0.6ms postprocess per image at shape (1, 3, 640, 640)\n",
      "\n",
      "0: 640x640 3 bornes, 3 proteccion-diferencials, 36.9ms\n",
      "Speed: 1.0ms preprocess, 36.9ms inference, 0.6ms postprocess per image at shape (1, 3, 640, 640)\n",
      "\n",
      "0: 640x640 5 bornes, 5 proteccion-diferencials, 36.8ms\n",
      "Speed: 1.0ms preprocess, 36.8ms inference, 0.7ms postprocess per image at shape (1, 3, 640, 640)\n"
     ]
    },
    {
     "name": "stderr",
     "output_type": "stream",
     "text": [
      "Processing tiles:  26%|██▌       | 109/416 [00:06<00:12, 25.22it/s]"
     ]
    },
    {
     "name": "stdout",
     "output_type": "stream",
     "text": [
      "\n",
      "0: 640x640 2 bornes, 1 fuente-knx, 2 proteccion-diferencials, 36.7ms\n",
      "Speed: 1.0ms preprocess, 36.7ms inference, 0.7ms postprocess per image at shape (1, 3, 640, 640)\n",
      "\n",
      "0: 640x640 4 bornes, 5 proteccion-diferencials, 36.8ms\n",
      "Speed: 0.9ms preprocess, 36.8ms inference, 0.6ms postprocess per image at shape (1, 3, 640, 640)\n",
      "\n",
      "0: 640x640 5 bornes, 5 proteccion-diferencials, 36.8ms\n",
      "Speed: 1.0ms preprocess, 36.8ms inference, 0.7ms postprocess per image at shape (1, 3, 640, 640)\n"
     ]
    },
    {
     "name": "stderr",
     "output_type": "stream",
     "text": [
      "Processing tiles:  27%|██▋       | 112/416 [00:06<00:12, 25.12it/s]"
     ]
    },
    {
     "name": "stdout",
     "output_type": "stream",
     "text": [
      "\n",
      "0: 640x640 5 bornes, 5 proteccion-diferencials, 36.7ms\n",
      "Speed: 1.0ms preprocess, 36.7ms inference, 0.7ms postprocess per image at shape (1, 3, 640, 640)\n",
      "\n",
      "0: 640x640 4 bornes, 5 proteccion-diferencials, 36.7ms\n",
      "Speed: 1.0ms preprocess, 36.7ms inference, 0.6ms postprocess per image at shape (1, 3, 640, 640)\n",
      "\n",
      "0: 640x640 4 bornes, 4 proteccion-diferencials, 36.8ms\n",
      "Speed: 0.9ms preprocess, 36.8ms inference, 0.6ms postprocess per image at shape (1, 3, 640, 640)\n"
     ]
    },
    {
     "name": "stderr",
     "output_type": "stream",
     "text": [
      "Processing tiles:  28%|██▊       | 115/416 [00:06<00:12, 25.05it/s]"
     ]
    },
    {
     "name": "stdout",
     "output_type": "stream",
     "text": [
      "\n",
      "0: 640x640 2 bornes, 2 proteccion-diferencials, 36.8ms\n",
      "Speed: 1.0ms preprocess, 36.8ms inference, 0.7ms postprocess per image at shape (1, 3, 640, 640)\n",
      "\n",
      "0: 640x640 4 bornes, 5 proteccion-diferencials, 36.9ms\n",
      "Speed: 1.0ms preprocess, 36.9ms inference, 0.6ms postprocess per image at shape (1, 3, 640, 640)\n",
      "\n",
      "0: 640x640 5 bornes, 5 proteccion-diferencials, 36.7ms\n",
      "Speed: 1.0ms preprocess, 36.7ms inference, 0.6ms postprocess per image at shape (1, 3, 640, 640)\n"
     ]
    },
    {
     "name": "stderr",
     "output_type": "stream",
     "text": [
      "Processing tiles:  28%|██▊       | 118/416 [00:06<00:11, 24.99it/s]"
     ]
    },
    {
     "name": "stdout",
     "output_type": "stream",
     "text": [
      "\n",
      "0: 640x640 4 bornes, 5 proteccion-diferencials, 36.7ms\n",
      "Speed: 0.9ms preprocess, 36.7ms inference, 0.7ms postprocess per image at shape (1, 3, 640, 640)\n",
      "\n",
      "0: 640x640 5 bornes, 5 proteccion-diferencials, 36.7ms\n",
      "Speed: 1.0ms preprocess, 36.7ms inference, 0.6ms postprocess per image at shape (1, 3, 640, 640)\n",
      "\n",
      "0: 640x640 2 bornes, 3 proteccion-diferencials, 36.8ms\n",
      "Speed: 0.9ms preprocess, 36.8ms inference, 0.6ms postprocess per image at shape (1, 3, 640, 640)\n"
     ]
    },
    {
     "name": "stderr",
     "output_type": "stream",
     "text": [
      "Processing tiles:  29%|██▉       | 121/416 [00:06<00:11, 24.97it/s]"
     ]
    },
    {
     "name": "stdout",
     "output_type": "stream",
     "text": [
      "\n",
      "0: 640x640 2 bornes, 1 luz-piloto, 2 proteccion-diferencials, 36.7ms\n",
      "Speed: 0.9ms preprocess, 36.7ms inference, 0.6ms postprocess per image at shape (1, 3, 640, 640)\n",
      "\n",
      "0: 640x640 2 bornes, 1 luz-piloto, 2 proteccion-diferencials, 36.7ms\n",
      "Speed: 0.9ms preprocess, 36.7ms inference, 0.6ms postprocess per image at shape (1, 3, 640, 640)\n",
      "\n",
      "0: 640x640 (no detections), 36.8ms\n",
      "Speed: 0.9ms preprocess, 36.8ms inference, 0.3ms postprocess per image at shape (1, 3, 640, 640)\n"
     ]
    },
    {
     "name": "stderr",
     "output_type": "stream",
     "text": [
      "Processing tiles:  30%|██▉       | 124/416 [00:06<00:11, 24.99it/s]"
     ]
    },
    {
     "name": "stdout",
     "output_type": "stream",
     "text": [
      "\n",
      "0: 640x640 (no detections), 37.3ms\n",
      "Speed: 0.9ms preprocess, 37.3ms inference, 0.3ms postprocess per image at shape (1, 3, 640, 640)\n",
      "\n",
      "0: 640x640 (no detections), 36.8ms\n",
      "Speed: 0.9ms preprocess, 36.8ms inference, 0.3ms postprocess per image at shape (1, 3, 640, 640)\n",
      "\n",
      "0: 640x640 (no detections), 36.7ms\n",
      "Speed: 0.9ms preprocess, 36.7ms inference, 0.3ms postprocess per image at shape (1, 3, 640, 640)\n"
     ]
    },
    {
     "name": "stderr",
     "output_type": "stream",
     "text": [
      "Processing tiles:  31%|███       | 127/416 [00:07<00:11, 25.08it/s]"
     ]
    },
    {
     "name": "stdout",
     "output_type": "stream",
     "text": [
      "\n",
      "0: 640x640 (no detections), 36.8ms\n",
      "Speed: 1.0ms preprocess, 36.8ms inference, 0.3ms postprocess per image at shape (1, 3, 640, 640)\n",
      "\n",
      "0: 640x640 (no detections), 36.9ms\n",
      "Speed: 1.0ms preprocess, 36.9ms inference, 0.3ms postprocess per image at shape (1, 3, 640, 640)\n",
      "\n",
      "0: 640x544 1 transformador-aislacion, 33.5ms\n",
      "Speed: 0.9ms preprocess, 33.5ms inference, 0.6ms postprocess per image at shape (1, 3, 640, 544)\n"
     ]
    },
    {
     "name": "stderr",
     "output_type": "stream",
     "text": [
      "Processing tiles:  31%|███▏      | 130/416 [00:07<00:11, 25.32it/s]"
     ]
    },
    {
     "name": "stdout",
     "output_type": "stream",
     "text": [
      "\n",
      "0: 640x640 (no detections), 37.0ms\n",
      "Speed: 0.9ms preprocess, 37.0ms inference, 0.3ms postprocess per image at shape (1, 3, 640, 640)\n",
      "\n",
      "0: 640x640 (no detections), 36.5ms\n",
      "Speed: 1.0ms preprocess, 36.5ms inference, 0.3ms postprocess per image at shape (1, 3, 640, 640)\n",
      "\n",
      "0: 640x640 (no detections), 36.5ms\n",
      "Speed: 1.0ms preprocess, 36.5ms inference, 0.3ms postprocess per image at shape (1, 3, 640, 640)\n"
     ]
    },
    {
     "name": "stderr",
     "output_type": "stream",
     "text": [
      "Processing tiles:  32%|███▏      | 133/416 [00:07<00:11, 25.32it/s]"
     ]
    },
    {
     "name": "stdout",
     "output_type": "stream",
     "text": [
      "\n",
      "0: 640x640 (no detections), 36.6ms\n",
      "Speed: 1.0ms preprocess, 36.6ms inference, 0.3ms postprocess per image at shape (1, 3, 640, 640)\n",
      "\n",
      "0: 640x640 (no detections), 36.6ms\n",
      "Speed: 1.0ms preprocess, 36.6ms inference, 0.3ms postprocess per image at shape (1, 3, 640, 640)\n",
      "\n",
      "0: 640x640 (no detections), 36.6ms\n",
      "Speed: 1.0ms preprocess, 36.6ms inference, 0.3ms postprocess per image at shape (1, 3, 640, 640)\n"
     ]
    },
    {
     "name": "stderr",
     "output_type": "stream",
     "text": [
      "Processing tiles:  33%|███▎      | 136/416 [00:07<00:11, 25.34it/s]"
     ]
    },
    {
     "name": "stdout",
     "output_type": "stream",
     "text": [
      "\n",
      "0: 640x640 (no detections), 36.6ms\n",
      "Speed: 1.0ms preprocess, 36.6ms inference, 0.3ms postprocess per image at shape (1, 3, 640, 640)\n",
      "\n",
      "0: 640x640 (no detections), 36.7ms\n",
      "Speed: 0.9ms preprocess, 36.7ms inference, 0.3ms postprocess per image at shape (1, 3, 640, 640)\n",
      "\n",
      "0: 640x640 (no detections), 36.7ms\n",
      "Speed: 0.9ms preprocess, 36.7ms inference, 0.3ms postprocess per image at shape (1, 3, 640, 640)\n"
     ]
    },
    {
     "name": "stderr",
     "output_type": "stream",
     "text": [
      "Processing tiles:  33%|███▎      | 139/416 [00:07<00:10, 25.35it/s]"
     ]
    },
    {
     "name": "stdout",
     "output_type": "stream",
     "text": [
      "\n",
      "0: 640x640 (no detections), 36.8ms\n",
      "Speed: 0.9ms preprocess, 36.8ms inference, 0.3ms postprocess per image at shape (1, 3, 640, 640)\n",
      "\n",
      "0: 640x640 (no detections), 36.9ms\n",
      "Speed: 0.9ms preprocess, 36.9ms inference, 0.3ms postprocess per image at shape (1, 3, 640, 640)\n",
      "\n",
      "0: 640x640 (no detections), 36.9ms\n",
      "Speed: 1.0ms preprocess, 36.9ms inference, 0.3ms postprocess per image at shape (1, 3, 640, 640)\n"
     ]
    },
    {
     "name": "stderr",
     "output_type": "stream",
     "text": [
      "Processing tiles:  34%|███▍      | 142/416 [00:07<00:10, 25.33it/s]"
     ]
    },
    {
     "name": "stdout",
     "output_type": "stream",
     "text": [
      "\n",
      "0: 640x640 (no detections), 36.8ms\n",
      "Speed: 0.9ms preprocess, 36.8ms inference, 0.3ms postprocess per image at shape (1, 3, 640, 640)\n",
      "\n",
      "0: 640x640 (no detections), 36.8ms\n",
      "Speed: 1.0ms preprocess, 36.8ms inference, 0.3ms postprocess per image at shape (1, 3, 640, 640)\n",
      "\n",
      "0: 640x640 (no detections), 36.8ms\n",
      "Speed: 0.9ms preprocess, 36.8ms inference, 0.3ms postprocess per image at shape (1, 3, 640, 640)\n"
     ]
    },
    {
     "name": "stderr",
     "output_type": "stream",
     "text": [
      "Processing tiles:  35%|███▍      | 145/416 [00:07<00:10, 25.34it/s]"
     ]
    },
    {
     "name": "stdout",
     "output_type": "stream",
     "text": [
      "\n",
      "0: 640x640 (no detections), 36.9ms\n",
      "Speed: 1.0ms preprocess, 36.9ms inference, 0.3ms postprocess per image at shape (1, 3, 640, 640)\n",
      "\n",
      "0: 640x640 (no detections), 36.9ms\n",
      "Speed: 1.0ms preprocess, 36.9ms inference, 0.3ms postprocess per image at shape (1, 3, 640, 640)\n",
      "\n",
      "0: 640x640 (no detections), 37.0ms\n",
      "Speed: 1.0ms preprocess, 37.0ms inference, 0.3ms postprocess per image at shape (1, 3, 640, 640)\n"
     ]
    },
    {
     "name": "stderr",
     "output_type": "stream",
     "text": [
      "Processing tiles:  36%|███▌      | 148/416 [00:07<00:10, 25.30it/s]"
     ]
    },
    {
     "name": "stdout",
     "output_type": "stream",
     "text": [
      "\n",
      "0: 640x640 (no detections), 36.9ms\n",
      "Speed: 0.9ms preprocess, 36.9ms inference, 0.3ms postprocess per image at shape (1, 3, 640, 640)\n",
      "\n",
      "0: 640x640 (no detections), 36.9ms\n",
      "Speed: 1.0ms preprocess, 36.9ms inference, 0.3ms postprocess per image at shape (1, 3, 640, 640)\n",
      "\n",
      "0: 640x640 (no detections), 36.7ms\n",
      "Speed: 1.0ms preprocess, 36.7ms inference, 0.3ms postprocess per image at shape (1, 3, 640, 640)\n"
     ]
    },
    {
     "name": "stderr",
     "output_type": "stream",
     "text": [
      "Processing tiles:  36%|███▋      | 151/416 [00:07<00:10, 25.30it/s]"
     ]
    },
    {
     "name": "stdout",
     "output_type": "stream",
     "text": [
      "\n",
      "0: 640x640 (no detections), 36.7ms\n",
      "Speed: 1.0ms preprocess, 36.7ms inference, 0.3ms postprocess per image at shape (1, 3, 640, 640)\n",
      "\n",
      "0: 640x640 (no detections), 36.7ms\n",
      "Speed: 0.9ms preprocess, 36.7ms inference, 0.3ms postprocess per image at shape (1, 3, 640, 640)\n",
      "\n",
      "0: 640x640 1 proteccion-termomagnetica, 36.8ms\n",
      "Speed: 1.0ms preprocess, 36.8ms inference, 0.6ms postprocess per image at shape (1, 3, 640, 640)\n"
     ]
    },
    {
     "name": "stderr",
     "output_type": "stream",
     "text": [
      "Processing tiles:  37%|███▋      | 154/416 [00:08<00:10, 25.29it/s]"
     ]
    },
    {
     "name": "stdout",
     "output_type": "stream",
     "text": [
      "\n",
      "0: 640x640 1 proteccion-termomagnetica, 36.8ms\n",
      "Speed: 1.0ms preprocess, 36.8ms inference, 0.6ms postprocess per image at shape (1, 3, 640, 640)\n",
      "\n",
      "0: 640x544 1 proteccion-termomagnetica, 2 transformador-aislacions, 33.4ms\n",
      "Speed: 0.9ms preprocess, 33.4ms inference, 0.6ms postprocess per image at shape (1, 3, 640, 544)\n",
      "\n",
      "0: 640x640 (no detections), 37.2ms\n",
      "Speed: 0.9ms preprocess, 37.2ms inference, 0.3ms postprocess per image at shape (1, 3, 640, 640)\n"
     ]
    },
    {
     "name": "stderr",
     "output_type": "stream",
     "text": [
      "Processing tiles:  38%|███▊      | 157/416 [00:08<00:10, 25.41it/s]"
     ]
    },
    {
     "name": "stdout",
     "output_type": "stream",
     "text": [
      "\n",
      "0: 640x640 (no detections), 36.8ms\n",
      "Speed: 0.9ms preprocess, 36.8ms inference, 0.3ms postprocess per image at shape (1, 3, 640, 640)\n",
      "\n",
      "0: 640x640 1 fusible, 37.0ms\n",
      "Speed: 0.9ms preprocess, 37.0ms inference, 0.6ms postprocess per image at shape (1, 3, 640, 640)\n",
      "\n",
      "0: 640x640 2 luz-pilotos, 1 proteccion-diferencial, 1 ventilador, 36.8ms\n",
      "Speed: 0.9ms preprocess, 36.8ms inference, 0.6ms postprocess per image at shape (1, 3, 640, 640)\n"
     ]
    },
    {
     "name": "stderr",
     "output_type": "stream",
     "text": [
      "Processing tiles:  38%|███▊      | 160/416 [00:08<00:10, 25.28it/s]"
     ]
    },
    {
     "name": "stdout",
     "output_type": "stream",
     "text": [
      "\n",
      "0: 640x640 1 puerto-comunicacion, 36.7ms\n",
      "Speed: 0.9ms preprocess, 36.7ms inference, 0.6ms postprocess per image at shape (1, 3, 640, 640)\n",
      "\n",
      "0: 640x640 (no detections), 36.7ms\n",
      "Speed: 1.0ms preprocess, 36.7ms inference, 0.3ms postprocess per image at shape (1, 3, 640, 640)\n",
      "\n",
      "0: 640x640 (no detections), 36.8ms\n",
      "Speed: 0.9ms preprocess, 36.8ms inference, 0.3ms postprocess per image at shape (1, 3, 640, 640)\n"
     ]
    },
    {
     "name": "stderr",
     "output_type": "stream",
     "text": [
      "Processing tiles:  39%|███▉      | 163/416 [00:08<00:10, 25.27it/s]"
     ]
    },
    {
     "name": "stdout",
     "output_type": "stream",
     "text": [
      "\n",
      "0: 640x640 (no detections), 36.8ms\n",
      "Speed: 1.0ms preprocess, 36.8ms inference, 0.3ms postprocess per image at shape (1, 3, 640, 640)\n",
      "\n",
      "0: 640x640 (no detections), 36.9ms\n",
      "Speed: 1.0ms preprocess, 36.9ms inference, 0.3ms postprocess per image at shape (1, 3, 640, 640)\n",
      "\n",
      "0: 640x640 (no detections), 36.8ms\n",
      "Speed: 0.9ms preprocess, 36.8ms inference, 0.3ms postprocess per image at shape (1, 3, 640, 640)\n"
     ]
    },
    {
     "name": "stderr",
     "output_type": "stream",
     "text": [
      "Processing tiles:  40%|███▉      | 166/416 [00:08<00:09, 25.27it/s]"
     ]
    },
    {
     "name": "stdout",
     "output_type": "stream",
     "text": [
      "\n",
      "0: 640x640 1 borne, 1 proteccion-termomagnetica, 36.8ms\n",
      "Speed: 0.9ms preprocess, 36.8ms inference, 0.6ms postprocess per image at shape (1, 3, 640, 640)\n",
      "\n",
      "0: 640x640 1 bloqueo, 1 equipo-de-medida, 2 fusibles, 3 luz-pilotos, 36.8ms\n",
      "Speed: 1.0ms preprocess, 36.8ms inference, 0.6ms postprocess per image at shape (1, 3, 640, 640)\n",
      "\n",
      "0: 640x640 (no detections), 36.7ms\n",
      "Speed: 0.9ms preprocess, 36.7ms inference, 0.3ms postprocess per image at shape (1, 3, 640, 640)\n"
     ]
    },
    {
     "name": "stderr",
     "output_type": "stream",
     "text": [
      "Processing tiles:  41%|████      | 169/416 [00:08<00:09, 25.21it/s]"
     ]
    },
    {
     "name": "stdout",
     "output_type": "stream",
     "text": [
      "\n",
      "0: 640x640 1 bloqueo, 36.7ms\n",
      "Speed: 1.0ms preprocess, 36.7ms inference, 0.6ms postprocess per image at shape (1, 3, 640, 640)\n",
      "\n",
      "0: 640x640 (no detections), 36.8ms\n",
      "Speed: 1.0ms preprocess, 36.8ms inference, 0.3ms postprocess per image at shape (1, 3, 640, 640)\n",
      "\n",
      "0: 640x640 (no detections), 36.8ms\n",
      "Speed: 0.9ms preprocess, 36.8ms inference, 0.3ms postprocess per image at shape (1, 3, 640, 640)\n"
     ]
    },
    {
     "name": "stderr",
     "output_type": "stream",
     "text": [
      "Processing tiles:  41%|████▏     | 172/416 [00:08<00:09, 25.18it/s]"
     ]
    },
    {
     "name": "stdout",
     "output_type": "stream",
     "text": [
      "\n",
      "0: 640x640 (no detections), 36.8ms\n",
      "Speed: 0.9ms preprocess, 36.8ms inference, 0.3ms postprocess per image at shape (1, 3, 640, 640)\n",
      "\n",
      "0: 640x640 (no detections), 36.9ms\n",
      "Speed: 1.0ms preprocess, 36.9ms inference, 0.3ms postprocess per image at shape (1, 3, 640, 640)\n",
      "\n",
      "0: 640x640 (no detections), 36.8ms\n",
      "Speed: 1.0ms preprocess, 36.8ms inference, 0.3ms postprocess per image at shape (1, 3, 640, 640)\n"
     ]
    },
    {
     "name": "stderr",
     "output_type": "stream",
     "text": [
      "Processing tiles:  42%|████▏     | 175/416 [00:08<00:09, 25.20it/s]"
     ]
    },
    {
     "name": "stdout",
     "output_type": "stream",
     "text": [
      "\n",
      "0: 640x640 (no detections), 36.7ms\n",
      "Speed: 1.0ms preprocess, 36.7ms inference, 0.3ms postprocess per image at shape (1, 3, 640, 640)\n",
      "\n",
      "0: 640x640 (no detections), 36.6ms\n",
      "Speed: 0.9ms preprocess, 36.6ms inference, 0.3ms postprocess per image at shape (1, 3, 640, 640)\n",
      "\n",
      "0: 640x640 (no detections), 36.5ms\n",
      "Speed: 0.9ms preprocess, 36.5ms inference, 0.3ms postprocess per image at shape (1, 3, 640, 640)\n"
     ]
    },
    {
     "name": "stderr",
     "output_type": "stream",
     "text": [
      "Processing tiles:  43%|████▎     | 178/416 [00:09<00:09, 25.26it/s]"
     ]
    },
    {
     "name": "stdout",
     "output_type": "stream",
     "text": [
      "\n",
      "0: 640x640 (no detections), 36.5ms\n",
      "Speed: 0.9ms preprocess, 36.5ms inference, 0.3ms postprocess per image at shape (1, 3, 640, 640)\n",
      "\n",
      "0: 640x640 2 proteccion-termomagneticas, 36.7ms\n",
      "Speed: 0.9ms preprocess, 36.7ms inference, 0.6ms postprocess per image at shape (1, 3, 640, 640)\n",
      "\n",
      "0: 640x640 (no detections), 36.8ms\n",
      "Speed: 0.9ms preprocess, 36.8ms inference, 0.3ms postprocess per image at shape (1, 3, 640, 640)\n"
     ]
    },
    {
     "name": "stderr",
     "output_type": "stream",
     "text": [
      "Processing tiles:  44%|████▎     | 181/416 [00:09<00:09, 25.26it/s]"
     ]
    },
    {
     "name": "stdout",
     "output_type": "stream",
     "text": [
      "\n",
      "0: 640x544 2 proteccion-termomagneticas, 33.4ms\n",
      "Speed: 0.9ms preprocess, 33.4ms inference, 0.6ms postprocess per image at shape (1, 3, 640, 544)\n",
      "\n",
      "0: 640x640 (no detections), 37.6ms\n",
      "Speed: 1.1ms preprocess, 37.6ms inference, 0.3ms postprocess per image at shape (1, 3, 640, 640)\n",
      "\n",
      "0: 640x640 (no detections), 36.7ms\n",
      "Speed: 1.0ms preprocess, 36.7ms inference, 0.3ms postprocess per image at shape (1, 3, 640, 640)\n"
     ]
    },
    {
     "name": "stderr",
     "output_type": "stream",
     "text": [
      "Processing tiles:  44%|████▍     | 184/416 [00:09<00:09, 25.41it/s]"
     ]
    },
    {
     "name": "stdout",
     "output_type": "stream",
     "text": [
      "\n",
      "0: 640x640 1 lampara, 36.7ms\n",
      "Speed: 1.0ms preprocess, 36.7ms inference, 0.6ms postprocess per image at shape (1, 3, 640, 640)\n",
      "\n",
      "0: 640x640 1 borne, 1 fusible, 36.7ms\n",
      "Speed: 0.9ms preprocess, 36.7ms inference, 0.6ms postprocess per image at shape (1, 3, 640, 640)\n",
      "\n",
      "0: 640x640 (no detections), 36.7ms\n",
      "Speed: 1.0ms preprocess, 36.7ms inference, 0.3ms postprocess per image at shape (1, 3, 640, 640)\n"
     ]
    },
    {
     "name": "stderr",
     "output_type": "stream",
     "text": [
      "Processing tiles:  45%|████▍     | 187/416 [00:09<00:09, 25.31it/s]"
     ]
    },
    {
     "name": "stdout",
     "output_type": "stream",
     "text": [
      "\n",
      "0: 640x640 (no detections), 36.7ms\n",
      "Speed: 0.9ms preprocess, 36.7ms inference, 0.3ms postprocess per image at shape (1, 3, 640, 640)\n",
      "\n",
      "0: 640x640 1 ventilador, 36.8ms\n",
      "Speed: 1.0ms preprocess, 36.8ms inference, 0.7ms postprocess per image at shape (1, 3, 640, 640)\n",
      "\n",
      "0: 640x640 (no detections), 36.7ms\n",
      "Speed: 0.9ms preprocess, 36.7ms inference, 0.3ms postprocess per image at shape (1, 3, 640, 640)\n"
     ]
    },
    {
     "name": "stderr",
     "output_type": "stream",
     "text": [
      "Processing tiles:  46%|████▌     | 190/416 [00:09<00:08, 25.28it/s]"
     ]
    },
    {
     "name": "stdout",
     "output_type": "stream",
     "text": [
      "\n",
      "0: 640x640 1 borne, 1 fusible, 36.7ms\n",
      "Speed: 1.0ms preprocess, 36.7ms inference, 0.6ms postprocess per image at shape (1, 3, 640, 640)\n",
      "\n",
      "0: 640x640 (no detections), 36.7ms\n",
      "Speed: 1.0ms preprocess, 36.7ms inference, 0.3ms postprocess per image at shape (1, 3, 640, 640)\n",
      "\n",
      "0: 640x640 1 proteccion-termomagnetica, 1 transformador-corriente, 36.8ms\n",
      "Speed: 1.0ms preprocess, 36.8ms inference, 0.6ms postprocess per image at shape (1, 3, 640, 640)\n"
     ]
    },
    {
     "name": "stderr",
     "output_type": "stream",
     "text": [
      "Processing tiles:  46%|████▋     | 193/416 [00:09<00:08, 25.23it/s]"
     ]
    },
    {
     "name": "stdout",
     "output_type": "stream",
     "text": [
      "\n",
      "0: 640x640 1 borne-cortocircuitable, 1 equipo-de-medida, 1 puerto-comunicacion, 36.8ms\n",
      "Speed: 0.9ms preprocess, 36.8ms inference, 0.6ms postprocess per image at shape (1, 3, 640, 640)\n",
      "\n",
      "0: 640x640 1 bloqueo, 1 puerto-comunicacion, 36.9ms\n",
      "Speed: 1.0ms preprocess, 36.9ms inference, 0.6ms postprocess per image at shape (1, 3, 640, 640)\n",
      "\n",
      "0: 640x640 (no detections), 36.7ms\n",
      "Speed: 1.0ms preprocess, 36.7ms inference, 0.3ms postprocess per image at shape (1, 3, 640, 640)\n"
     ]
    },
    {
     "name": "stderr",
     "output_type": "stream",
     "text": [
      "Processing tiles:  47%|████▋     | 196/416 [00:09<00:08, 25.17it/s]"
     ]
    },
    {
     "name": "stdout",
     "output_type": "stream",
     "text": [
      "\n",
      "0: 640x640 1 borne, 1 fusible, 36.8ms\n",
      "Speed: 0.9ms preprocess, 36.8ms inference, 0.6ms postprocess per image at shape (1, 3, 640, 640)\n",
      "\n",
      "0: 640x640 (no detections), 36.7ms\n",
      "Speed: 1.0ms preprocess, 36.7ms inference, 0.3ms postprocess per image at shape (1, 3, 640, 640)\n",
      "\n",
      "0: 640x640 (no detections), 36.8ms\n",
      "Speed: 1.0ms preprocess, 36.8ms inference, 0.3ms postprocess per image at shape (1, 3, 640, 640)\n"
     ]
    },
    {
     "name": "stderr",
     "output_type": "stream",
     "text": [
      "Processing tiles:  48%|████▊     | 199/416 [00:09<00:08, 25.19it/s]"
     ]
    },
    {
     "name": "stdout",
     "output_type": "stream",
     "text": [
      "\n",
      "0: 640x640 (no detections), 36.7ms\n",
      "Speed: 0.9ms preprocess, 36.7ms inference, 0.3ms postprocess per image at shape (1, 3, 640, 640)\n",
      "\n",
      "0: 640x640 1 fusible, 1 interruptor-puerta, 2 lamparas, 1 proteccion-termomagnetica, 1 ventilador, 36.8ms\n",
      "Speed: 1.0ms preprocess, 36.8ms inference, 0.6ms postprocess per image at shape (1, 3, 640, 640)\n",
      "\n",
      "0: 640x640 1 borne, 1 equipo-de-medida, 1 fusible, 1 puerto-comunicacion, 36.8ms\n",
      "Speed: 0.9ms preprocess, 36.8ms inference, 0.6ms postprocess per image at shape (1, 3, 640, 640)\n"
     ]
    },
    {
     "name": "stderr",
     "output_type": "stream",
     "text": [
      "Processing tiles:  49%|████▊     | 202/416 [00:09<00:08, 25.15it/s]"
     ]
    },
    {
     "name": "stdout",
     "output_type": "stream",
     "text": [
      "\n",
      "0: 640x640 (no detections), 36.7ms\n",
      "Speed: 1.0ms preprocess, 36.7ms inference, 0.3ms postprocess per image at shape (1, 3, 640, 640)\n",
      "\n",
      "0: 640x640 (no detections), 36.7ms\n",
      "Speed: 1.1ms preprocess, 36.7ms inference, 0.3ms postprocess per image at shape (1, 3, 640, 640)\n",
      "\n",
      "0: 640x640 (no detections), 36.7ms\n",
      "Speed: 0.9ms preprocess, 36.7ms inference, 0.3ms postprocess per image at shape (1, 3, 640, 640)\n"
     ]
    },
    {
     "name": "stderr",
     "output_type": "stream",
     "text": [
      "Processing tiles:  49%|████▉     | 205/416 [00:10<00:08, 25.21it/s]"
     ]
    },
    {
     "name": "stdout",
     "output_type": "stream",
     "text": [
      "\n",
      "0: 640x640 2 proteccion-termomagneticas, 36.7ms\n",
      "Speed: 0.9ms preprocess, 36.7ms inference, 0.6ms postprocess per image at shape (1, 3, 640, 640)\n",
      "\n",
      "0: 640x640 (no detections), 37.0ms\n",
      "Speed: 1.0ms preprocess, 37.0ms inference, 0.3ms postprocess per image at shape (1, 3, 640, 640)\n",
      "\n",
      "0: 640x544 1 proteccion-termomagnetica, 33.6ms\n",
      "Speed: 0.8ms preprocess, 33.6ms inference, 0.6ms postprocess per image at shape (1, 3, 640, 544)\n"
     ]
    },
    {
     "name": "stderr",
     "output_type": "stream",
     "text": [
      "Processing tiles:  50%|█████     | 208/416 [00:10<00:08, 25.40it/s]"
     ]
    },
    {
     "name": "stdout",
     "output_type": "stream",
     "text": [
      "\n",
      "0: 640x640 (no detections), 37.4ms\n",
      "Speed: 1.0ms preprocess, 37.4ms inference, 0.3ms postprocess per image at shape (1, 3, 640, 640)\n",
      "\n",
      "0: 640x640 (no detections), 36.8ms\n",
      "Speed: 1.0ms preprocess, 36.8ms inference, 0.3ms postprocess per image at shape (1, 3, 640, 640)\n",
      "\n",
      "0: 640x640 1 proteccion-diferencial, 1 proteccion-termomagnetica, 37.0ms\n",
      "Speed: 1.0ms preprocess, 37.0ms inference, 0.6ms postprocess per image at shape (1, 3, 640, 640)\n"
     ]
    },
    {
     "name": "stderr",
     "output_type": "stream",
     "text": [
      "Processing tiles:  51%|█████     | 211/416 [00:10<00:08, 25.28it/s]"
     ]
    },
    {
     "name": "stdout",
     "output_type": "stream",
     "text": [
      "\n",
      "0: 640x640 1 borne-cortocircuitable, 1 equipo-de-medida, 4 proteccion-diferencials, 4 proteccion-termomagneticas, 1 transformador-corriente, 36.7ms\n",
      "Speed: 0.9ms preprocess, 36.7ms inference, 0.6ms postprocess per image at shape (1, 3, 640, 640)\n",
      "\n",
      "0: 640x640 1 equipo-de-medida, 5 proteccion-diferencials, 5 proteccion-termomagneticas, 1 puerto-comunicacion, 36.9ms\n",
      "Speed: 1.0ms preprocess, 36.9ms inference, 0.6ms postprocess per image at shape (1, 3, 640, 640)\n",
      "\n",
      "0: 640x640 1 equipo-de-medida, 2 proteccion-diferencials, 2 proteccion-termomagneticas, 36.9ms\n",
      "Speed: 1.1ms preprocess, 36.9ms inference, 0.6ms postprocess per image at shape (1, 3, 640, 640)\n"
     ]
    },
    {
     "name": "stderr",
     "output_type": "stream",
     "text": [
      "Processing tiles:  51%|█████▏    | 214/416 [00:10<00:08, 25.15it/s]"
     ]
    },
    {
     "name": "stdout",
     "output_type": "stream",
     "text": [
      "\n",
      "0: 640x640 5 proteccion-diferencials, 5 proteccion-termomagneticas, 36.9ms\n",
      "Speed: 0.9ms preprocess, 36.9ms inference, 0.6ms postprocess per image at shape (1, 3, 640, 640)\n",
      "\n",
      "0: 640x640 5 proteccion-diferencials, 4 proteccion-termomagneticas, 36.9ms\n",
      "Speed: 0.9ms preprocess, 36.9ms inference, 0.6ms postprocess per image at shape (1, 3, 640, 640)\n",
      "\n",
      "0: 640x640 1 borne-cortocircuitable, 1 equipo-de-medida, 5 proteccion-diferencials, 6 proteccion-termomagneticas, 1 transformador-corriente, 36.8ms\n",
      "Speed: 1.0ms preprocess, 36.8ms inference, 0.7ms postprocess per image at shape (1, 3, 640, 640)\n"
     ]
    },
    {
     "name": "stderr",
     "output_type": "stream",
     "text": [
      "Processing tiles:  52%|█████▏    | 217/416 [00:10<00:07, 25.06it/s]"
     ]
    },
    {
     "name": "stdout",
     "output_type": "stream",
     "text": [
      "\n",
      "0: 640x640 1 equipo-de-medida, 4 proteccion-diferencials, 4 proteccion-termomagneticas, 1 puerto-comunicacion, 36.9ms\n",
      "Speed: 1.0ms preprocess, 36.9ms inference, 0.6ms postprocess per image at shape (1, 3, 640, 640)\n",
      "\n",
      "0: 640x640 5 proteccion-diferencials, 5 proteccion-termomagneticas, 36.8ms\n",
      "Speed: 1.0ms preprocess, 36.8ms inference, 0.6ms postprocess per image at shape (1, 3, 640, 640)\n",
      "\n",
      "0: 640x640 4 proteccion-diferencials, 4 proteccion-termomagneticas, 36.8ms\n",
      "Speed: 1.0ms preprocess, 36.8ms inference, 0.6ms postprocess per image at shape (1, 3, 640, 640)\n"
     ]
    },
    {
     "name": "stderr",
     "output_type": "stream",
     "text": [
      "Processing tiles:  53%|█████▎    | 220/416 [00:10<00:07, 25.01it/s]"
     ]
    },
    {
     "name": "stdout",
     "output_type": "stream",
     "text": [
      "\n",
      "0: 640x640 5 proteccion-diferencials, 4 proteccion-termomagneticas, 36.8ms\n",
      "Speed: 0.9ms preprocess, 36.8ms inference, 0.7ms postprocess per image at shape (1, 3, 640, 640)\n",
      "\n",
      "0: 640x640 5 proteccion-diferencials, 5 proteccion-termomagneticas, 36.7ms\n",
      "Speed: 1.0ms preprocess, 36.7ms inference, 0.7ms postprocess per image at shape (1, 3, 640, 640)\n",
      "\n",
      "0: 640x640 1 borne-cortocircuitable, 5 proteccion-diferencials, 6 proteccion-termomagneticas, 1 transformador-corriente, 36.8ms\n",
      "Speed: 1.0ms preprocess, 36.8ms inference, 0.6ms postprocess per image at shape (1, 3, 640, 640)\n"
     ]
    },
    {
     "name": "stderr",
     "output_type": "stream",
     "text": [
      "Processing tiles:  54%|█████▎    | 223/416 [00:10<00:07, 24.98it/s]"
     ]
    },
    {
     "name": "stdout",
     "output_type": "stream",
     "text": [
      "\n",
      "0: 640x640 1 equipo-de-medida, 5 proteccion-diferencials, 4 proteccion-termomagneticas, 1 puerto-comunicacion, 36.9ms\n",
      "Speed: 1.0ms preprocess, 36.9ms inference, 0.6ms postprocess per image at shape (1, 3, 640, 640)\n",
      "\n",
      "0: 640x640 5 proteccion-diferencials, 5 proteccion-termomagneticas, 36.9ms\n",
      "Speed: 1.0ms preprocess, 36.9ms inference, 0.7ms postprocess per image at shape (1, 3, 640, 640)\n",
      "\n",
      "0: 640x640 4 proteccion-diferencials, 4 proteccion-termomagneticas, 36.8ms\n",
      "Speed: 1.0ms preprocess, 36.8ms inference, 0.6ms postprocess per image at shape (1, 3, 640, 640)\n"
     ]
    },
    {
     "name": "stderr",
     "output_type": "stream",
     "text": [
      "Processing tiles:  54%|█████▍    | 226/416 [00:10<00:07, 24.94it/s]"
     ]
    },
    {
     "name": "stdout",
     "output_type": "stream",
     "text": [
      "\n",
      "0: 640x640 2 proteccion-diferencials, 3 proteccion-termomagneticas, 1 transformador-corriente, 36.7ms\n",
      "Speed: 0.9ms preprocess, 36.7ms inference, 0.7ms postprocess per image at shape (1, 3, 640, 640)\n",
      "\n",
      "0: 640x640 1 borne-cortocircuitable, 1 equipo-de-medida, 1 proteccion-diferencial, 1 proteccion-termomagnetica, 1 puerto-comunicacion, 36.8ms\n",
      "Speed: 0.9ms preprocess, 36.8ms inference, 0.7ms postprocess per image at shape (1, 3, 640, 640)\n",
      "\n",
      "0: 640x640 (no detections), 36.8ms\n",
      "Speed: 1.0ms preprocess, 36.8ms inference, 0.3ms postprocess per image at shape (1, 3, 640, 640)\n"
     ]
    },
    {
     "name": "stderr",
     "output_type": "stream",
     "text": [
      "Processing tiles:  55%|█████▌    | 229/416 [00:11<00:07, 24.96it/s]"
     ]
    },
    {
     "name": "stdout",
     "output_type": "stream",
     "text": [
      "\n",
      "0: 640x640 (no detections), 36.7ms\n",
      "Speed: 1.0ms preprocess, 36.7ms inference, 0.3ms postprocess per image at shape (1, 3, 640, 640)\n",
      "\n",
      "0: 640x640 (no detections), 36.7ms\n",
      "Speed: 0.9ms preprocess, 36.7ms inference, 0.3ms postprocess per image at shape (1, 3, 640, 640)\n",
      "\n",
      "0: 640x640 (no detections), 36.8ms\n",
      "Speed: 0.9ms preprocess, 36.8ms inference, 0.3ms postprocess per image at shape (1, 3, 640, 640)\n"
     ]
    },
    {
     "name": "stderr",
     "output_type": "stream",
     "text": [
      "Processing tiles:  56%|█████▌    | 232/416 [00:11<00:07, 25.08it/s]"
     ]
    },
    {
     "name": "stdout",
     "output_type": "stream",
     "text": [
      "\n",
      "0: 640x640 (no detections), 37.0ms\n",
      "Speed: 0.9ms preprocess, 37.0ms inference, 0.3ms postprocess per image at shape (1, 3, 640, 640)\n",
      "\n",
      "0: 640x544 (no detections), 33.7ms\n",
      "Speed: 0.9ms preprocess, 33.7ms inference, 0.3ms postprocess per image at shape (1, 3, 640, 544)\n",
      "\n",
      "0: 640x640 (no detections), 37.5ms\n",
      "Speed: 1.0ms preprocess, 37.5ms inference, 0.3ms postprocess per image at shape (1, 3, 640, 640)\n"
     ]
    },
    {
     "name": "stderr",
     "output_type": "stream",
     "text": [
      "Processing tiles:  56%|█████▋    | 235/416 [00:11<00:07, 25.30it/s]"
     ]
    },
    {
     "name": "stdout",
     "output_type": "stream",
     "text": [
      "\n",
      "0: 640x640 2 transformador-corrientes, 36.9ms\n",
      "Speed: 1.0ms preprocess, 36.9ms inference, 0.6ms postprocess per image at shape (1, 3, 640, 640)\n",
      "\n",
      "0: 640x640 1 actuador-knx, 1 borne, 1 proteccion-diferencial, 36.9ms\n",
      "Speed: 0.9ms preprocess, 36.9ms inference, 0.6ms postprocess per image at shape (1, 3, 640, 640)\n",
      "\n",
      "0: 640x640 3 bornes, 4 proteccion-diferencials, 36.9ms\n",
      "Speed: 0.9ms preprocess, 36.9ms inference, 0.6ms postprocess per image at shape (1, 3, 640, 640)\n"
     ]
    },
    {
     "name": "stderr",
     "output_type": "stream",
     "text": [
      "Processing tiles:  57%|█████▋    | 238/416 [00:11<00:07, 25.16it/s]"
     ]
    },
    {
     "name": "stdout",
     "output_type": "stream",
     "text": [
      "\n",
      "0: 640x640 5 bornes, 5 proteccion-diferencials, 36.9ms\n",
      "Speed: 1.0ms preprocess, 36.9ms inference, 0.6ms postprocess per image at shape (1, 3, 640, 640)\n",
      "\n",
      "0: 640x640 1 borne, 1 fuente-knx, 2 proteccion-diferencials, 36.9ms\n",
      "Speed: 0.9ms preprocess, 36.9ms inference, 0.6ms postprocess per image at shape (1, 3, 640, 640)\n",
      "\n",
      "0: 640x640 5 bornes, 5 proteccion-diferencials, 36.9ms\n",
      "Speed: 1.0ms preprocess, 36.9ms inference, 0.6ms postprocess per image at shape (1, 3, 640, 640)\n"
     ]
    },
    {
     "name": "stderr",
     "output_type": "stream",
     "text": [
      "Processing tiles:  58%|█████▊    | 241/416 [00:11<00:06, 25.06it/s]"
     ]
    },
    {
     "name": "stdout",
     "output_type": "stream",
     "text": [
      "\n",
      "0: 640x640 4 bornes, 5 proteccion-diferencials, 36.8ms\n",
      "Speed: 1.0ms preprocess, 36.8ms inference, 0.6ms postprocess per image at shape (1, 3, 640, 640)\n",
      "\n",
      "0: 640x640 5 bornes, 5 proteccion-diferencials, 36.9ms\n",
      "Speed: 1.0ms preprocess, 36.9ms inference, 0.6ms postprocess per image at shape (1, 3, 640, 640)\n",
      "\n",
      "0: 640x640 4 bornes, 4 proteccion-diferencials, 36.9ms\n",
      "Speed: 0.9ms preprocess, 36.9ms inference, 0.6ms postprocess per image at shape (1, 3, 640, 640)\n"
     ]
    },
    {
     "name": "stderr",
     "output_type": "stream",
     "text": [
      "Processing tiles:  59%|█████▊    | 244/416 [00:11<00:06, 25.00it/s]"
     ]
    },
    {
     "name": "stdout",
     "output_type": "stream",
     "text": [
      "\n",
      "0: 640x640 5 bornes, 5 proteccion-diferencials, 36.9ms\n",
      "Speed: 0.9ms preprocess, 36.9ms inference, 0.6ms postprocess per image at shape (1, 3, 640, 640)\n",
      "\n",
      "0: 640x640 4 bornes, 4 proteccion-diferencials, 36.9ms\n",
      "Speed: 1.0ms preprocess, 36.9ms inference, 0.6ms postprocess per image at shape (1, 3, 640, 640)\n",
      "\n",
      "0: 640x640 4 bornes, 6 proteccion-diferencials, 36.9ms\n",
      "Speed: 1.0ms preprocess, 36.9ms inference, 0.6ms postprocess per image at shape (1, 3, 640, 640)\n"
     ]
    },
    {
     "name": "stderr",
     "output_type": "stream",
     "text": [
      "Processing tiles:  59%|█████▉    | 247/416 [00:11<00:06, 24.96it/s]"
     ]
    },
    {
     "name": "stdout",
     "output_type": "stream",
     "text": [
      "\n",
      "0: 640x640 5 bornes, 5 proteccion-diferencials, 36.9ms\n",
      "Speed: 0.9ms preprocess, 36.9ms inference, 0.6ms postprocess per image at shape (1, 3, 640, 640)\n",
      "\n",
      "0: 640x640 5 bornes, 5 proteccion-diferencials, 36.9ms\n",
      "Speed: 0.9ms preprocess, 36.9ms inference, 0.7ms postprocess per image at shape (1, 3, 640, 640)\n",
      "\n",
      "0: 640x640 4 bornes, 5 proteccion-diferencials, 36.9ms\n",
      "Speed: 0.9ms preprocess, 36.9ms inference, 0.6ms postprocess per image at shape (1, 3, 640, 640)\n"
     ]
    },
    {
     "name": "stderr",
     "output_type": "stream",
     "text": [
      "Processing tiles:  60%|██████    | 250/416 [00:11<00:06, 24.94it/s]"
     ]
    },
    {
     "name": "stdout",
     "output_type": "stream",
     "text": [
      "\n",
      "0: 640x640 5 bornes, 5 proteccion-diferencials, 36.9ms\n",
      "Speed: 1.0ms preprocess, 36.9ms inference, 0.6ms postprocess per image at shape (1, 3, 640, 640)\n",
      "\n",
      "0: 640x640 4 bornes, 4 proteccion-diferencials, 36.8ms\n",
      "Speed: 1.1ms preprocess, 36.8ms inference, 0.6ms postprocess per image at shape (1, 3, 640, 640)\n",
      "\n",
      "0: 640x640 2 bornes, 2 proteccion-diferencials, 36.9ms\n",
      "Speed: 1.0ms preprocess, 36.9ms inference, 0.6ms postprocess per image at shape (1, 3, 640, 640)\n"
     ]
    },
    {
     "name": "stderr",
     "output_type": "stream",
     "text": [
      "Processing tiles:  61%|██████    | 253/416 [00:12<00:06, 24.93it/s]"
     ]
    },
    {
     "name": "stdout",
     "output_type": "stream",
     "text": [
      "\n",
      "0: 640x640 1 borne, 1 proteccion-diferencial, 36.8ms\n",
      "Speed: 0.9ms preprocess, 36.8ms inference, 0.7ms postprocess per image at shape (1, 3, 640, 640)\n",
      "\n",
      "0: 640x640 (no detections), 36.7ms\n",
      "Speed: 0.9ms preprocess, 36.7ms inference, 0.3ms postprocess per image at shape (1, 3, 640, 640)\n",
      "\n",
      "0: 640x640 (no detections), 36.8ms\n",
      "Speed: 1.0ms preprocess, 36.8ms inference, 0.3ms postprocess per image at shape (1, 3, 640, 640)\n"
     ]
    },
    {
     "name": "stderr",
     "output_type": "stream",
     "text": [
      "Processing tiles:  62%|██████▏   | 256/416 [00:12<00:06, 25.00it/s]"
     ]
    },
    {
     "name": "stdout",
     "output_type": "stream",
     "text": [
      "\n",
      "0: 640x640 (no detections), 36.7ms\n",
      "Speed: 0.9ms preprocess, 36.7ms inference, 0.3ms postprocess per image at shape (1, 3, 640, 640)\n",
      "\n",
      "0: 640x640 (no detections), 36.8ms\n",
      "Speed: 1.0ms preprocess, 36.8ms inference, 0.3ms postprocess per image at shape (1, 3, 640, 640)\n",
      "\n",
      "0: 640x640 (no detections), 37.0ms\n",
      "Speed: 1.0ms preprocess, 37.0ms inference, 0.3ms postprocess per image at shape (1, 3, 640, 640)\n"
     ]
    },
    {
     "name": "stderr",
     "output_type": "stream",
     "text": [
      "Processing tiles:  62%|██████▏   | 259/416 [00:12<00:06, 25.09it/s]"
     ]
    },
    {
     "name": "stdout",
     "output_type": "stream",
     "text": [
      "\n",
      "0: 640x544 (no detections), 33.7ms\n",
      "Speed: 0.9ms preprocess, 33.7ms inference, 0.3ms postprocess per image at shape (1, 3, 640, 544)\n",
      "\n",
      "0: 640x640 (no detections), 37.6ms\n",
      "Speed: 1.0ms preprocess, 37.6ms inference, 0.3ms postprocess per image at shape (1, 3, 640, 640)\n",
      "\n",
      "0: 640x640 (no detections), 36.9ms\n",
      "Speed: 0.9ms preprocess, 36.9ms inference, 0.3ms postprocess per image at shape (1, 3, 640, 640)\n"
     ]
    },
    {
     "name": "stderr",
     "output_type": "stream",
     "text": [
      "Processing tiles:  63%|██████▎   | 262/416 [00:12<00:06, 25.28it/s]"
     ]
    },
    {
     "name": "stdout",
     "output_type": "stream",
     "text": [
      "\n",
      "0: 640x640 1 fuente-knx, 36.9ms\n",
      "Speed: 1.1ms preprocess, 36.9ms inference, 0.6ms postprocess per image at shape (1, 3, 640, 640)\n",
      "\n",
      "0: 640x640 (no detections), 36.9ms\n",
      "Speed: 1.0ms preprocess, 36.9ms inference, 0.3ms postprocess per image at shape (1, 3, 640, 640)\n",
      "\n",
      "0: 640x640 (no detections), 37.0ms\n",
      "Speed: 0.9ms preprocess, 37.0ms inference, 0.3ms postprocess per image at shape (1, 3, 640, 640)\n"
     ]
    },
    {
     "name": "stderr",
     "output_type": "stream",
     "text": [
      "Processing tiles:  64%|██████▎   | 265/416 [00:12<00:05, 25.22it/s]"
     ]
    },
    {
     "name": "stdout",
     "output_type": "stream",
     "text": [
      "\n",
      "0: 640x640 (no detections), 36.8ms\n",
      "Speed: 1.0ms preprocess, 36.8ms inference, 0.3ms postprocess per image at shape (1, 3, 640, 640)\n",
      "\n",
      "0: 640x640 (no detections), 36.9ms\n",
      "Speed: 0.9ms preprocess, 36.9ms inference, 0.3ms postprocess per image at shape (1, 3, 640, 640)\n",
      "\n",
      "0: 640x640 (no detections), 36.9ms\n",
      "Speed: 1.0ms preprocess, 36.9ms inference, 0.3ms postprocess per image at shape (1, 3, 640, 640)\n"
     ]
    },
    {
     "name": "stderr",
     "output_type": "stream",
     "text": [
      "Processing tiles:  64%|██████▍   | 268/416 [00:12<00:05, 25.22it/s]"
     ]
    },
    {
     "name": "stdout",
     "output_type": "stream",
     "text": [
      "\n",
      "0: 640x640 (no detections), 36.8ms\n",
      "Speed: 1.0ms preprocess, 36.8ms inference, 0.3ms postprocess per image at shape (1, 3, 640, 640)\n",
      "\n",
      "0: 640x640 (no detections), 36.7ms\n",
      "Speed: 1.0ms preprocess, 36.7ms inference, 0.3ms postprocess per image at shape (1, 3, 640, 640)\n",
      "\n",
      "0: 640x640 (no detections), 36.6ms\n",
      "Speed: 1.0ms preprocess, 36.6ms inference, 0.3ms postprocess per image at shape (1, 3, 640, 640)\n"
     ]
    },
    {
     "name": "stderr",
     "output_type": "stream",
     "text": [
      "Processing tiles:  65%|██████▌   | 271/416 [00:12<00:05, 25.26it/s]"
     ]
    },
    {
     "name": "stdout",
     "output_type": "stream",
     "text": [
      "\n",
      "0: 640x640 (no detections), 36.7ms\n",
      "Speed: 0.9ms preprocess, 36.7ms inference, 0.3ms postprocess per image at shape (1, 3, 640, 640)\n",
      "\n",
      "0: 640x640 (no detections), 36.8ms\n",
      "Speed: 0.9ms preprocess, 36.8ms inference, 0.3ms postprocess per image at shape (1, 3, 640, 640)\n",
      "\n",
      "0: 640x640 (no detections), 36.8ms\n",
      "Speed: 1.0ms preprocess, 36.8ms inference, 0.3ms postprocess per image at shape (1, 3, 640, 640)\n"
     ]
    },
    {
     "name": "stderr",
     "output_type": "stream",
     "text": [
      "Processing tiles:  66%|██████▌   | 274/416 [00:12<00:05, 25.28it/s]"
     ]
    },
    {
     "name": "stdout",
     "output_type": "stream",
     "text": [
      "\n",
      "0: 640x640 (no detections), 36.8ms\n",
      "Speed: 0.9ms preprocess, 36.8ms inference, 0.3ms postprocess per image at shape (1, 3, 640, 640)\n",
      "\n",
      "0: 640x640 (no detections), 36.9ms\n",
      "Speed: 1.0ms preprocess, 36.9ms inference, 0.3ms postprocess per image at shape (1, 3, 640, 640)\n",
      "\n",
      "0: 640x640 (no detections), 37.0ms\n",
      "Speed: 1.0ms preprocess, 37.0ms inference, 0.3ms postprocess per image at shape (1, 3, 640, 640)\n"
     ]
    },
    {
     "name": "stderr",
     "output_type": "stream",
     "text": [
      "Processing tiles:  67%|██████▋   | 277/416 [00:12<00:05, 25.27it/s]"
     ]
    },
    {
     "name": "stdout",
     "output_type": "stream",
     "text": [
      "\n",
      "0: 640x640 (no detections), 36.9ms\n",
      "Speed: 0.9ms preprocess, 36.9ms inference, 0.3ms postprocess per image at shape (1, 3, 640, 640)\n",
      "\n",
      "0: 640x640 1 luz-piloto, 36.9ms\n",
      "Speed: 1.0ms preprocess, 36.9ms inference, 0.6ms postprocess per image at shape (1, 3, 640, 640)\n",
      "\n",
      "0: 640x640 (no detections), 36.7ms\n",
      "Speed: 1.0ms preprocess, 36.7ms inference, 0.3ms postprocess per image at shape (1, 3, 640, 640)\n"
     ]
    },
    {
     "name": "stderr",
     "output_type": "stream",
     "text": [
      "Processing tiles:  67%|██████▋   | 280/416 [00:13<00:05, 25.25it/s]"
     ]
    },
    {
     "name": "stdout",
     "output_type": "stream",
     "text": [
      "\n",
      "0: 640x640 (no detections), 36.7ms\n",
      "Speed: 1.0ms preprocess, 36.7ms inference, 0.3ms postprocess per image at shape (1, 3, 640, 640)\n",
      "\n",
      "0: 640x640 (no detections), 36.7ms\n",
      "Speed: 1.0ms preprocess, 36.7ms inference, 0.3ms postprocess per image at shape (1, 3, 640, 640)\n",
      "\n",
      "0: 640x640 (no detections), 36.7ms\n",
      "Speed: 0.9ms preprocess, 36.7ms inference, 0.3ms postprocess per image at shape (1, 3, 640, 640)\n"
     ]
    },
    {
     "name": "stderr",
     "output_type": "stream",
     "text": [
      "Processing tiles:  68%|██████▊   | 283/416 [00:13<00:05, 25.28it/s]"
     ]
    },
    {
     "name": "stdout",
     "output_type": "stream",
     "text": [
      "\n",
      "0: 640x640 1 proteccion-termomagnetica, 37.0ms\n",
      "Speed: 0.9ms preprocess, 37.0ms inference, 0.7ms postprocess per image at shape (1, 3, 640, 640)\n",
      "\n",
      "0: 640x640 2 proteccion-termomagneticas, 37.0ms\n",
      "Speed: 1.0ms preprocess, 37.0ms inference, 0.6ms postprocess per image at shape (1, 3, 640, 640)\n",
      "\n",
      "0: 640x544 (no detections), 33.5ms\n",
      "Speed: 0.8ms preprocess, 33.5ms inference, 0.3ms postprocess per image at shape (1, 3, 640, 544)\n"
     ]
    },
    {
     "name": "stderr",
     "output_type": "stream",
     "text": [
      "Processing tiles:  69%|██████▉   | 286/416 [00:13<00:05, 25.40it/s]"
     ]
    },
    {
     "name": "stdout",
     "output_type": "stream",
     "text": [
      "\n",
      "0: 640x640 (no detections), 38.0ms\n",
      "Speed: 1.0ms preprocess, 38.0ms inference, 0.3ms postprocess per image at shape (1, 3, 640, 640)\n",
      "\n",
      "0: 640x640 (no detections), 36.8ms\n",
      "Speed: 1.0ms preprocess, 36.8ms inference, 0.3ms postprocess per image at shape (1, 3, 640, 640)\n",
      "\n",
      "0: 640x640 (no detections), 36.7ms\n",
      "Speed: 0.9ms preprocess, 36.7ms inference, 0.3ms postprocess per image at shape (1, 3, 640, 640)\n"
     ]
    },
    {
     "name": "stderr",
     "output_type": "stream",
     "text": [
      "Processing tiles:  69%|██████▉   | 289/416 [00:13<00:05, 25.30it/s]"
     ]
    },
    {
     "name": "stdout",
     "output_type": "stream",
     "text": [
      "\n",
      "0: 640x640 (no detections), 36.7ms\n",
      "Speed: 1.0ms preprocess, 36.7ms inference, 0.3ms postprocess per image at shape (1, 3, 640, 640)\n",
      "\n",
      "0: 640x640 (no detections), 36.8ms\n",
      "Speed: 0.9ms preprocess, 36.8ms inference, 0.3ms postprocess per image at shape (1, 3, 640, 640)\n",
      "\n",
      "0: 640x640 (no detections), 36.8ms\n",
      "Speed: 1.0ms preprocess, 36.8ms inference, 0.3ms postprocess per image at shape (1, 3, 640, 640)\n"
     ]
    },
    {
     "name": "stderr",
     "output_type": "stream",
     "text": [
      "Processing tiles:  70%|███████   | 292/416 [00:13<00:04, 25.31it/s]"
     ]
    },
    {
     "name": "stdout",
     "output_type": "stream",
     "text": [
      "\n",
      "0: 640x640 (no detections), 36.7ms\n",
      "Speed: 0.9ms preprocess, 36.7ms inference, 0.3ms postprocess per image at shape (1, 3, 640, 640)\n",
      "\n",
      "0: 640x640 (no detections), 36.7ms\n",
      "Speed: 0.9ms preprocess, 36.7ms inference, 0.3ms postprocess per image at shape (1, 3, 640, 640)\n",
      "\n",
      "0: 640x640 (no detections), 36.7ms\n",
      "Speed: 1.0ms preprocess, 36.7ms inference, 0.3ms postprocess per image at shape (1, 3, 640, 640)\n"
     ]
    },
    {
     "name": "stderr",
     "output_type": "stream",
     "text": [
      "Processing tiles:  71%|███████   | 295/416 [00:13<00:04, 25.32it/s]"
     ]
    },
    {
     "name": "stdout",
     "output_type": "stream",
     "text": [
      "\n",
      "0: 640x640 (no detections), 36.7ms\n",
      "Speed: 1.0ms preprocess, 36.7ms inference, 0.3ms postprocess per image at shape (1, 3, 640, 640)\n",
      "\n",
      "0: 640x640 (no detections), 36.8ms\n",
      "Speed: 1.0ms preprocess, 36.8ms inference, 0.3ms postprocess per image at shape (1, 3, 640, 640)\n",
      "\n",
      "0: 640x640 (no detections), 36.8ms\n",
      "Speed: 1.0ms preprocess, 36.8ms inference, 0.3ms postprocess per image at shape (1, 3, 640, 640)\n"
     ]
    },
    {
     "name": "stderr",
     "output_type": "stream",
     "text": [
      "Processing tiles:  72%|███████▏  | 298/416 [00:13<00:04, 25.30it/s]"
     ]
    },
    {
     "name": "stdout",
     "output_type": "stream",
     "text": [
      "\n",
      "0: 640x640 (no detections), 36.8ms\n",
      "Speed: 1.1ms preprocess, 36.8ms inference, 0.3ms postprocess per image at shape (1, 3, 640, 640)\n",
      "\n",
      "0: 640x640 (no detections), 36.8ms\n",
      "Speed: 1.0ms preprocess, 36.8ms inference, 0.3ms postprocess per image at shape (1, 3, 640, 640)\n",
      "\n",
      "0: 640x640 (no detections), 36.7ms\n",
      "Speed: 1.0ms preprocess, 36.7ms inference, 0.3ms postprocess per image at shape (1, 3, 640, 640)\n"
     ]
    },
    {
     "name": "stderr",
     "output_type": "stream",
     "text": [
      "Processing tiles:  72%|███████▏  | 301/416 [00:13<00:04, 25.29it/s]"
     ]
    },
    {
     "name": "stdout",
     "output_type": "stream",
     "text": [
      "\n",
      "0: 640x640 (no detections), 36.8ms\n",
      "Speed: 1.0ms preprocess, 36.8ms inference, 0.3ms postprocess per image at shape (1, 3, 640, 640)\n",
      "\n",
      "0: 640x640 1 fusible, 3 luz-pilotos, 2 proteccion-termomagneticas, 36.8ms\n",
      "Speed: 0.9ms preprocess, 36.8ms inference, 0.6ms postprocess per image at shape (1, 3, 640, 640)\n",
      "\n",
      "0: 640x640 (no detections), 36.9ms\n",
      "Speed: 1.0ms preprocess, 36.9ms inference, 0.3ms postprocess per image at shape (1, 3, 640, 640)\n"
     ]
    },
    {
     "name": "stderr",
     "output_type": "stream",
     "text": [
      "Processing tiles:  73%|███████▎  | 304/416 [00:14<00:04, 25.25it/s]"
     ]
    },
    {
     "name": "stdout",
     "output_type": "stream",
     "text": [
      "\n",
      "0: 640x640 (no detections), 36.8ms\n",
      "Speed: 1.0ms preprocess, 36.8ms inference, 0.3ms postprocess per image at shape (1, 3, 640, 640)\n",
      "\n",
      "0: 640x640 1 fusible, 37.1ms\n",
      "Speed: 0.9ms preprocess, 37.1ms inference, 0.6ms postprocess per image at shape (1, 3, 640, 640)\n",
      "\n",
      "0: 640x640 (no detections), 37.0ms\n",
      "Speed: 1.0ms preprocess, 37.0ms inference, 0.3ms postprocess per image at shape (1, 3, 640, 640)\n"
     ]
    },
    {
     "name": "stderr",
     "output_type": "stream",
     "text": [
      "Processing tiles:  74%|███████▍  | 307/416 [00:14<00:04, 25.19it/s]"
     ]
    },
    {
     "name": "stdout",
     "output_type": "stream",
     "text": [
      "\n",
      "0: 640x640 (no detections), 36.9ms\n",
      "Speed: 0.9ms preprocess, 36.9ms inference, 0.3ms postprocess per image at shape (1, 3, 640, 640)\n",
      "\n",
      "0: 640x640 (no detections), 36.8ms\n",
      "Speed: 1.0ms preprocess, 36.8ms inference, 0.3ms postprocess per image at shape (1, 3, 640, 640)\n",
      "\n",
      "0: 640x640 (no detections), 36.8ms\n",
      "Speed: 1.0ms preprocess, 36.8ms inference, 0.3ms postprocess per image at shape (1, 3, 640, 640)\n"
     ]
    },
    {
     "name": "stderr",
     "output_type": "stream",
     "text": [
      "Processing tiles:  75%|███████▍  | 310/416 [00:14<00:04, 25.21it/s]"
     ]
    },
    {
     "name": "stdout",
     "output_type": "stream",
     "text": [
      "\n",
      "0: 640x640 (no detections), 36.9ms\n",
      "Speed: 1.0ms preprocess, 36.9ms inference, 0.3ms postprocess per image at shape (1, 3, 640, 640)\n",
      "\n",
      "0: 640x544 (no detections), 33.6ms\n",
      "Speed: 0.9ms preprocess, 33.6ms inference, 0.3ms postprocess per image at shape (1, 3, 640, 544)\n",
      "\n",
      "0: 640x640 (no detections), 37.3ms\n",
      "Speed: 1.0ms preprocess, 37.3ms inference, 0.3ms postprocess per image at shape (1, 3, 640, 640)\n"
     ]
    },
    {
     "name": "stderr",
     "output_type": "stream",
     "text": [
      "Processing tiles:  75%|███████▌  | 313/416 [00:14<00:04, 25.41it/s]"
     ]
    },
    {
     "name": "stdout",
     "output_type": "stream",
     "text": [
      "\n",
      "0: 640x640 (no detections), 36.6ms\n",
      "Speed: 1.0ms preprocess, 36.6ms inference, 0.3ms postprocess per image at shape (1, 3, 640, 640)\n",
      "\n",
      "0: 640x640 (no detections), 36.7ms\n",
      "Speed: 0.9ms preprocess, 36.7ms inference, 0.3ms postprocess per image at shape (1, 3, 640, 640)\n",
      "\n",
      "0: 640x640 (no detections), 36.7ms\n",
      "Speed: 0.9ms preprocess, 36.7ms inference, 0.3ms postprocess per image at shape (1, 3, 640, 640)\n"
     ]
    },
    {
     "name": "stderr",
     "output_type": "stream",
     "text": [
      "Processing tiles:  76%|███████▌  | 316/416 [00:14<00:03, 25.39it/s]"
     ]
    },
    {
     "name": "stdout",
     "output_type": "stream",
     "text": [
      "\n",
      "0: 640x640 (no detections), 36.7ms\n",
      "Speed: 0.9ms preprocess, 36.7ms inference, 0.3ms postprocess per image at shape (1, 3, 640, 640)\n",
      "\n",
      "0: 640x640 (no detections), 36.6ms\n",
      "Speed: 1.0ms preprocess, 36.6ms inference, 0.3ms postprocess per image at shape (1, 3, 640, 640)\n",
      "\n",
      "0: 640x640 (no detections), 36.6ms\n",
      "Speed: 0.9ms preprocess, 36.6ms inference, 0.3ms postprocess per image at shape (1, 3, 640, 640)\n"
     ]
    },
    {
     "name": "stderr",
     "output_type": "stream",
     "text": [
      "Processing tiles:  77%|███████▋  | 319/416 [00:14<00:03, 25.39it/s]"
     ]
    },
    {
     "name": "stdout",
     "output_type": "stream",
     "text": [
      "\n",
      "0: 640x640 (no detections), 36.6ms\n",
      "Speed: 1.0ms preprocess, 36.6ms inference, 0.3ms postprocess per image at shape (1, 3, 640, 640)\n",
      "\n",
      "0: 640x640 (no detections), 36.8ms\n",
      "Speed: 1.0ms preprocess, 36.8ms inference, 0.3ms postprocess per image at shape (1, 3, 640, 640)\n",
      "\n",
      "0: 640x640 (no detections), 36.8ms\n",
      "Speed: 1.0ms preprocess, 36.8ms inference, 0.3ms postprocess per image at shape (1, 3, 640, 640)\n"
     ]
    },
    {
     "name": "stderr",
     "output_type": "stream",
     "text": [
      "Processing tiles:  77%|███████▋  | 322/416 [00:14<00:03, 25.35it/s]"
     ]
    },
    {
     "name": "stdout",
     "output_type": "stream",
     "text": [
      "\n",
      "0: 640x640 (no detections), 36.8ms\n",
      "Speed: 1.0ms preprocess, 36.8ms inference, 0.3ms postprocess per image at shape (1, 3, 640, 640)\n",
      "\n",
      "0: 640x640 (no detections), 36.8ms\n",
      "Speed: 0.9ms preprocess, 36.8ms inference, 0.3ms postprocess per image at shape (1, 3, 640, 640)\n",
      "\n",
      "0: 640x640 (no detections), 36.9ms\n",
      "Speed: 1.0ms preprocess, 36.9ms inference, 0.3ms postprocess per image at shape (1, 3, 640, 640)\n"
     ]
    },
    {
     "name": "stderr",
     "output_type": "stream",
     "text": [
      "Processing tiles:  78%|███████▊  | 325/416 [00:14<00:03, 25.33it/s]"
     ]
    },
    {
     "name": "stdout",
     "output_type": "stream",
     "text": [
      "\n",
      "0: 640x640 (no detections), 36.9ms\n",
      "Speed: 0.9ms preprocess, 36.9ms inference, 0.3ms postprocess per image at shape (1, 3, 640, 640)\n",
      "\n",
      "0: 640x640 (no detections), 36.8ms\n",
      "Speed: 1.0ms preprocess, 36.8ms inference, 0.3ms postprocess per image at shape (1, 3, 640, 640)\n",
      "\n",
      "0: 640x640 (no detections), 36.8ms\n",
      "Speed: 0.9ms preprocess, 36.8ms inference, 0.3ms postprocess per image at shape (1, 3, 640, 640)\n"
     ]
    },
    {
     "name": "stderr",
     "output_type": "stream",
     "text": [
      "Processing tiles:  79%|███████▉  | 328/416 [00:14<00:03, 25.32it/s]"
     ]
    },
    {
     "name": "stdout",
     "output_type": "stream",
     "text": [
      "\n",
      "0: 640x640 1 contactor, 1 enclavamiento, 1 mando-motorizado, 2 proteccion-diferencials, 36.8ms\n",
      "Speed: 1.0ms preprocess, 36.8ms inference, 0.6ms postprocess per image at shape (1, 3, 640, 640)\n",
      "\n",
      "0: 640x640 (no detections), 37.0ms\n",
      "Speed: 1.0ms preprocess, 37.0ms inference, 0.3ms postprocess per image at shape (1, 3, 640, 640)\n",
      "\n",
      "0: 640x640 (no detections), 37.0ms\n",
      "Speed: 0.9ms preprocess, 37.0ms inference, 0.3ms postprocess per image at shape (1, 3, 640, 640)\n"
     ]
    },
    {
     "name": "stderr",
     "output_type": "stream",
     "text": [
      "Processing tiles:  80%|███████▉  | 331/416 [00:15<00:03, 25.25it/s]"
     ]
    },
    {
     "name": "stdout",
     "output_type": "stream",
     "text": [
      "\n",
      "0: 640x640 1 fusible, 1 puerto-comunicacion, 1 seccionador, 36.9ms\n",
      "Speed: 1.0ms preprocess, 36.9ms inference, 0.6ms postprocess per image at shape (1, 3, 640, 640)\n",
      "\n",
      "0: 640x640 (no detections), 36.8ms\n",
      "Speed: 0.9ms preprocess, 36.8ms inference, 0.3ms postprocess per image at shape (1, 3, 640, 640)\n",
      "\n",
      "0: 640x640 (no detections), 36.9ms\n",
      "Speed: 0.9ms preprocess, 36.9ms inference, 0.3ms postprocess per image at shape (1, 3, 640, 640)\n"
     ]
    },
    {
     "name": "stderr",
     "output_type": "stream",
     "text": [
      "Processing tiles:  80%|████████  | 334/416 [00:15<00:03, 25.22it/s]"
     ]
    },
    {
     "name": "stdout",
     "output_type": "stream",
     "text": [
      "\n",
      "0: 640x640 (no detections), 36.8ms\n",
      "Speed: 0.9ms preprocess, 36.8ms inference, 0.3ms postprocess per image at shape (1, 3, 640, 640)\n",
      "\n",
      "0: 640x640 1 equipo-de-medida, 36.8ms\n",
      "Speed: 1.0ms preprocess, 36.8ms inference, 0.6ms postprocess per image at shape (1, 3, 640, 640)\n",
      "\n",
      "0: 640x640 (no detections), 36.9ms\n",
      "Speed: 0.9ms preprocess, 36.9ms inference, 0.3ms postprocess per image at shape (1, 3, 640, 640)\n"
     ]
    },
    {
     "name": "stderr",
     "output_type": "stream",
     "text": [
      "Processing tiles:  81%|████████  | 337/416 [00:15<00:03, 25.21it/s]"
     ]
    },
    {
     "name": "stdout",
     "output_type": "stream",
     "text": [
      "\n",
      "0: 640x544 (no detections), 33.4ms\n",
      "Speed: 0.9ms preprocess, 33.4ms inference, 0.3ms postprocess per image at shape (1, 3, 640, 544)\n",
      "\n",
      "0: 640x640 (no detections), 37.2ms\n",
      "Speed: 0.9ms preprocess, 37.2ms inference, 0.3ms postprocess per image at shape (1, 3, 640, 640)\n",
      "\n",
      "0: 640x640 (no detections), 37.1ms\n",
      "Speed: 0.9ms preprocess, 37.1ms inference, 0.3ms postprocess per image at shape (1, 3, 640, 640)\n"
     ]
    },
    {
     "name": "stderr",
     "output_type": "stream",
     "text": [
      "Processing tiles:  82%|████████▏ | 340/416 [00:15<00:02, 25.41it/s]"
     ]
    },
    {
     "name": "stdout",
     "output_type": "stream",
     "text": [
      "\n",
      "0: 640x640 (no detections), 36.9ms\n",
      "Speed: 0.9ms preprocess, 36.9ms inference, 0.3ms postprocess per image at shape (1, 3, 640, 640)\n",
      "\n",
      "0: 640x640 (no detections), 36.9ms\n",
      "Speed: 1.0ms preprocess, 36.9ms inference, 0.3ms postprocess per image at shape (1, 3, 640, 640)\n",
      "\n",
      "0: 640x640 (no detections), 36.9ms\n",
      "Speed: 1.0ms preprocess, 36.9ms inference, 0.3ms postprocess per image at shape (1, 3, 640, 640)\n"
     ]
    },
    {
     "name": "stderr",
     "output_type": "stream",
     "text": [
      "Processing tiles:  82%|████████▏ | 343/416 [00:15<00:02, 25.36it/s]"
     ]
    },
    {
     "name": "stdout",
     "output_type": "stream",
     "text": [
      "\n",
      "0: 640x640 (no detections), 36.8ms\n",
      "Speed: 1.0ms preprocess, 36.8ms inference, 0.3ms postprocess per image at shape (1, 3, 640, 640)\n",
      "\n",
      "0: 640x640 (no detections), 36.8ms\n",
      "Speed: 0.9ms preprocess, 36.8ms inference, 0.3ms postprocess per image at shape (1, 3, 640, 640)\n",
      "\n",
      "0: 640x640 (no detections), 36.9ms\n",
      "Speed: 0.9ms preprocess, 36.9ms inference, 0.3ms postprocess per image at shape (1, 3, 640, 640)\n"
     ]
    },
    {
     "name": "stderr",
     "output_type": "stream",
     "text": [
      "Processing tiles:  83%|████████▎ | 346/416 [00:15<00:02, 25.34it/s]"
     ]
    },
    {
     "name": "stdout",
     "output_type": "stream",
     "text": [
      "\n",
      "0: 640x640 (no detections), 36.8ms\n",
      "Speed: 0.9ms preprocess, 36.8ms inference, 0.3ms postprocess per image at shape (1, 3, 640, 640)\n",
      "\n",
      "0: 640x640 (no detections), 36.9ms\n",
      "Speed: 1.0ms preprocess, 36.9ms inference, 0.3ms postprocess per image at shape (1, 3, 640, 640)\n",
      "\n",
      "0: 640x640 (no detections), 36.9ms\n",
      "Speed: 1.0ms preprocess, 36.9ms inference, 0.3ms postprocess per image at shape (1, 3, 640, 640)\n"
     ]
    },
    {
     "name": "stderr",
     "output_type": "stream",
     "text": [
      "Processing tiles:  84%|████████▍ | 349/416 [00:15<00:02, 25.32it/s]"
     ]
    },
    {
     "name": "stdout",
     "output_type": "stream",
     "text": [
      "\n",
      "0: 640x640 (no detections), 36.9ms\n",
      "Speed: 0.9ms preprocess, 36.9ms inference, 0.3ms postprocess per image at shape (1, 3, 640, 640)\n",
      "\n",
      "0: 640x640 (no detections), 36.8ms\n",
      "Speed: 1.0ms preprocess, 36.8ms inference, 0.3ms postprocess per image at shape (1, 3, 640, 640)\n",
      "\n",
      "0: 640x640 (no detections), 36.8ms\n",
      "Speed: 0.9ms preprocess, 36.8ms inference, 0.3ms postprocess per image at shape (1, 3, 640, 640)\n"
     ]
    },
    {
     "name": "stderr",
     "output_type": "stream",
     "text": [
      "Processing tiles:  85%|████████▍ | 352/416 [00:15<00:02, 25.33it/s]"
     ]
    },
    {
     "name": "stdout",
     "output_type": "stream",
     "text": [
      "\n",
      "0: 640x640 (no detections), 36.7ms\n",
      "Speed: 0.9ms preprocess, 36.7ms inference, 0.3ms postprocess per image at shape (1, 3, 640, 640)\n",
      "\n",
      "0: 640x640 (no detections), 36.7ms\n",
      "Speed: 0.9ms preprocess, 36.7ms inference, 0.3ms postprocess per image at shape (1, 3, 640, 640)\n",
      "\n",
      "0: 640x640 1 interruptor-puerta, 1 transformador-corriente, 1 ventilador, 36.8ms\n",
      "Speed: 0.9ms preprocess, 36.8ms inference, 0.6ms postprocess per image at shape (1, 3, 640, 640)\n"
     ]
    },
    {
     "name": "stderr",
     "output_type": "stream",
     "text": [
      "Processing tiles:  85%|████████▌ | 355/416 [00:16<00:02, 25.29it/s]"
     ]
    },
    {
     "name": "stdout",
     "output_type": "stream",
     "text": [
      "\n",
      "0: 640x640 1 bloqueo, 1 ventilador, 36.9ms\n",
      "Speed: 0.9ms preprocess, 36.9ms inference, 0.7ms postprocess per image at shape (1, 3, 640, 640)\n",
      "\n",
      "0: 640x640 (no detections), 36.9ms\n",
      "Speed: 0.9ms preprocess, 36.9ms inference, 0.3ms postprocess per image at shape (1, 3, 640, 640)\n",
      "\n",
      "0: 640x640 1 analizador-red, 1 borne, 2 fusibles, 1 lampara, 36.9ms\n",
      "Speed: 0.9ms preprocess, 36.9ms inference, 0.6ms postprocess per image at shape (1, 3, 640, 640)\n"
     ]
    },
    {
     "name": "stderr",
     "output_type": "stream",
     "text": [
      "Processing tiles:  86%|████████▌ | 358/416 [00:16<00:02, 25.20it/s]"
     ]
    },
    {
     "name": "stdout",
     "output_type": "stream",
     "text": [
      "\n",
      "0: 640x640 (no detections), 36.8ms\n",
      "Speed: 1.0ms preprocess, 36.8ms inference, 0.3ms postprocess per image at shape (1, 3, 640, 640)\n",
      "\n",
      "0: 640x640 (no detections), 36.8ms\n",
      "Speed: 1.0ms preprocess, 36.8ms inference, 0.3ms postprocess per image at shape (1, 3, 640, 640)\n",
      "\n",
      "0: 640x640 (no detections), 36.7ms\n",
      "Speed: 1.0ms preprocess, 36.7ms inference, 0.3ms postprocess per image at shape (1, 3, 640, 640)\n"
     ]
    },
    {
     "name": "stderr",
     "output_type": "stream",
     "text": [
      "Processing tiles:  87%|████████▋ | 361/416 [00:16<00:02, 25.21it/s]"
     ]
    },
    {
     "name": "stdout",
     "output_type": "stream",
     "text": [
      "\n",
      "0: 640x640 (no detections), 36.9ms\n",
      "Speed: 1.0ms preprocess, 36.9ms inference, 0.3ms postprocess per image at shape (1, 3, 640, 640)\n",
      "\n",
      "0: 640x640 (no detections), 37.0ms\n",
      "Speed: 1.0ms preprocess, 37.0ms inference, 0.3ms postprocess per image at shape (1, 3, 640, 640)\n",
      "\n",
      "0: 640x544 (no detections), 33.6ms\n",
      "Speed: 0.8ms preprocess, 33.6ms inference, 0.3ms postprocess per image at shape (1, 3, 640, 544)\n"
     ]
    },
    {
     "name": "stderr",
     "output_type": "stream",
     "text": [
      "Processing tiles:  88%|████████▊ | 364/416 [00:16<00:02, 25.43it/s]"
     ]
    },
    {
     "name": "stdout",
     "output_type": "stream",
     "text": [
      "\n",
      "0: 640x640 (no detections), 37.9ms\n",
      "Speed: 1.0ms preprocess, 37.9ms inference, 0.3ms postprocess per image at shape (1, 3, 640, 640)\n",
      "\n",
      "0: 640x640 (no detections), 36.9ms\n",
      "Speed: 1.0ms preprocess, 36.9ms inference, 0.3ms postprocess per image at shape (1, 3, 640, 640)\n",
      "\n",
      "0: 640x640 (no detections), 36.8ms\n",
      "Speed: 1.0ms preprocess, 36.8ms inference, 0.3ms postprocess per image at shape (1, 3, 640, 640)\n"
     ]
    },
    {
     "name": "stderr",
     "output_type": "stream",
     "text": [
      "Processing tiles:  88%|████████▊ | 367/416 [00:16<00:01, 25.30it/s]"
     ]
    },
    {
     "name": "stdout",
     "output_type": "stream",
     "text": [
      "\n",
      "0: 640x640 (no detections), 36.8ms\n",
      "Speed: 1.0ms preprocess, 36.8ms inference, 0.3ms postprocess per image at shape (1, 3, 640, 640)\n",
      "\n",
      "0: 640x640 (no detections), 36.8ms\n",
      "Speed: 0.9ms preprocess, 36.8ms inference, 0.3ms postprocess per image at shape (1, 3, 640, 640)\n",
      "\n",
      "0: 640x640 (no detections), 36.8ms\n",
      "Speed: 1.0ms preprocess, 36.8ms inference, 0.3ms postprocess per image at shape (1, 3, 640, 640)\n"
     ]
    },
    {
     "name": "stderr",
     "output_type": "stream",
     "text": [
      "Processing tiles:  89%|████████▉ | 370/416 [00:16<00:01, 25.27it/s]"
     ]
    },
    {
     "name": "stdout",
     "output_type": "stream",
     "text": [
      "\n",
      "0: 640x640 (no detections), 36.9ms\n",
      "Speed: 1.0ms preprocess, 36.9ms inference, 0.3ms postprocess per image at shape (1, 3, 640, 640)\n",
      "\n",
      "0: 640x640 (no detections), 36.9ms\n",
      "Speed: 1.0ms preprocess, 36.9ms inference, 0.3ms postprocess per image at shape (1, 3, 640, 640)\n",
      "\n",
      "0: 640x640 (no detections), 36.8ms\n",
      "Speed: 1.0ms preprocess, 36.8ms inference, 0.3ms postprocess per image at shape (1, 3, 640, 640)\n"
     ]
    },
    {
     "name": "stderr",
     "output_type": "stream",
     "text": [
      "Processing tiles:  90%|████████▉ | 373/416 [00:16<00:01, 25.27it/s]"
     ]
    },
    {
     "name": "stdout",
     "output_type": "stream",
     "text": [
      "\n",
      "0: 640x640 (no detections), 36.8ms\n",
      "Speed: 1.0ms preprocess, 36.8ms inference, 0.3ms postprocess per image at shape (1, 3, 640, 640)\n",
      "\n",
      "0: 640x640 (no detections), 36.8ms\n",
      "Speed: 1.0ms preprocess, 36.8ms inference, 0.3ms postprocess per image at shape (1, 3, 640, 640)\n",
      "\n",
      "0: 640x640 (no detections), 36.8ms\n",
      "Speed: 0.9ms preprocess, 36.8ms inference, 0.3ms postprocess per image at shape (1, 3, 640, 640)\n"
     ]
    },
    {
     "name": "stderr",
     "output_type": "stream",
     "text": [
      "Processing tiles:  90%|█████████ | 376/416 [00:16<00:01, 25.27it/s]"
     ]
    },
    {
     "name": "stdout",
     "output_type": "stream",
     "text": [
      "\n",
      "0: 640x640 (no detections), 36.7ms\n",
      "Speed: 0.9ms preprocess, 36.7ms inference, 0.3ms postprocess per image at shape (1, 3, 640, 640)\n",
      "\n",
      "0: 640x640 (no detections), 36.6ms\n",
      "Speed: 1.0ms preprocess, 36.6ms inference, 0.3ms postprocess per image at shape (1, 3, 640, 640)\n",
      "\n",
      "0: 640x640 1 fuente-knx, 37.0ms\n",
      "Speed: 1.0ms preprocess, 37.0ms inference, 0.6ms postprocess per image at shape (1, 3, 640, 640)\n"
     ]
    },
    {
     "name": "stderr",
     "output_type": "stream",
     "text": [
      "Processing tiles:  91%|█████████ | 379/416 [00:16<00:01, 25.25it/s]"
     ]
    },
    {
     "name": "stdout",
     "output_type": "stream",
     "text": [
      "\n",
      "0: 640x640 (no detections), 36.9ms\n",
      "Speed: 0.9ms preprocess, 36.9ms inference, 0.3ms postprocess per image at shape (1, 3, 640, 640)\n",
      "\n",
      "0: 640x640 1 proteccion-termomagnetica, 36.9ms\n",
      "Speed: 0.9ms preprocess, 36.9ms inference, 0.6ms postprocess per image at shape (1, 3, 640, 640)\n",
      "\n",
      "0: 640x640 (no detections), 37.0ms\n",
      "Speed: 1.0ms preprocess, 37.0ms inference, 0.3ms postprocess per image at shape (1, 3, 640, 640)\n"
     ]
    },
    {
     "name": "stderr",
     "output_type": "stream",
     "text": [
      "Processing tiles:  92%|█████████▏| 382/416 [00:17<00:01, 25.22it/s]"
     ]
    },
    {
     "name": "stdout",
     "output_type": "stream",
     "text": [
      "\n",
      "0: 640x640 (no detections), 37.0ms\n",
      "Speed: 1.0ms preprocess, 37.0ms inference, 0.3ms postprocess per image at shape (1, 3, 640, 640)\n",
      "\n",
      "0: 640x640 1 actuador-knx, 1 fuente-knx, 36.9ms\n",
      "Speed: 1.0ms preprocess, 36.9ms inference, 0.7ms postprocess per image at shape (1, 3, 640, 640)\n",
      "\n",
      "0: 640x640 (no detections), 37.0ms\n",
      "Speed: 0.9ms preprocess, 37.0ms inference, 0.3ms postprocess per image at shape (1, 3, 640, 640)\n"
     ]
    },
    {
     "name": "stderr",
     "output_type": "stream",
     "text": [
      "Processing tiles:  93%|█████████▎| 385/416 [00:17<00:01, 25.17it/s]"
     ]
    },
    {
     "name": "stdout",
     "output_type": "stream",
     "text": [
      "\n",
      "0: 640x640 (no detections), 37.0ms\n",
      "Speed: 1.0ms preprocess, 37.0ms inference, 0.3ms postprocess per image at shape (1, 3, 640, 640)\n",
      "\n",
      "0: 640x640 (no detections), 36.8ms\n",
      "Speed: 1.0ms preprocess, 36.8ms inference, 0.3ms postprocess per image at shape (1, 3, 640, 640)\n",
      "\n",
      "0: 640x640 (no detections), 37.1ms\n",
      "Speed: 0.9ms preprocess, 37.1ms inference, 0.3ms postprocess per image at shape (1, 3, 640, 640)\n"
     ]
    },
    {
     "name": "stderr",
     "output_type": "stream",
     "text": [
      "Processing tiles:  93%|█████████▎| 388/416 [00:17<00:01, 25.17it/s]"
     ]
    },
    {
     "name": "stdout",
     "output_type": "stream",
     "text": [
      "\n",
      "0: 640x640 1 proteccion-termomagnetica, 37.1ms\n",
      "Speed: 1.0ms preprocess, 37.1ms inference, 0.6ms postprocess per image at shape (1, 3, 640, 640)\n",
      "\n",
      "0: 640x544 (no detections), 33.8ms\n",
      "Speed: 0.9ms preprocess, 33.8ms inference, 0.3ms postprocess per image at shape (1, 3, 640, 544)\n",
      "\n",
      "0: 352x640 (no detections), 34.5ms\n",
      "Speed: 0.6ms preprocess, 34.5ms inference, 0.3ms postprocess per image at shape (1, 3, 352, 640)\n"
     ]
    },
    {
     "name": "stderr",
     "output_type": "stream",
     "text": [
      "Processing tiles:  94%|█████████▍| 391/416 [00:17<00:00, 25.54it/s]"
     ]
    },
    {
     "name": "stdout",
     "output_type": "stream",
     "text": [
      "\n",
      "0: 352x640 (no detections), 20.4ms\n",
      "Speed: 0.6ms preprocess, 20.4ms inference, 0.3ms postprocess per image at shape (1, 3, 352, 640)\n",
      "\n",
      "0: 352x640 (no detections), 21.3ms\n",
      "Speed: 0.6ms preprocess, 21.3ms inference, 0.3ms postprocess per image at shape (1, 3, 352, 640)\n",
      "\n",
      "0: 352x640 (no detections), 21.1ms\n",
      "Speed: 0.6ms preprocess, 21.1ms inference, 0.3ms postprocess per image at shape (1, 3, 352, 640)\n",
      "\n",
      "0: 352x640 (no detections), 21.1ms\n",
      "Speed: 0.6ms preprocess, 21.1ms inference, 0.3ms postprocess per image at shape (1, 3, 352, 640)\n",
      "\n",
      "0: 352x640 (no detections), 21.2ms\n",
      "Speed: 0.6ms preprocess, 21.2ms inference, 0.3ms postprocess per image at shape (1, 3, 352, 640)\n"
     ]
    },
    {
     "name": "stderr",
     "output_type": "stream",
     "text": [
      "Processing tiles:  95%|█████████▌| 396/416 [00:17<00:00, 30.76it/s]"
     ]
    },
    {
     "name": "stdout",
     "output_type": "stream",
     "text": [
      "\n",
      "0: 352x640 (no detections), 21.2ms\n",
      "Speed: 0.6ms preprocess, 21.2ms inference, 0.3ms postprocess per image at shape (1, 3, 352, 640)\n",
      "\n",
      "0: 352x640 (no detections), 21.3ms\n",
      "Speed: 0.6ms preprocess, 21.3ms inference, 0.3ms postprocess per image at shape (1, 3, 352, 640)\n",
      "\n",
      "0: 352x640 (no detections), 21.4ms\n",
      "Speed: 0.5ms preprocess, 21.4ms inference, 0.3ms postprocess per image at shape (1, 3, 352, 640)\n",
      "\n",
      "0: 352x640 (no detections), 21.2ms\n",
      "Speed: 0.6ms preprocess, 21.2ms inference, 0.3ms postprocess per image at shape (1, 3, 352, 640)\n",
      "\n",
      "0: 352x640 (no detections), 21.2ms\n",
      "Speed: 0.6ms preprocess, 21.2ms inference, 0.3ms postprocess per image at shape (1, 3, 352, 640)\n"
     ]
    },
    {
     "name": "stderr",
     "output_type": "stream",
     "text": [
      "Processing tiles:  96%|█████████▋| 401/416 [00:17<00:00, 34.36it/s]"
     ]
    },
    {
     "name": "stdout",
     "output_type": "stream",
     "text": [
      "\n",
      "0: 352x640 (no detections), 21.2ms\n",
      "Speed: 0.6ms preprocess, 21.2ms inference, 0.3ms postprocess per image at shape (1, 3, 352, 640)\n",
      "\n",
      "0: 352x640 (no detections), 21.2ms\n",
      "Speed: 0.6ms preprocess, 21.2ms inference, 0.3ms postprocess per image at shape (1, 3, 352, 640)\n",
      "\n",
      "0: 352x640 (no detections), 21.6ms\n",
      "Speed: 0.6ms preprocess, 21.6ms inference, 0.3ms postprocess per image at shape (1, 3, 352, 640)\n",
      "\n",
      "0: 352x640 (no detections), 21.5ms\n",
      "Speed: 0.6ms preprocess, 21.5ms inference, 0.3ms postprocess per image at shape (1, 3, 352, 640)\n",
      "\n",
      "0: 352x640 (no detections), 21.3ms\n",
      "Speed: 0.6ms preprocess, 21.3ms inference, 0.3ms postprocess per image at shape (1, 3, 352, 640)\n"
     ]
    },
    {
     "name": "stderr",
     "output_type": "stream",
     "text": [
      "Processing tiles:  98%|█████████▊| 406/416 [00:17<00:00, 36.83it/s]"
     ]
    },
    {
     "name": "stdout",
     "output_type": "stream",
     "text": [
      "\n",
      "0: 352x640 (no detections), 21.2ms\n",
      "Speed: 0.6ms preprocess, 21.2ms inference, 0.3ms postprocess per image at shape (1, 3, 352, 640)\n",
      "\n",
      "0: 352x640 (no detections), 21.2ms\n",
      "Speed: 0.6ms preprocess, 21.2ms inference, 0.3ms postprocess per image at shape (1, 3, 352, 640)\n",
      "\n",
      "0: 352x640 (no detections), 21.2ms\n",
      "Speed: 0.5ms preprocess, 21.2ms inference, 0.3ms postprocess per image at shape (1, 3, 352, 640)\n",
      "\n",
      "0: 352x640 (no detections), 21.8ms\n",
      "Speed: 0.6ms preprocess, 21.8ms inference, 0.3ms postprocess per image at shape (1, 3, 352, 640)\n",
      "\n",
      "0: 352x640 (no detections), 21.5ms\n",
      "Speed: 0.6ms preprocess, 21.5ms inference, 0.3ms postprocess per image at shape (1, 3, 352, 640)\n"
     ]
    },
    {
     "name": "stderr",
     "output_type": "stream",
     "text": [
      "Processing tiles:  99%|█████████▉| 411/416 [00:17<00:00, 38.55it/s]"
     ]
    },
    {
     "name": "stdout",
     "output_type": "stream",
     "text": [
      "\n",
      "0: 352x640 (no detections), 21.3ms\n",
      "Speed: 0.6ms preprocess, 21.3ms inference, 0.3ms postprocess per image at shape (1, 3, 352, 640)\n",
      "\n",
      "0: 352x640 (no detections), 21.1ms\n",
      "Speed: 0.6ms preprocess, 21.1ms inference, 0.3ms postprocess per image at shape (1, 3, 352, 640)\n",
      "\n",
      "0: 352x640 1 transformador-corriente, 21.2ms\n",
      "Speed: 0.6ms preprocess, 21.2ms inference, 0.6ms postprocess per image at shape (1, 3, 352, 640)\n",
      "\n",
      "0: 352x640 3 proteccion-termomagneticas, 21.3ms\n",
      "Speed: 0.6ms preprocess, 21.3ms inference, 0.6ms postprocess per image at shape (1, 3, 352, 640)\n",
      "\n",
      "0: 384x640 (no detections), 34.0ms\n",
      "Speed: 0.9ms preprocess, 34.0ms inference, 0.3ms postprocess per image at shape (1, 3, 384, 640)\n"
     ]
    },
    {
     "name": "stderr",
     "output_type": "stream",
     "text": [
      "Processing tiles: 100%|██████████| 416/416 [00:18<00:00, 23.03it/s]\n"
     ]
    },
    {
     "ename": "AttributeError",
     "evalue": "'Results' object has no attribute 'x'. See valid attributes below.\n\n    A class for storing and manipulating inference results.\n\n    This class encapsulates the functionality for handling detection, segmentation, pose estimation,\n    and classification results from YOLO models.\n\n    Attributes:\n        orig_img (numpy.ndarray): Original image as a numpy array.\n        orig_shape (Tuple[int, int]): Original image shape in (height, width) format.\n        boxes (Boxes | None): Object containing detection bounding boxes.\n        masks (Masks | None): Object containing detection masks.\n        probs (Probs | None): Object containing class probabilities for classification tasks.\n        keypoints (Keypoints | None): Object containing detected keypoints for each object.\n        obb (OBB | None): Object containing oriented bounding boxes.\n        speed (Dict[str, float | None]): Dictionary of preprocess, inference, and postprocess speeds.\n        names (Dict[int, str]): Dictionary mapping class IDs to class names.\n        path (str): Path to the image file.\n        _keys (Tuple[str, ...]): Tuple of attribute names for internal use.\n\n    Methods:\n        update: Updates object attributes with new detection results.\n        cpu: Returns a copy of the Results object with all tensors on CPU memory.\n        numpy: Returns a copy of the Results object with all tensors as numpy arrays.\n        cuda: Returns a copy of the Results object with all tensors on GPU memory.\n        to: Returns a copy of the Results object with tensors on a specified device and dtype.\n        new: Returns a new Results object with the same image, path, and names.\n        plot: Plots detection results on an input image, returning an annotated image.\n        show: Shows annotated results on screen.\n        save: Saves annotated results to file.\n        verbose: Returns a log string for each task, detailing detections and classifications.\n        save_txt: Saves detection results to a text file.\n        save_crop: Saves cropped detection images.\n        tojson: Converts detection results to JSON format.\n\n    Examples:\n        >>> results = model(\"path/to/image.jpg\")\n        >>> for result in results:\n        ...     print(result.boxes)  # Print detection boxes\n        ...     result.show()  # Display the annotated image\n        ...     result.save(filename=\"result.jpg\")  # Save annotated image\n    ",
     "output_type": "error",
     "traceback": [
      "\u001b[0;31m---------------------------------------------------------------------------\u001b[0m",
      "\u001b[0;31mAttributeError\u001b[0m                            Traceback (most recent call last)",
      "Cell \u001b[0;32mIn[14], line 16\u001b[0m\n\u001b[1;32m     13\u001b[0m tiles_with_detections \u001b[38;5;241m=\u001b[39m apply_model_to_tiles(model, tiles)\n\u001b[1;32m     15\u001b[0m \u001b[38;5;66;03m# Ajustar las detecciones al espacio global\u001b[39;00m\n\u001b[0;32m---> 16\u001b[0m global_detections \u001b[38;5;241m=\u001b[39m \u001b[43madjust_detections_to_global_space\u001b[49m\u001b[43m(\u001b[49m\u001b[43mtiles_with_detections\u001b[49m\u001b[43m)\u001b[49m\n\u001b[1;32m     18\u001b[0m \u001b[38;5;66;03m# Visualizar las detecciones en la imagen completa\u001b[39;00m\n\u001b[1;32m     19\u001b[0m visualize_detections(image_path, global_detections)\n",
      "Cell \u001b[0;32mIn[5], line 7\u001b[0m, in \u001b[0;36madjust_detections_to_global_space\u001b[0;34m(tiles_with_detections)\u001b[0m\n\u001b[1;32m      4\u001b[0m left, top, _, _ \u001b[38;5;241m=\u001b[39m box\n\u001b[1;32m      5\u001b[0m \u001b[38;5;28;01mfor\u001b[39;00m detection \u001b[38;5;129;01min\u001b[39;00m result:\n\u001b[1;32m      6\u001b[0m     \u001b[38;5;66;03m# Ajustar las coordenadas de la detección\u001b[39;00m\n\u001b[0;32m----> 7\u001b[0m     \u001b[43mdetection\u001b[49m\u001b[38;5;241;43m.\u001b[39;49m\u001b[43mx\u001b[49m \u001b[38;5;241m+\u001b[39m\u001b[38;5;241m=\u001b[39m left\n\u001b[1;32m      8\u001b[0m     detection\u001b[38;5;241m.\u001b[39my \u001b[38;5;241m+\u001b[39m\u001b[38;5;241m=\u001b[39m top\n\u001b[1;32m      9\u001b[0m     global_detections\u001b[38;5;241m.\u001b[39mappend(detection)\n",
      "File \u001b[0;32m~/projects/deteccion_tableros/venv/lib/python3.12/site-packages/ultralytics/utils/__init__.py:221\u001b[0m, in \u001b[0;36mSimpleClass.__getattr__\u001b[0;34m(self, attr)\u001b[0m\n\u001b[1;32m    219\u001b[0m \u001b[38;5;250m\u001b[39m\u001b[38;5;124;03m\"\"\"Custom attribute access error message with helpful information.\"\"\"\u001b[39;00m\n\u001b[1;32m    220\u001b[0m name \u001b[38;5;241m=\u001b[39m \u001b[38;5;28mself\u001b[39m\u001b[38;5;241m.\u001b[39m\u001b[38;5;18m__class__\u001b[39m\u001b[38;5;241m.\u001b[39m\u001b[38;5;18m__name__\u001b[39m\n\u001b[0;32m--> 221\u001b[0m \u001b[38;5;28;01mraise\u001b[39;00m \u001b[38;5;167;01mAttributeError\u001b[39;00m(\u001b[38;5;124mf\u001b[39m\u001b[38;5;124m\"\u001b[39m\u001b[38;5;124m'\u001b[39m\u001b[38;5;132;01m{\u001b[39;00mname\u001b[38;5;132;01m}\u001b[39;00m\u001b[38;5;124m'\u001b[39m\u001b[38;5;124m object has no attribute \u001b[39m\u001b[38;5;124m'\u001b[39m\u001b[38;5;132;01m{\u001b[39;00mattr\u001b[38;5;132;01m}\u001b[39;00m\u001b[38;5;124m'\u001b[39m\u001b[38;5;124m. See valid attributes below.\u001b[39m\u001b[38;5;130;01m\\n\u001b[39;00m\u001b[38;5;132;01m{\u001b[39;00m\u001b[38;5;28mself\u001b[39m\u001b[38;5;241m.\u001b[39m\u001b[38;5;18m__doc__\u001b[39m\u001b[38;5;132;01m}\u001b[39;00m\u001b[38;5;124m\"\u001b[39m)\n",
      "\u001b[0;31mAttributeError\u001b[0m: 'Results' object has no attribute 'x'. See valid attributes below.\n\n    A class for storing and manipulating inference results.\n\n    This class encapsulates the functionality for handling detection, segmentation, pose estimation,\n    and classification results from YOLO models.\n\n    Attributes:\n        orig_img (numpy.ndarray): Original image as a numpy array.\n        orig_shape (Tuple[int, int]): Original image shape in (height, width) format.\n        boxes (Boxes | None): Object containing detection bounding boxes.\n        masks (Masks | None): Object containing detection masks.\n        probs (Probs | None): Object containing class probabilities for classification tasks.\n        keypoints (Keypoints | None): Object containing detected keypoints for each object.\n        obb (OBB | None): Object containing oriented bounding boxes.\n        speed (Dict[str, float | None]): Dictionary of preprocess, inference, and postprocess speeds.\n        names (Dict[int, str]): Dictionary mapping class IDs to class names.\n        path (str): Path to the image file.\n        _keys (Tuple[str, ...]): Tuple of attribute names for internal use.\n\n    Methods:\n        update: Updates object attributes with new detection results.\n        cpu: Returns a copy of the Results object with all tensors on CPU memory.\n        numpy: Returns a copy of the Results object with all tensors as numpy arrays.\n        cuda: Returns a copy of the Results object with all tensors on GPU memory.\n        to: Returns a copy of the Results object with tensors on a specified device and dtype.\n        new: Returns a new Results object with the same image, path, and names.\n        plot: Plots detection results on an input image, returning an annotated image.\n        show: Shows annotated results on screen.\n        save: Saves annotated results to file.\n        verbose: Returns a log string for each task, detailing detections and classifications.\n        save_txt: Saves detection results to a text file.\n        save_crop: Saves cropped detection images.\n        tojson: Converts detection results to JSON format.\n\n    Examples:\n        >>> results = model(\"path/to/image.jpg\")\n        >>> for result in results:\n        ...     print(result.boxes)  # Print detection boxes\n        ...     result.show()  # Display the annotated image\n        ...     result.save(filename=\"result.jpg\")  # Save annotated image\n    "
     ]
    }
   ],
   "source": [
    "if __name__ == \"__main__\":\n",
    "    # Ruta de la imagen grande\n",
    "    image_path = \"prueba.jpg\"\n",
    "\n",
    "    # Cargar el modelo YOLOv8 entrenado\n",
    "    model = YOLO('last.pt')\n",
    "\n",
    "    # Dividir la imagen en subimágenes\n",
    "    tile_size = 640  # Tamaño de cada subimagen\n",
    "    tiles = split_image(image_path, tile_size)\n",
    "\n"
   ]
  },
  {
   "cell_type": "code",
   "execution_count": 16,
   "id": "54c88cd4-bd6e-4595-b755-0a4519ad2f12",
   "metadata": {},
   "outputs": [
    {
     "name": "stderr",
     "output_type": "stream",
     "text": [
      "Processing tiles:   0%|          | 0/416 [00:00<?, ?it/s]"
     ]
    },
    {
     "name": "stdout",
     "output_type": "stream",
     "text": [
      "\n",
      "0: 640x640 (no detections), 42.0ms\n",
      "Speed: 9.4ms preprocess, 42.0ms inference, 0.3ms postprocess per image at shape (1, 3, 640, 640)\n",
      "\n",
      "0: 640x640 (no detections), 41.6ms\n",
      "Speed: 1.0ms preprocess, 41.6ms inference, 0.3ms postprocess per image at shape (1, 3, 640, 640)\n"
     ]
    },
    {
     "name": "stderr",
     "output_type": "stream",
     "text": [
      "Processing tiles:   0%|          | 2/416 [00:00<00:20, 19.98it/s]"
     ]
    },
    {
     "name": "stdout",
     "output_type": "stream",
     "text": [
      "\n",
      "0: 640x640 (no detections), 38.7ms\n",
      "Speed: 0.9ms preprocess, 38.7ms inference, 0.3ms postprocess per image at shape (1, 3, 640, 640)\n",
      "\n",
      "0: 640x640 (no detections), 37.7ms\n",
      "Speed: 1.0ms preprocess, 37.7ms inference, 0.3ms postprocess per image at shape (1, 3, 640, 640)\n",
      "\n",
      "0: 640x640 (no detections), 37.7ms\n",
      "Speed: 1.0ms preprocess, 37.7ms inference, 0.3ms postprocess per image at shape (1, 3, 640, 640)\n"
     ]
    },
    {
     "name": "stderr",
     "output_type": "stream",
     "text": [
      "Processing tiles:   1%|          | 5/416 [00:00<00:18, 22.81it/s]"
     ]
    },
    {
     "name": "stdout",
     "output_type": "stream",
     "text": [
      "\n",
      "0: 640x640 (no detections), 37.8ms\n",
      "Speed: 1.0ms preprocess, 37.8ms inference, 0.3ms postprocess per image at shape (1, 3, 640, 640)\n",
      "\n",
      "0: 640x640 (no detections), 37.8ms\n",
      "Speed: 1.0ms preprocess, 37.8ms inference, 0.3ms postprocess per image at shape (1, 3, 640, 640)\n",
      "\n",
      "0: 640x640 (no detections), 36.7ms\n",
      "Speed: 1.0ms preprocess, 36.7ms inference, 0.3ms postprocess per image at shape (1, 3, 640, 640)\n"
     ]
    },
    {
     "name": "stderr",
     "output_type": "stream",
     "text": [
      "Processing tiles:   2%|▏         | 8/416 [00:00<00:17, 23.76it/s]"
     ]
    },
    {
     "name": "stdout",
     "output_type": "stream",
     "text": [
      "\n",
      "0: 640x640 (no detections), 36.5ms\n",
      "Speed: 1.0ms preprocess, 36.5ms inference, 0.3ms postprocess per image at shape (1, 3, 640, 640)\n",
      "\n",
      "0: 640x640 (no detections), 36.3ms\n",
      "Speed: 1.0ms preprocess, 36.3ms inference, 0.3ms postprocess per image at shape (1, 3, 640, 640)\n",
      "\n",
      "0: 640x640 1 lampara, 36.5ms\n",
      "Speed: 1.0ms preprocess, 36.5ms inference, 0.6ms postprocess per image at shape (1, 3, 640, 640)\n"
     ]
    },
    {
     "name": "stderr",
     "output_type": "stream",
     "text": [
      "Processing tiles:   3%|▎         | 11/416 [00:00<00:16, 24.39it/s]"
     ]
    },
    {
     "name": "stdout",
     "output_type": "stream",
     "text": [
      "\n",
      "0: 640x640 (no detections), 36.5ms\n",
      "Speed: 1.0ms preprocess, 36.5ms inference, 0.3ms postprocess per image at shape (1, 3, 640, 640)\n",
      "\n",
      "0: 640x640 (no detections), 36.7ms\n",
      "Speed: 1.0ms preprocess, 36.7ms inference, 0.3ms postprocess per image at shape (1, 3, 640, 640)\n",
      "\n",
      "0: 640x640 (no detections), 36.6ms\n",
      "Speed: 1.0ms preprocess, 36.6ms inference, 0.3ms postprocess per image at shape (1, 3, 640, 640)\n"
     ]
    },
    {
     "name": "stderr",
     "output_type": "stream",
     "text": [
      "Processing tiles:   3%|▎         | 14/416 [00:00<00:16, 24.74it/s]"
     ]
    },
    {
     "name": "stdout",
     "output_type": "stream",
     "text": [
      "\n",
      "0: 640x640 (no detections), 36.6ms\n",
      "Speed: 0.9ms preprocess, 36.6ms inference, 0.3ms postprocess per image at shape (1, 3, 640, 640)\n",
      "\n",
      "0: 640x640 (no detections), 36.6ms\n",
      "Speed: 1.0ms preprocess, 36.6ms inference, 0.3ms postprocess per image at shape (1, 3, 640, 640)\n",
      "\n",
      "0: 640x640 (no detections), 36.6ms\n",
      "Speed: 1.0ms preprocess, 36.6ms inference, 0.3ms postprocess per image at shape (1, 3, 640, 640)\n"
     ]
    },
    {
     "name": "stderr",
     "output_type": "stream",
     "text": [
      "Processing tiles:   4%|▍         | 17/416 [00:00<00:15, 24.96it/s]"
     ]
    },
    {
     "name": "stdout",
     "output_type": "stream",
     "text": [
      "\n",
      "0: 640x640 (no detections), 36.5ms\n",
      "Speed: 1.0ms preprocess, 36.5ms inference, 0.3ms postprocess per image at shape (1, 3, 640, 640)\n",
      "\n",
      "0: 640x640 (no detections), 36.7ms\n",
      "Speed: 0.9ms preprocess, 36.7ms inference, 0.3ms postprocess per image at shape (1, 3, 640, 640)\n",
      "\n",
      "0: 640x640 (no detections), 36.7ms\n",
      "Speed: 1.0ms preprocess, 36.7ms inference, 0.3ms postprocess per image at shape (1, 3, 640, 640)\n"
     ]
    },
    {
     "name": "stderr",
     "output_type": "stream",
     "text": [
      "Processing tiles:   5%|▍         | 20/416 [00:00<00:15, 25.10it/s]"
     ]
    },
    {
     "name": "stdout",
     "output_type": "stream",
     "text": [
      "\n",
      "0: 640x640 (no detections), 36.7ms\n",
      "Speed: 1.0ms preprocess, 36.7ms inference, 0.3ms postprocess per image at shape (1, 3, 640, 640)\n",
      "\n",
      "0: 640x640 (no detections), 36.7ms\n",
      "Speed: 1.0ms preprocess, 36.7ms inference, 0.3ms postprocess per image at shape (1, 3, 640, 640)\n",
      "\n",
      "0: 640x640 (no detections), 36.7ms\n",
      "Speed: 0.9ms preprocess, 36.7ms inference, 0.3ms postprocess per image at shape (1, 3, 640, 640)\n"
     ]
    },
    {
     "name": "stderr",
     "output_type": "stream",
     "text": [
      "Processing tiles:   6%|▌         | 23/416 [00:00<00:15, 25.16it/s]"
     ]
    },
    {
     "name": "stdout",
     "output_type": "stream",
     "text": [
      "\n",
      "0: 640x640 (no detections), 36.7ms\n",
      "Speed: 1.1ms preprocess, 36.7ms inference, 0.3ms postprocess per image at shape (1, 3, 640, 640)\n",
      "\n",
      "0: 640x640 (no detections), 36.7ms\n",
      "Speed: 1.1ms preprocess, 36.7ms inference, 0.3ms postprocess per image at shape (1, 3, 640, 640)\n",
      "\n",
      "0: 640x544 (no detections), 33.2ms\n",
      "Speed: 1.1ms preprocess, 33.2ms inference, 0.3ms postprocess per image at shape (1, 3, 640, 544)\n"
     ]
    },
    {
     "name": "stderr",
     "output_type": "stream",
     "text": [
      "Processing tiles:   6%|▋         | 26/416 [00:01<00:15, 25.40it/s]"
     ]
    },
    {
     "name": "stdout",
     "output_type": "stream",
     "text": [
      "\n",
      "0: 640x640 (no detections), 37.7ms\n",
      "Speed: 1.1ms preprocess, 37.7ms inference, 0.3ms postprocess per image at shape (1, 3, 640, 640)\n",
      "\n",
      "0: 640x640 1 interruptor-puerta, 36.7ms\n",
      "Speed: 1.1ms preprocess, 36.7ms inference, 0.6ms postprocess per image at shape (1, 3, 640, 640)\n",
      "\n",
      "0: 640x640 (no detections), 37.0ms\n",
      "Speed: 1.1ms preprocess, 37.0ms inference, 0.3ms postprocess per image at shape (1, 3, 640, 640)\n"
     ]
    },
    {
     "name": "stderr",
     "output_type": "stream",
     "text": [
      "Processing tiles:   7%|▋         | 29/416 [00:01<00:15, 25.18it/s]"
     ]
    },
    {
     "name": "stdout",
     "output_type": "stream",
     "text": [
      "\n",
      "0: 640x640 (no detections), 37.1ms\n",
      "Speed: 1.1ms preprocess, 37.1ms inference, 0.3ms postprocess per image at shape (1, 3, 640, 640)\n",
      "\n",
      "0: 640x640 1 puerto-comunicacion, 1 ventilador, 37.1ms\n",
      "Speed: 1.1ms preprocess, 37.1ms inference, 0.7ms postprocess per image at shape (1, 3, 640, 640)\n",
      "\n",
      "0: 640x640 (no detections), 36.8ms\n",
      "Speed: 1.1ms preprocess, 36.8ms inference, 0.3ms postprocess per image at shape (1, 3, 640, 640)\n"
     ]
    },
    {
     "name": "stderr",
     "output_type": "stream",
     "text": [
      "Processing tiles:   8%|▊         | 32/416 [00:01<00:15, 25.05it/s]"
     ]
    },
    {
     "name": "stdout",
     "output_type": "stream",
     "text": [
      "\n",
      "0: 640x640 (no detections), 36.6ms\n",
      "Speed: 1.0ms preprocess, 36.6ms inference, 0.3ms postprocess per image at shape (1, 3, 640, 640)\n",
      "\n",
      "0: 640x640 (no detections), 36.6ms\n",
      "Speed: 1.1ms preprocess, 36.6ms inference, 0.3ms postprocess per image at shape (1, 3, 640, 640)\n",
      "\n",
      "0: 640x640 (no detections), 36.6ms\n",
      "Speed: 1.0ms preprocess, 36.6ms inference, 0.3ms postprocess per image at shape (1, 3, 640, 640)\n"
     ]
    },
    {
     "name": "stderr",
     "output_type": "stream",
     "text": [
      "Processing tiles:   8%|▊         | 35/416 [00:01<00:15, 25.09it/s]"
     ]
    },
    {
     "name": "stdout",
     "output_type": "stream",
     "text": [
      "\n",
      "0: 640x640 (no detections), 36.6ms\n",
      "Speed: 1.1ms preprocess, 36.6ms inference, 0.3ms postprocess per image at shape (1, 3, 640, 640)\n",
      "\n",
      "0: 640x640 1 proteccion-termomagnetica, 1 transformador-corriente, 36.7ms\n",
      "Speed: 1.1ms preprocess, 36.7ms inference, 0.7ms postprocess per image at shape (1, 3, 640, 640)\n",
      "\n",
      "0: 640x640 1 fusible, 3 luz-pilotos, 1 puerto-comunicacion, 1 ventilador, 36.7ms\n",
      "Speed: 1.1ms preprocess, 36.7ms inference, 0.6ms postprocess per image at shape (1, 3, 640, 640)\n"
     ]
    },
    {
     "name": "stderr",
     "output_type": "stream",
     "text": [
      "Processing tiles:   9%|▉         | 38/416 [00:01<00:15, 25.02it/s]"
     ]
    },
    {
     "name": "stdout",
     "output_type": "stream",
     "text": [
      "\n",
      "0: 640x640 1 bloqueo, 36.7ms\n",
      "Speed: 0.9ms preprocess, 36.7ms inference, 0.6ms postprocess per image at shape (1, 3, 640, 640)\n",
      "\n",
      "0: 640x640 1 bloqueo, 36.7ms\n",
      "Speed: 1.0ms preprocess, 36.7ms inference, 0.6ms postprocess per image at shape (1, 3, 640, 640)\n",
      "\n",
      "0: 640x640 (no detections), 36.7ms\n",
      "Speed: 1.0ms preprocess, 36.7ms inference, 0.3ms postprocess per image at shape (1, 3, 640, 640)\n"
     ]
    },
    {
     "name": "stderr",
     "output_type": "stream",
     "text": [
      "Processing tiles:  10%|▉         | 41/416 [00:01<00:14, 25.05it/s]"
     ]
    },
    {
     "name": "stdout",
     "output_type": "stream",
     "text": [
      "\n",
      "0: 640x640 (no detections), 36.7ms\n",
      "Speed: 1.0ms preprocess, 36.7ms inference, 0.3ms postprocess per image at shape (1, 3, 640, 640)\n",
      "\n",
      "0: 640x640 (no detections), 36.7ms\n",
      "Speed: 0.9ms preprocess, 36.7ms inference, 0.3ms postprocess per image at shape (1, 3, 640, 640)\n",
      "\n",
      "0: 640x640 (no detections), 36.8ms\n",
      "Speed: 0.9ms preprocess, 36.8ms inference, 0.3ms postprocess per image at shape (1, 3, 640, 640)\n"
     ]
    },
    {
     "name": "stderr",
     "output_type": "stream",
     "text": [
      "Processing tiles:  11%|█         | 44/416 [00:01<00:14, 25.15it/s]"
     ]
    },
    {
     "name": "stdout",
     "output_type": "stream",
     "text": [
      "\n",
      "0: 640x640 (no detections), 36.7ms\n",
      "Speed: 1.0ms preprocess, 36.7ms inference, 0.3ms postprocess per image at shape (1, 3, 640, 640)\n",
      "\n",
      "0: 640x640 (no detections), 36.8ms\n",
      "Speed: 1.0ms preprocess, 36.8ms inference, 0.3ms postprocess per image at shape (1, 3, 640, 640)\n",
      "\n",
      "0: 640x640 (no detections), 36.8ms\n",
      "Speed: 0.9ms preprocess, 36.8ms inference, 0.3ms postprocess per image at shape (1, 3, 640, 640)\n"
     ]
    },
    {
     "name": "stderr",
     "output_type": "stream",
     "text": [
      "Processing tiles:  11%|█▏        | 47/416 [00:01<00:14, 25.19it/s]"
     ]
    },
    {
     "name": "stdout",
     "output_type": "stream",
     "text": [
      "\n",
      "0: 640x640 (no detections), 36.8ms\n",
      "Speed: 0.9ms preprocess, 36.8ms inference, 0.3ms postprocess per image at shape (1, 3, 640, 640)\n",
      "\n",
      "0: 640x640 (no detections), 36.8ms\n",
      "Speed: 1.0ms preprocess, 36.8ms inference, 0.3ms postprocess per image at shape (1, 3, 640, 640)\n",
      "\n",
      "0: 640x640 (no detections), 36.9ms\n",
      "Speed: 1.0ms preprocess, 36.9ms inference, 0.3ms postprocess per image at shape (1, 3, 640, 640)\n"
     ]
    },
    {
     "name": "stderr",
     "output_type": "stream",
     "text": [
      "Processing tiles:  12%|█▏        | 50/416 [00:02<00:14, 25.21it/s]"
     ]
    },
    {
     "name": "stdout",
     "output_type": "stream",
     "text": [
      "\n",
      "0: 640x640 (no detections), 36.9ms\n",
      "Speed: 1.0ms preprocess, 36.9ms inference, 0.3ms postprocess per image at shape (1, 3, 640, 640)\n",
      "\n",
      "0: 640x544 (no detections), 33.9ms\n",
      "Speed: 0.8ms preprocess, 33.9ms inference, 0.3ms postprocess per image at shape (1, 3, 640, 544)\n",
      "\n",
      "0: 640x640 (no detections), 37.2ms\n",
      "Speed: 0.9ms preprocess, 37.2ms inference, 0.3ms postprocess per image at shape (1, 3, 640, 640)\n"
     ]
    },
    {
     "name": "stderr",
     "output_type": "stream",
     "text": [
      "Processing tiles:  13%|█▎        | 53/416 [00:02<00:14, 25.39it/s]"
     ]
    },
    {
     "name": "stdout",
     "output_type": "stream",
     "text": [
      "\n",
      "0: 640x640 (no detections), 36.8ms\n",
      "Speed: 1.0ms preprocess, 36.8ms inference, 0.3ms postprocess per image at shape (1, 3, 640, 640)\n",
      "\n",
      "0: 640x640 (no detections), 37.0ms\n",
      "Speed: 0.9ms preprocess, 37.0ms inference, 0.3ms postprocess per image at shape (1, 3, 640, 640)\n",
      "\n",
      "0: 640x640 1 borne, 1 fusible, 37.0ms\n",
      "Speed: 0.9ms preprocess, 37.0ms inference, 0.6ms postprocess per image at shape (1, 3, 640, 640)\n"
     ]
    },
    {
     "name": "stderr",
     "output_type": "stream",
     "text": [
      "Processing tiles:  13%|█▎        | 56/416 [00:02<00:14, 25.28it/s]"
     ]
    },
    {
     "name": "stdout",
     "output_type": "stream",
     "text": [
      "\n",
      "0: 640x640 (no detections), 36.8ms\n",
      "Speed: 1.0ms preprocess, 36.8ms inference, 0.3ms postprocess per image at shape (1, 3, 640, 640)\n",
      "\n",
      "0: 640x640 (no detections), 36.8ms\n",
      "Speed: 1.0ms preprocess, 36.8ms inference, 0.3ms postprocess per image at shape (1, 3, 640, 640)\n",
      "\n",
      "0: 640x640 (no detections), 36.7ms\n",
      "Speed: 1.0ms preprocess, 36.7ms inference, 0.3ms postprocess per image at shape (1, 3, 640, 640)\n"
     ]
    },
    {
     "name": "stderr",
     "output_type": "stream",
     "text": [
      "Processing tiles:  14%|█▍        | 59/416 [00:02<00:14, 25.30it/s]"
     ]
    },
    {
     "name": "stdout",
     "output_type": "stream",
     "text": [
      "\n",
      "0: 640x640 (no detections), 36.6ms\n",
      "Speed: 0.9ms preprocess, 36.6ms inference, 0.3ms postprocess per image at shape (1, 3, 640, 640)\n",
      "\n",
      "0: 640x640 1 borne, 1 fusible, 36.7ms\n",
      "Speed: 0.9ms preprocess, 36.7ms inference, 0.6ms postprocess per image at shape (1, 3, 640, 640)\n",
      "\n",
      "0: 640x640 (no detections), 36.7ms\n",
      "Speed: 1.0ms preprocess, 36.7ms inference, 0.3ms postprocess per image at shape (1, 3, 640, 640)\n"
     ]
    },
    {
     "name": "stderr",
     "output_type": "stream",
     "text": [
      "Processing tiles:  15%|█▍        | 62/416 [00:02<00:13, 25.29it/s]"
     ]
    },
    {
     "name": "stdout",
     "output_type": "stream",
     "text": [
      "\n",
      "0: 640x640 1 proteccion-termomagnetica, 36.7ms\n",
      "Speed: 0.9ms preprocess, 36.7ms inference, 0.7ms postprocess per image at shape (1, 3, 640, 640)\n",
      "\n",
      "0: 640x640 2 proteccion-termomagneticas, 36.8ms\n",
      "Speed: 0.9ms preprocess, 36.8ms inference, 0.6ms postprocess per image at shape (1, 3, 640, 640)\n",
      "\n",
      "0: 640x640 (no detections), 36.7ms\n",
      "Speed: 1.0ms preprocess, 36.7ms inference, 0.3ms postprocess per image at shape (1, 3, 640, 640)\n"
     ]
    },
    {
     "name": "stderr",
     "output_type": "stream",
     "text": [
      "Processing tiles:  16%|█▌        | 65/416 [00:02<00:13, 25.25it/s]"
     ]
    },
    {
     "name": "stdout",
     "output_type": "stream",
     "text": [
      "\n",
      "0: 640x640 (no detections), 36.7ms\n",
      "Speed: 1.0ms preprocess, 36.7ms inference, 0.3ms postprocess per image at shape (1, 3, 640, 640)\n",
      "\n",
      "0: 640x640 1 borne, 1 fusible, 36.8ms\n",
      "Speed: 0.9ms preprocess, 36.8ms inference, 0.6ms postprocess per image at shape (1, 3, 640, 640)\n",
      "\n",
      "0: 640x640 (no detections), 36.7ms\n",
      "Speed: 1.0ms preprocess, 36.7ms inference, 0.3ms postprocess per image at shape (1, 3, 640, 640)\n"
     ]
    },
    {
     "name": "stderr",
     "output_type": "stream",
     "text": [
      "Processing tiles:  16%|█▋        | 68/416 [00:02<00:13, 25.24it/s]"
     ]
    },
    {
     "name": "stdout",
     "output_type": "stream",
     "text": [
      "\n",
      "0: 640x640 (no detections), 36.8ms\n",
      "Speed: 1.0ms preprocess, 36.8ms inference, 0.3ms postprocess per image at shape (1, 3, 640, 640)\n",
      "\n",
      "0: 640x640 1 fusible, 1 interruptor-puerta, 3 lamparas, 1 ventilador, 36.9ms\n",
      "Speed: 1.0ms preprocess, 36.9ms inference, 0.6ms postprocess per image at shape (1, 3, 640, 640)\n",
      "\n",
      "0: 640x640 1 borne, 1 fusible, 36.8ms\n",
      "Speed: 1.0ms preprocess, 36.8ms inference, 0.6ms postprocess per image at shape (1, 3, 640, 640)\n"
     ]
    },
    {
     "name": "stderr",
     "output_type": "stream",
     "text": [
      "Processing tiles:  17%|█▋        | 71/416 [00:02<00:13, 25.17it/s]"
     ]
    },
    {
     "name": "stdout",
     "output_type": "stream",
     "text": [
      "\n",
      "0: 640x640 (no detections), 36.8ms\n",
      "Speed: 1.0ms preprocess, 36.8ms inference, 0.3ms postprocess per image at shape (1, 3, 640, 640)\n",
      "\n",
      "0: 640x640 (no detections), 36.8ms\n",
      "Speed: 1.0ms preprocess, 36.8ms inference, 0.3ms postprocess per image at shape (1, 3, 640, 640)\n",
      "\n",
      "0: 640x640 (no detections), 36.7ms\n",
      "Speed: 1.0ms preprocess, 36.7ms inference, 0.3ms postprocess per image at shape (1, 3, 640, 640)\n"
     ]
    },
    {
     "name": "stderr",
     "output_type": "stream",
     "text": [
      "Processing tiles:  18%|█▊        | 74/416 [00:02<00:13, 25.20it/s]"
     ]
    },
    {
     "name": "stdout",
     "output_type": "stream",
     "text": [
      "\n",
      "0: 640x640 (no detections), 36.8ms\n",
      "Speed: 1.0ms preprocess, 36.8ms inference, 0.3ms postprocess per image at shape (1, 3, 640, 640)\n",
      "\n",
      "0: 640x640 (no detections), 36.9ms\n",
      "Speed: 1.0ms preprocess, 36.9ms inference, 0.3ms postprocess per image at shape (1, 3, 640, 640)\n",
      "\n",
      "0: 640x640 (no detections), 36.9ms\n",
      "Speed: 1.0ms preprocess, 36.9ms inference, 0.3ms postprocess per image at shape (1, 3, 640, 640)\n"
     ]
    },
    {
     "name": "stderr",
     "output_type": "stream",
     "text": [
      "Processing tiles:  19%|█▊        | 77/416 [00:03<00:13, 25.21it/s]"
     ]
    },
    {
     "name": "stdout",
     "output_type": "stream",
     "text": [
      "\n",
      "0: 640x544 (no detections), 33.4ms\n",
      "Speed: 0.8ms preprocess, 33.4ms inference, 0.3ms postprocess per image at shape (1, 3, 640, 544)\n",
      "\n",
      "0: 640x640 (no detections), 38.1ms\n",
      "Speed: 1.0ms preprocess, 38.1ms inference, 0.3ms postprocess per image at shape (1, 3, 640, 640)\n",
      "\n",
      "0: 640x640 (no detections), 36.8ms\n",
      "Speed: 1.0ms preprocess, 36.8ms inference, 0.3ms postprocess per image at shape (1, 3, 640, 640)\n"
     ]
    },
    {
     "name": "stderr",
     "output_type": "stream",
     "text": [
      "Processing tiles:  19%|█▉        | 80/416 [00:03<00:13, 25.38it/s]"
     ]
    },
    {
     "name": "stdout",
     "output_type": "stream",
     "text": [
      "\n",
      "0: 640x640 1 proteccion-termomagnetica, 36.8ms\n",
      "Speed: 1.0ms preprocess, 36.8ms inference, 0.6ms postprocess per image at shape (1, 3, 640, 640)\n",
      "\n",
      "0: 640x640 1 borne, 1 borne-cortocircuitable, 1 equipo-de-medida, 4 proteccion-termomagneticas, 1 transformador-corriente, 36.8ms\n",
      "Speed: 0.9ms preprocess, 36.8ms inference, 0.6ms postprocess per image at shape (1, 3, 640, 640)\n",
      "\n",
      "0: 640x640 5 proteccion-termomagneticas, 1 puerto-comunicacion, 36.8ms\n",
      "Speed: 0.9ms preprocess, 36.8ms inference, 0.6ms postprocess per image at shape (1, 3, 640, 640)\n"
     ]
    },
    {
     "name": "stderr",
     "output_type": "stream",
     "text": [
      "Processing tiles:  20%|█▉        | 83/416 [00:03<00:13, 25.24it/s]"
     ]
    },
    {
     "name": "stdout",
     "output_type": "stream",
     "text": [
      "\n",
      "0: 640x640 3 proteccion-termomagneticas, 36.8ms\n",
      "Speed: 0.9ms preprocess, 36.8ms inference, 0.6ms postprocess per image at shape (1, 3, 640, 640)\n",
      "\n",
      "0: 640x640 4 proteccion-termomagneticas, 36.8ms\n",
      "Speed: 0.9ms preprocess, 36.8ms inference, 0.6ms postprocess per image at shape (1, 3, 640, 640)\n",
      "\n",
      "0: 640x640 5 proteccion-termomagneticas, 36.9ms\n",
      "Speed: 0.9ms preprocess, 36.9ms inference, 0.6ms postprocess per image at shape (1, 3, 640, 640)\n"
     ]
    },
    {
     "name": "stderr",
     "output_type": "stream",
     "text": [
      "Processing tiles:  21%|██        | 86/416 [00:03<00:13, 25.17it/s]"
     ]
    },
    {
     "name": "stdout",
     "output_type": "stream",
     "text": [
      "\n",
      "0: 640x640 1 borne-cortocircuitable, 1 equipo-de-medida, 6 proteccion-termomagneticas, 1 transformador-corriente, 36.7ms\n",
      "Speed: 1.0ms preprocess, 36.7ms inference, 0.6ms postprocess per image at shape (1, 3, 640, 640)\n",
      "\n",
      "0: 640x640 4 proteccion-termomagneticas, 1 puerto-comunicacion, 36.7ms\n",
      "Speed: 1.0ms preprocess, 36.7ms inference, 0.7ms postprocess per image at shape (1, 3, 640, 640)\n",
      "\n",
      "0: 640x640 4 proteccion-termomagneticas, 36.8ms\n",
      "Speed: 0.9ms preprocess, 36.8ms inference, 0.7ms postprocess per image at shape (1, 3, 640, 640)\n"
     ]
    },
    {
     "name": "stderr",
     "output_type": "stream",
     "text": [
      "Processing tiles:  21%|██▏       | 89/416 [00:03<00:13, 25.09it/s]"
     ]
    },
    {
     "name": "stdout",
     "output_type": "stream",
     "text": [
      "\n",
      "0: 640x640 2 proteccion-termomagneticas, 36.7ms\n",
      "Speed: 1.0ms preprocess, 36.7ms inference, 0.6ms postprocess per image at shape (1, 3, 640, 640)\n",
      "\n",
      "0: 640x640 4 proteccion-termomagneticas, 36.8ms\n",
      "Speed: 0.9ms preprocess, 36.8ms inference, 0.6ms postprocess per image at shape (1, 3, 640, 640)\n",
      "\n",
      "0: 640x640 5 proteccion-termomagneticas, 36.9ms\n",
      "Speed: 0.9ms preprocess, 36.9ms inference, 0.6ms postprocess per image at shape (1, 3, 640, 640)\n"
     ]
    },
    {
     "name": "stderr",
     "output_type": "stream",
     "text": [
      "Processing tiles:  22%|██▏       | 92/416 [00:03<00:12, 25.05it/s]"
     ]
    },
    {
     "name": "stdout",
     "output_type": "stream",
     "text": [
      "\n",
      "0: 640x640 1 borne-cortocircuitable, 1 equipo-de-medida, 5 proteccion-termomagneticas, 1 puerto-comunicacion, 1 transformador-corriente, 36.9ms\n",
      "Speed: 1.0ms preprocess, 36.9ms inference, 0.6ms postprocess per image at shape (1, 3, 640, 640)\n",
      "\n",
      "0: 640x640 5 proteccion-termomagneticas, 1 puerto-comunicacion, 37.0ms\n",
      "Speed: 0.9ms preprocess, 37.0ms inference, 0.7ms postprocess per image at shape (1, 3, 640, 640)\n",
      "\n",
      "0: 640x640 3 proteccion-termomagneticas, 36.9ms\n",
      "Speed: 1.0ms preprocess, 36.9ms inference, 0.6ms postprocess per image at shape (1, 3, 640, 640)\n"
     ]
    },
    {
     "name": "stderr",
     "output_type": "stream",
     "text": [
      "Processing tiles:  23%|██▎       | 95/416 [00:03<00:12, 24.98it/s]"
     ]
    },
    {
     "name": "stdout",
     "output_type": "stream",
     "text": [
      "\n",
      "0: 640x640 3 proteccion-termomagneticas, 1 transformador-corriente, 36.7ms\n",
      "Speed: 1.1ms preprocess, 36.7ms inference, 0.6ms postprocess per image at shape (1, 3, 640, 640)\n",
      "\n",
      "0: 640x640 1 borne-cortocircuitable, 1 equipo-de-medida, 3 proteccion-termomagneticas, 1 puerto-comunicacion, 1 ventilador, 36.8ms\n",
      "Speed: 1.0ms preprocess, 36.8ms inference, 0.7ms postprocess per image at shape (1, 3, 640, 640)\n",
      "\n",
      "0: 640x640 (no detections), 36.7ms\n",
      "Speed: 1.0ms preprocess, 36.7ms inference, 0.3ms postprocess per image at shape (1, 3, 640, 640)\n"
     ]
    },
    {
     "name": "stderr",
     "output_type": "stream",
     "text": [
      "Processing tiles:  24%|██▎       | 98/416 [00:03<00:12, 25.00it/s]"
     ]
    },
    {
     "name": "stdout",
     "output_type": "stream",
     "text": [
      "\n",
      "0: 640x640 (no detections), 36.8ms\n",
      "Speed: 1.1ms preprocess, 36.8ms inference, 0.3ms postprocess per image at shape (1, 3, 640, 640)\n",
      "\n",
      "0: 640x640 (no detections), 36.8ms\n",
      "Speed: 1.1ms preprocess, 36.8ms inference, 0.3ms postprocess per image at shape (1, 3, 640, 640)\n",
      "\n",
      "0: 640x640 (no detections), 36.8ms\n",
      "Speed: 1.2ms preprocess, 36.8ms inference, 0.3ms postprocess per image at shape (1, 3, 640, 640)\n"
     ]
    },
    {
     "name": "stderr",
     "output_type": "stream",
     "text": [
      "Processing tiles:  24%|██▍       | 101/416 [00:04<00:12, 25.04it/s]"
     ]
    },
    {
     "name": "stdout",
     "output_type": "stream",
     "text": [
      "\n",
      "0: 640x640 (no detections), 36.9ms\n",
      "Speed: 1.2ms preprocess, 36.9ms inference, 0.3ms postprocess per image at shape (1, 3, 640, 640)\n",
      "\n",
      "0: 640x640 (no detections), 37.0ms\n",
      "Speed: 1.2ms preprocess, 37.0ms inference, 0.3ms postprocess per image at shape (1, 3, 640, 640)\n",
      "\n",
      "0: 640x544 (no detections), 33.4ms\n",
      "Speed: 0.9ms preprocess, 33.4ms inference, 0.3ms postprocess per image at shape (1, 3, 640, 544)\n"
     ]
    },
    {
     "name": "stderr",
     "output_type": "stream",
     "text": [
      "Processing tiles:  25%|██▌       | 104/416 [00:04<00:12, 25.25it/s]"
     ]
    },
    {
     "name": "stdout",
     "output_type": "stream",
     "text": [
      "\n",
      "0: 640x640 (no detections), 37.9ms\n",
      "Speed: 1.2ms preprocess, 37.9ms inference, 0.3ms postprocess per image at shape (1, 3, 640, 640)\n",
      "\n",
      "0: 640x640 2 transformador-corrientes, 36.7ms\n",
      "Speed: 1.1ms preprocess, 36.7ms inference, 0.7ms postprocess per image at shape (1, 3, 640, 640)\n",
      "\n",
      "0: 640x640 1 actuador-knx, 1 borne, 1 proteccion-diferencial, 36.8ms\n",
      "Speed: 1.1ms preprocess, 36.8ms inference, 0.6ms postprocess per image at shape (1, 3, 640, 640)\n"
     ]
    },
    {
     "name": "stderr",
     "output_type": "stream",
     "text": [
      "Processing tiles:  26%|██▌       | 107/416 [00:04<00:12, 25.07it/s]"
     ]
    },
    {
     "name": "stdout",
     "output_type": "stream",
     "text": [
      "\n",
      "0: 640x640 3 bornes, 3 proteccion-diferencials, 36.8ms\n",
      "Speed: 1.2ms preprocess, 36.8ms inference, 0.6ms postprocess per image at shape (1, 3, 640, 640)\n",
      "\n",
      "0: 640x640 5 bornes, 5 proteccion-diferencials, 36.8ms\n",
      "Speed: 1.2ms preprocess, 36.8ms inference, 0.7ms postprocess per image at shape (1, 3, 640, 640)\n",
      "\n",
      "0: 640x640 2 bornes, 1 fuente-knx, 2 proteccion-diferencials, 36.8ms\n",
      "Speed: 1.0ms preprocess, 36.8ms inference, 0.6ms postprocess per image at shape (1, 3, 640, 640)\n"
     ]
    },
    {
     "name": "stderr",
     "output_type": "stream",
     "text": [
      "Processing tiles:  26%|██▋       | 110/416 [00:04<00:12, 24.95it/s]"
     ]
    },
    {
     "name": "stdout",
     "output_type": "stream",
     "text": [
      "\n",
      "0: 640x640 4 bornes, 5 proteccion-diferencials, 36.7ms\n",
      "Speed: 1.1ms preprocess, 36.7ms inference, 0.7ms postprocess per image at shape (1, 3, 640, 640)\n",
      "\n",
      "0: 640x640 5 bornes, 5 proteccion-diferencials, 36.8ms\n",
      "Speed: 1.1ms preprocess, 36.8ms inference, 0.7ms postprocess per image at shape (1, 3, 640, 640)\n",
      "\n",
      "0: 640x640 5 bornes, 5 proteccion-diferencials, 36.8ms\n",
      "Speed: 1.1ms preprocess, 36.8ms inference, 0.6ms postprocess per image at shape (1, 3, 640, 640)\n"
     ]
    },
    {
     "name": "stderr",
     "output_type": "stream",
     "text": [
      "Processing tiles:  27%|██▋       | 113/416 [00:04<00:12, 24.88it/s]"
     ]
    },
    {
     "name": "stdout",
     "output_type": "stream",
     "text": [
      "\n",
      "0: 640x640 4 bornes, 5 proteccion-diferencials, 36.8ms\n",
      "Speed: 1.2ms preprocess, 36.8ms inference, 0.7ms postprocess per image at shape (1, 3, 640, 640)\n",
      "\n",
      "0: 640x640 4 bornes, 4 proteccion-diferencials, 36.8ms\n",
      "Speed: 1.1ms preprocess, 36.8ms inference, 0.9ms postprocess per image at shape (1, 3, 640, 640)\n",
      "\n",
      "0: 640x640 2 bornes, 2 proteccion-diferencials, 36.7ms\n",
      "Speed: 1.1ms preprocess, 36.7ms inference, 0.7ms postprocess per image at shape (1, 3, 640, 640)\n"
     ]
    },
    {
     "name": "stderr",
     "output_type": "stream",
     "text": [
      "Processing tiles:  28%|██▊       | 116/416 [00:04<00:12, 24.79it/s]"
     ]
    },
    {
     "name": "stdout",
     "output_type": "stream",
     "text": [
      "\n",
      "0: 640x640 4 bornes, 5 proteccion-diferencials, 36.7ms\n",
      "Speed: 1.1ms preprocess, 36.7ms inference, 0.6ms postprocess per image at shape (1, 3, 640, 640)\n",
      "\n",
      "0: 640x640 5 bornes, 5 proteccion-diferencials, 36.8ms\n",
      "Speed: 1.1ms preprocess, 36.8ms inference, 0.7ms postprocess per image at shape (1, 3, 640, 640)\n",
      "\n",
      "0: 640x640 4 bornes, 5 proteccion-diferencials, 36.9ms\n",
      "Speed: 1.2ms preprocess, 36.9ms inference, 0.7ms postprocess per image at shape (1, 3, 640, 640)\n"
     ]
    },
    {
     "name": "stderr",
     "output_type": "stream",
     "text": [
      "Processing tiles:  29%|██▊       | 119/416 [00:04<00:11, 24.75it/s]"
     ]
    },
    {
     "name": "stdout",
     "output_type": "stream",
     "text": [
      "\n",
      "0: 640x640 5 bornes, 5 proteccion-diferencials, 36.8ms\n",
      "Speed: 1.1ms preprocess, 36.8ms inference, 0.7ms postprocess per image at shape (1, 3, 640, 640)\n",
      "\n",
      "0: 640x640 2 bornes, 3 proteccion-diferencials, 36.8ms\n",
      "Speed: 1.2ms preprocess, 36.8ms inference, 0.6ms postprocess per image at shape (1, 3, 640, 640)\n",
      "\n",
      "0: 640x640 2 bornes, 1 luz-piloto, 2 proteccion-diferencials, 36.7ms\n",
      "Speed: 1.1ms preprocess, 36.7ms inference, 0.7ms postprocess per image at shape (1, 3, 640, 640)\n"
     ]
    },
    {
     "name": "stderr",
     "output_type": "stream",
     "text": [
      "Processing tiles:  29%|██▉       | 122/416 [00:04<00:11, 24.72it/s]"
     ]
    },
    {
     "name": "stdout",
     "output_type": "stream",
     "text": [
      "\n",
      "0: 640x640 2 bornes, 1 luz-piloto, 2 proteccion-diferencials, 36.6ms\n",
      "Speed: 1.1ms preprocess, 36.6ms inference, 0.6ms postprocess per image at shape (1, 3, 640, 640)\n",
      "\n",
      "0: 640x640 (no detections), 36.6ms\n",
      "Speed: 1.1ms preprocess, 36.6ms inference, 0.3ms postprocess per image at shape (1, 3, 640, 640)\n",
      "\n",
      "0: 640x640 (no detections), 36.6ms\n",
      "Speed: 1.1ms preprocess, 36.6ms inference, 0.3ms postprocess per image at shape (1, 3, 640, 640)\n"
     ]
    },
    {
     "name": "stderr",
     "output_type": "stream",
     "text": [
      "Processing tiles:  30%|███       | 125/416 [00:05<00:11, 24.83it/s]"
     ]
    },
    {
     "name": "stdout",
     "output_type": "stream",
     "text": [
      "\n",
      "0: 640x640 (no detections), 36.6ms\n",
      "Speed: 1.0ms preprocess, 36.6ms inference, 0.3ms postprocess per image at shape (1, 3, 640, 640)\n",
      "\n",
      "0: 640x640 (no detections), 36.7ms\n",
      "Speed: 1.0ms preprocess, 36.7ms inference, 0.3ms postprocess per image at shape (1, 3, 640, 640)\n",
      "\n",
      "0: 640x640 (no detections), 37.0ms\n",
      "Speed: 1.0ms preprocess, 37.0ms inference, 0.3ms postprocess per image at shape (1, 3, 640, 640)\n"
     ]
    },
    {
     "name": "stderr",
     "output_type": "stream",
     "text": [
      "Processing tiles:  31%|███       | 128/416 [00:05<00:11, 24.91it/s]"
     ]
    },
    {
     "name": "stdout",
     "output_type": "stream",
     "text": [
      "\n",
      "0: 640x640 (no detections), 37.1ms\n",
      "Speed: 1.1ms preprocess, 37.1ms inference, 0.3ms postprocess per image at shape (1, 3, 640, 640)\n",
      "\n",
      "0: 640x544 1 transformador-aislacion, 33.7ms\n",
      "Speed: 1.0ms preprocess, 33.7ms inference, 0.6ms postprocess per image at shape (1, 3, 640, 544)\n",
      "\n",
      "0: 640x640 (no detections), 37.7ms\n",
      "Speed: 1.0ms preprocess, 37.7ms inference, 0.3ms postprocess per image at shape (1, 3, 640, 640)\n"
     ]
    },
    {
     "name": "stderr",
     "output_type": "stream",
     "text": [
      "Processing tiles:  31%|███▏      | 131/416 [00:05<00:11, 25.07it/s]"
     ]
    },
    {
     "name": "stdout",
     "output_type": "stream",
     "text": [
      "\n",
      "0: 640x640 (no detections), 36.8ms\n",
      "Speed: 1.0ms preprocess, 36.8ms inference, 0.3ms postprocess per image at shape (1, 3, 640, 640)\n",
      "\n",
      "0: 640x640 (no detections), 36.8ms\n",
      "Speed: 0.9ms preprocess, 36.8ms inference, 0.3ms postprocess per image at shape (1, 3, 640, 640)\n",
      "\n",
      "0: 640x640 (no detections), 36.9ms\n",
      "Speed: 0.9ms preprocess, 36.9ms inference, 0.3ms postprocess per image at shape (1, 3, 640, 640)\n"
     ]
    },
    {
     "name": "stderr",
     "output_type": "stream",
     "text": [
      "Processing tiles:  32%|███▏      | 134/416 [00:05<00:11, 25.13it/s]"
     ]
    },
    {
     "name": "stdout",
     "output_type": "stream",
     "text": [
      "\n",
      "0: 640x640 (no detections), 36.9ms\n",
      "Speed: 1.0ms preprocess, 36.9ms inference, 0.3ms postprocess per image at shape (1, 3, 640, 640)\n",
      "\n",
      "0: 640x640 (no detections), 36.8ms\n",
      "Speed: 1.1ms preprocess, 36.8ms inference, 0.3ms postprocess per image at shape (1, 3, 640, 640)\n",
      "\n",
      "0: 640x640 (no detections), 36.8ms\n",
      "Speed: 1.0ms preprocess, 36.8ms inference, 0.3ms postprocess per image at shape (1, 3, 640, 640)\n"
     ]
    },
    {
     "name": "stderr",
     "output_type": "stream",
     "text": [
      "Processing tiles:  33%|███▎      | 137/416 [00:05<00:11, 25.15it/s]"
     ]
    },
    {
     "name": "stdout",
     "output_type": "stream",
     "text": [
      "\n",
      "0: 640x640 (no detections), 36.9ms\n",
      "Speed: 0.9ms preprocess, 36.9ms inference, 0.3ms postprocess per image at shape (1, 3, 640, 640)\n",
      "\n",
      "0: 640x640 (no detections), 36.9ms\n",
      "Speed: 1.0ms preprocess, 36.9ms inference, 0.3ms postprocess per image at shape (1, 3, 640, 640)\n",
      "\n",
      "0: 640x640 (no detections), 36.9ms\n",
      "Speed: 1.0ms preprocess, 36.9ms inference, 0.3ms postprocess per image at shape (1, 3, 640, 640)\n"
     ]
    },
    {
     "name": "stderr",
     "output_type": "stream",
     "text": [
      "Processing tiles:  34%|███▎      | 140/416 [00:05<00:10, 25.17it/s]"
     ]
    },
    {
     "name": "stdout",
     "output_type": "stream",
     "text": [
      "\n",
      "0: 640x640 (no detections), 36.8ms\n",
      "Speed: 1.0ms preprocess, 36.8ms inference, 0.3ms postprocess per image at shape (1, 3, 640, 640)\n",
      "\n",
      "0: 640x640 (no detections), 36.9ms\n",
      "Speed: 1.0ms preprocess, 36.9ms inference, 0.3ms postprocess per image at shape (1, 3, 640, 640)\n",
      "\n",
      "0: 640x640 (no detections), 36.9ms\n",
      "Speed: 0.9ms preprocess, 36.9ms inference, 0.3ms postprocess per image at shape (1, 3, 640, 640)\n"
     ]
    },
    {
     "name": "stderr",
     "output_type": "stream",
     "text": [
      "Processing tiles:  34%|███▍      | 143/416 [00:05<00:10, 25.18it/s]"
     ]
    },
    {
     "name": "stdout",
     "output_type": "stream",
     "text": [
      "\n",
      "0: 640x640 (no detections), 36.9ms\n",
      "Speed: 1.1ms preprocess, 36.9ms inference, 0.3ms postprocess per image at shape (1, 3, 640, 640)\n",
      "\n",
      "0: 640x640 (no detections), 36.9ms\n",
      "Speed: 0.9ms preprocess, 36.9ms inference, 0.3ms postprocess per image at shape (1, 3, 640, 640)\n",
      "\n",
      "0: 640x640 (no detections), 36.8ms\n",
      "Speed: 1.0ms preprocess, 36.8ms inference, 0.3ms postprocess per image at shape (1, 3, 640, 640)\n"
     ]
    },
    {
     "name": "stderr",
     "output_type": "stream",
     "text": [
      "Processing tiles:  35%|███▌      | 146/416 [00:05<00:10, 25.19it/s]"
     ]
    },
    {
     "name": "stdout",
     "output_type": "stream",
     "text": [
      "\n",
      "0: 640x640 (no detections), 36.8ms\n",
      "Speed: 0.9ms preprocess, 36.8ms inference, 0.3ms postprocess per image at shape (1, 3, 640, 640)\n",
      "\n",
      "0: 640x640 (no detections), 36.8ms\n",
      "Speed: 1.0ms preprocess, 36.8ms inference, 0.3ms postprocess per image at shape (1, 3, 640, 640)\n",
      "\n",
      "0: 640x640 (no detections), 36.8ms\n",
      "Speed: 0.9ms preprocess, 36.8ms inference, 0.3ms postprocess per image at shape (1, 3, 640, 640)\n"
     ]
    },
    {
     "name": "stderr",
     "output_type": "stream",
     "text": [
      "Processing tiles:  36%|███▌      | 149/416 [00:05<00:10, 25.23it/s]"
     ]
    },
    {
     "name": "stdout",
     "output_type": "stream",
     "text": [
      "\n",
      "0: 640x640 (no detections), 36.7ms\n",
      "Speed: 1.0ms preprocess, 36.7ms inference, 0.3ms postprocess per image at shape (1, 3, 640, 640)\n",
      "\n",
      "0: 640x640 (no detections), 36.7ms\n",
      "Speed: 1.0ms preprocess, 36.7ms inference, 0.3ms postprocess per image at shape (1, 3, 640, 640)\n",
      "\n",
      "0: 640x640 (no detections), 36.8ms\n",
      "Speed: 0.9ms preprocess, 36.8ms inference, 0.3ms postprocess per image at shape (1, 3, 640, 640)\n"
     ]
    },
    {
     "name": "stderr",
     "output_type": "stream",
     "text": [
      "Processing tiles:  37%|███▋      | 152/416 [00:06<00:10, 25.23it/s]"
     ]
    },
    {
     "name": "stdout",
     "output_type": "stream",
     "text": [
      "\n",
      "0: 640x640 (no detections), 36.8ms\n",
      "Speed: 0.9ms preprocess, 36.8ms inference, 0.3ms postprocess per image at shape (1, 3, 640, 640)\n",
      "\n",
      "0: 640x640 1 proteccion-termomagnetica, 37.0ms\n",
      "Speed: 1.0ms preprocess, 37.0ms inference, 0.6ms postprocess per image at shape (1, 3, 640, 640)\n",
      "\n",
      "0: 640x640 1 proteccion-termomagnetica, 37.6ms\n",
      "Speed: 1.1ms preprocess, 37.6ms inference, 0.6ms postprocess per image at shape (1, 3, 640, 640)\n"
     ]
    },
    {
     "name": "stderr",
     "output_type": "stream",
     "text": [
      "Processing tiles:  37%|███▋      | 155/416 [00:06<00:10, 25.13it/s]"
     ]
    },
    {
     "name": "stdout",
     "output_type": "stream",
     "text": [
      "\n",
      "0: 640x544 1 proteccion-termomagnetica, 2 transformador-aislacions, 33.5ms\n",
      "Speed: 0.8ms preprocess, 33.5ms inference, 0.6ms postprocess per image at shape (1, 3, 640, 544)\n",
      "\n",
      "0: 640x640 (no detections), 37.6ms\n",
      "Speed: 1.0ms preprocess, 37.6ms inference, 0.3ms postprocess per image at shape (1, 3, 640, 640)\n",
      "\n",
      "0: 640x640 (no detections), 37.0ms\n",
      "Speed: 0.9ms preprocess, 37.0ms inference, 0.3ms postprocess per image at shape (1, 3, 640, 640)\n"
     ]
    },
    {
     "name": "stderr",
     "output_type": "stream",
     "text": [
      "Processing tiles:  38%|███▊      | 158/416 [00:06<00:10, 25.28it/s]"
     ]
    },
    {
     "name": "stdout",
     "output_type": "stream",
     "text": [
      "\n",
      "0: 640x640 1 fusible, 36.9ms\n",
      "Speed: 1.0ms preprocess, 36.9ms inference, 0.6ms postprocess per image at shape (1, 3, 640, 640)\n",
      "\n",
      "0: 640x640 2 luz-pilotos, 1 proteccion-diferencial, 1 ventilador, 37.1ms\n",
      "Speed: 1.0ms preprocess, 37.1ms inference, 0.6ms postprocess per image at shape (1, 3, 640, 640)\n",
      "\n",
      "0: 640x640 1 puerto-comunicacion, 36.9ms\n",
      "Speed: 1.0ms preprocess, 36.9ms inference, 0.7ms postprocess per image at shape (1, 3, 640, 640)\n"
     ]
    },
    {
     "name": "stderr",
     "output_type": "stream",
     "text": [
      "Processing tiles:  39%|███▊      | 161/416 [00:06<00:10, 25.13it/s]"
     ]
    },
    {
     "name": "stdout",
     "output_type": "stream",
     "text": [
      "\n",
      "0: 640x640 (no detections), 36.7ms\n",
      "Speed: 1.0ms preprocess, 36.7ms inference, 0.3ms postprocess per image at shape (1, 3, 640, 640)\n",
      "\n",
      "0: 640x640 (no detections), 36.9ms\n",
      "Speed: 0.9ms preprocess, 36.9ms inference, 0.3ms postprocess per image at shape (1, 3, 640, 640)\n",
      "\n",
      "0: 640x640 (no detections), 36.8ms\n",
      "Speed: 1.0ms preprocess, 36.8ms inference, 0.3ms postprocess per image at shape (1, 3, 640, 640)\n"
     ]
    },
    {
     "name": "stderr",
     "output_type": "stream",
     "text": [
      "Processing tiles:  39%|███▉      | 164/416 [00:06<00:10, 25.15it/s]"
     ]
    },
    {
     "name": "stdout",
     "output_type": "stream",
     "text": [
      "\n",
      "0: 640x640 (no detections), 36.8ms\n",
      "Speed: 1.1ms preprocess, 36.8ms inference, 0.3ms postprocess per image at shape (1, 3, 640, 640)\n",
      "\n",
      "0: 640x640 (no detections), 36.9ms\n",
      "Speed: 1.0ms preprocess, 36.9ms inference, 0.3ms postprocess per image at shape (1, 3, 640, 640)\n",
      "\n",
      "0: 640x640 1 borne, 1 proteccion-termomagnetica, 36.9ms\n",
      "Speed: 1.0ms preprocess, 36.9ms inference, 0.7ms postprocess per image at shape (1, 3, 640, 640)\n"
     ]
    },
    {
     "name": "stderr",
     "output_type": "stream",
     "text": [
      "Processing tiles:  40%|████      | 167/416 [00:06<00:09, 25.12it/s]"
     ]
    },
    {
     "name": "stdout",
     "output_type": "stream",
     "text": [
      "\n",
      "0: 640x640 1 bloqueo, 1 equipo-de-medida, 2 fusibles, 3 luz-pilotos, 37.0ms\n",
      "Speed: 1.0ms preprocess, 37.0ms inference, 0.6ms postprocess per image at shape (1, 3, 640, 640)\n",
      "\n",
      "0: 640x640 (no detections), 36.9ms\n",
      "Speed: 0.9ms preprocess, 36.9ms inference, 0.3ms postprocess per image at shape (1, 3, 640, 640)\n",
      "\n",
      "0: 640x640 1 bloqueo, 36.9ms\n",
      "Speed: 1.0ms preprocess, 36.9ms inference, 0.6ms postprocess per image at shape (1, 3, 640, 640)\n"
     ]
    },
    {
     "name": "stderr",
     "output_type": "stream",
     "text": [
      "Processing tiles:  41%|████      | 170/416 [00:06<00:09, 25.07it/s]"
     ]
    },
    {
     "name": "stdout",
     "output_type": "stream",
     "text": [
      "\n",
      "0: 640x640 (no detections), 36.8ms\n",
      "Speed: 1.0ms preprocess, 36.8ms inference, 0.3ms postprocess per image at shape (1, 3, 640, 640)\n",
      "\n",
      "0: 640x640 (no detections), 36.9ms\n",
      "Speed: 0.9ms preprocess, 36.9ms inference, 0.3ms postprocess per image at shape (1, 3, 640, 640)\n",
      "\n",
      "0: 640x640 (no detections), 36.9ms\n",
      "Speed: 0.9ms preprocess, 36.9ms inference, 0.3ms postprocess per image at shape (1, 3, 640, 640)\n"
     ]
    },
    {
     "name": "stderr",
     "output_type": "stream",
     "text": [
      "Processing tiles:  42%|████▏     | 173/416 [00:06<00:09, 25.12it/s]"
     ]
    },
    {
     "name": "stdout",
     "output_type": "stream",
     "text": [
      "\n",
      "0: 640x640 (no detections), 36.9ms\n",
      "Speed: 0.9ms preprocess, 36.9ms inference, 0.3ms postprocess per image at shape (1, 3, 640, 640)\n",
      "\n",
      "0: 640x640 (no detections), 36.9ms\n",
      "Speed: 0.9ms preprocess, 36.9ms inference, 0.3ms postprocess per image at shape (1, 3, 640, 640)\n",
      "\n",
      "0: 640x640 (no detections), 36.9ms\n",
      "Speed: 0.9ms preprocess, 36.9ms inference, 0.3ms postprocess per image at shape (1, 3, 640, 640)\n"
     ]
    },
    {
     "name": "stderr",
     "output_type": "stream",
     "text": [
      "Processing tiles:  42%|████▏     | 176/416 [00:07<00:09, 25.17it/s]"
     ]
    },
    {
     "name": "stdout",
     "output_type": "stream",
     "text": [
      "\n",
      "0: 640x640 (no detections), 36.8ms\n",
      "Speed: 1.0ms preprocess, 36.8ms inference, 0.3ms postprocess per image at shape (1, 3, 640, 640)\n",
      "\n",
      "0: 640x640 (no detections), 36.9ms\n",
      "Speed: 1.0ms preprocess, 36.9ms inference, 0.3ms postprocess per image at shape (1, 3, 640, 640)\n",
      "\n",
      "0: 640x640 (no detections), 36.9ms\n",
      "Speed: 1.0ms preprocess, 36.9ms inference, 0.3ms postprocess per image at shape (1, 3, 640, 640)\n"
     ]
    },
    {
     "name": "stderr",
     "output_type": "stream",
     "text": [
      "Processing tiles:  43%|████▎     | 179/416 [00:07<00:09, 25.18it/s]"
     ]
    },
    {
     "name": "stdout",
     "output_type": "stream",
     "text": [
      "\n",
      "0: 640x640 2 proteccion-termomagneticas, 36.9ms\n",
      "Speed: 1.0ms preprocess, 36.9ms inference, 0.7ms postprocess per image at shape (1, 3, 640, 640)\n",
      "\n",
      "0: 640x640 (no detections), 37.0ms\n",
      "Speed: 1.0ms preprocess, 37.0ms inference, 0.3ms postprocess per image at shape (1, 3, 640, 640)\n",
      "\n",
      "0: 640x544 2 proteccion-termomagneticas, 33.7ms\n",
      "Speed: 0.8ms preprocess, 33.7ms inference, 0.6ms postprocess per image at shape (1, 3, 640, 544)\n"
     ]
    },
    {
     "name": "stderr",
     "output_type": "stream",
     "text": [
      "Processing tiles:  44%|████▍     | 182/416 [00:07<00:09, 25.33it/s]"
     ]
    },
    {
     "name": "stdout",
     "output_type": "stream",
     "text": [
      "\n",
      "0: 640x640 (no detections), 37.2ms\n",
      "Speed: 1.0ms preprocess, 37.2ms inference, 0.3ms postprocess per image at shape (1, 3, 640, 640)\n",
      "\n",
      "0: 640x640 (no detections), 36.8ms\n",
      "Speed: 1.0ms preprocess, 36.8ms inference, 0.3ms postprocess per image at shape (1, 3, 640, 640)\n",
      "\n",
      "0: 640x640 1 lampara, 36.7ms\n",
      "Speed: 0.9ms preprocess, 36.7ms inference, 0.6ms postprocess per image at shape (1, 3, 640, 640)\n"
     ]
    },
    {
     "name": "stderr",
     "output_type": "stream",
     "text": [
      "Processing tiles:  44%|████▍     | 185/416 [00:07<00:09, 25.26it/s]"
     ]
    },
    {
     "name": "stdout",
     "output_type": "stream",
     "text": [
      "\n",
      "0: 640x640 1 borne, 1 fusible, 36.6ms\n",
      "Speed: 1.0ms preprocess, 36.6ms inference, 0.6ms postprocess per image at shape (1, 3, 640, 640)\n",
      "\n",
      "0: 640x640 (no detections), 36.6ms\n",
      "Speed: 1.0ms preprocess, 36.6ms inference, 0.3ms postprocess per image at shape (1, 3, 640, 640)\n",
      "\n",
      "0: 640x640 (no detections), 36.8ms\n",
      "Speed: 1.0ms preprocess, 36.8ms inference, 0.3ms postprocess per image at shape (1, 3, 640, 640)\n"
     ]
    },
    {
     "name": "stderr",
     "output_type": "stream",
     "text": [
      "Processing tiles:  45%|████▌     | 188/416 [00:07<00:09, 25.22it/s]"
     ]
    },
    {
     "name": "stdout",
     "output_type": "stream",
     "text": [
      "\n",
      "0: 640x640 1 ventilador, 37.1ms\n",
      "Speed: 0.9ms preprocess, 37.1ms inference, 0.6ms postprocess per image at shape (1, 3, 640, 640)\n",
      "\n",
      "0: 640x640 (no detections), 37.0ms\n",
      "Speed: 0.9ms preprocess, 37.0ms inference, 0.3ms postprocess per image at shape (1, 3, 640, 640)\n",
      "\n",
      "0: 640x640 1 borne, 1 fusible, 37.0ms\n",
      "Speed: 0.9ms preprocess, 37.0ms inference, 0.6ms postprocess per image at shape (1, 3, 640, 640)\n"
     ]
    },
    {
     "name": "stderr",
     "output_type": "stream",
     "text": [
      "Processing tiles:  46%|████▌     | 191/416 [00:07<00:08, 25.12it/s]"
     ]
    },
    {
     "name": "stdout",
     "output_type": "stream",
     "text": [
      "\n",
      "0: 640x640 (no detections), 37.0ms\n",
      "Speed: 1.0ms preprocess, 37.0ms inference, 0.3ms postprocess per image at shape (1, 3, 640, 640)\n",
      "\n",
      "0: 640x640 1 proteccion-termomagnetica, 1 transformador-corriente, 37.0ms\n",
      "Speed: 1.0ms preprocess, 37.0ms inference, 0.7ms postprocess per image at shape (1, 3, 640, 640)\n",
      "\n",
      "0: 640x640 1 borne-cortocircuitable, 1 equipo-de-medida, 1 puerto-comunicacion, 37.0ms\n",
      "Speed: 1.0ms preprocess, 37.0ms inference, 0.6ms postprocess per image at shape (1, 3, 640, 640)\n"
     ]
    },
    {
     "name": "stderr",
     "output_type": "stream",
     "text": [
      "Processing tiles:  47%|████▋     | 194/416 [00:07<00:08, 25.02it/s]"
     ]
    },
    {
     "name": "stdout",
     "output_type": "stream",
     "text": [
      "\n",
      "0: 640x640 1 bloqueo, 1 puerto-comunicacion, 37.0ms\n",
      "Speed: 1.0ms preprocess, 37.0ms inference, 0.6ms postprocess per image at shape (1, 3, 640, 640)\n",
      "\n",
      "0: 640x640 (no detections), 37.1ms\n",
      "Speed: 0.9ms preprocess, 37.1ms inference, 0.3ms postprocess per image at shape (1, 3, 640, 640)\n",
      "\n",
      "0: 640x640 1 borne, 1 fusible, 37.0ms\n",
      "Speed: 1.0ms preprocess, 37.0ms inference, 0.7ms postprocess per image at shape (1, 3, 640, 640)\n"
     ]
    },
    {
     "name": "stderr",
     "output_type": "stream",
     "text": [
      "Processing tiles:  47%|████▋     | 197/416 [00:07<00:08, 24.97it/s]"
     ]
    },
    {
     "name": "stdout",
     "output_type": "stream",
     "text": [
      "\n",
      "0: 640x640 (no detections), 37.0ms\n",
      "Speed: 1.0ms preprocess, 37.0ms inference, 0.3ms postprocess per image at shape (1, 3, 640, 640)\n",
      "\n",
      "0: 640x640 (no detections), 37.2ms\n",
      "Speed: 1.0ms preprocess, 37.2ms inference, 0.3ms postprocess per image at shape (1, 3, 640, 640)\n",
      "\n",
      "0: 640x640 (no detections), 37.1ms\n",
      "Speed: 1.0ms preprocess, 37.1ms inference, 0.3ms postprocess per image at shape (1, 3, 640, 640)\n"
     ]
    },
    {
     "name": "stderr",
     "output_type": "stream",
     "text": [
      "Processing tiles:  48%|████▊     | 200/416 [00:07<00:08, 24.99it/s]"
     ]
    },
    {
     "name": "stdout",
     "output_type": "stream",
     "text": [
      "\n",
      "0: 640x640 1 fusible, 1 interruptor-puerta, 2 lamparas, 1 proteccion-termomagnetica, 1 ventilador, 36.9ms\n",
      "Speed: 1.0ms preprocess, 36.9ms inference, 0.7ms postprocess per image at shape (1, 3, 640, 640)\n",
      "\n",
      "0: 640x640 1 borne, 1 equipo-de-medida, 1 fusible, 1 puerto-comunicacion, 36.9ms\n",
      "Speed: 1.0ms preprocess, 36.9ms inference, 0.6ms postprocess per image at shape (1, 3, 640, 640)\n",
      "\n",
      "0: 640x640 (no detections), 37.1ms\n",
      "Speed: 1.0ms preprocess, 37.1ms inference, 0.3ms postprocess per image at shape (1, 3, 640, 640)\n"
     ]
    },
    {
     "name": "stderr",
     "output_type": "stream",
     "text": [
      "Processing tiles:  49%|████▉     | 203/416 [00:08<00:08, 24.93it/s]"
     ]
    },
    {
     "name": "stdout",
     "output_type": "stream",
     "text": [
      "\n",
      "0: 640x640 (no detections), 37.1ms\n",
      "Speed: 1.0ms preprocess, 37.1ms inference, 0.3ms postprocess per image at shape (1, 3, 640, 640)\n",
      "\n",
      "0: 640x640 (no detections), 36.9ms\n",
      "Speed: 1.0ms preprocess, 36.9ms inference, 0.3ms postprocess per image at shape (1, 3, 640, 640)\n",
      "\n",
      "0: 640x640 2 proteccion-termomagneticas, 37.0ms\n",
      "Speed: 0.9ms preprocess, 37.0ms inference, 0.6ms postprocess per image at shape (1, 3, 640, 640)\n"
     ]
    },
    {
     "name": "stderr",
     "output_type": "stream",
     "text": [
      "Processing tiles:  50%|████▉     | 206/416 [00:08<00:08, 24.97it/s]"
     ]
    },
    {
     "name": "stdout",
     "output_type": "stream",
     "text": [
      "\n",
      "0: 640x640 (no detections), 37.0ms\n",
      "Speed: 0.9ms preprocess, 37.0ms inference, 0.3ms postprocess per image at shape (1, 3, 640, 640)\n",
      "\n",
      "0: 640x544 1 proteccion-termomagnetica, 33.8ms\n",
      "Speed: 0.8ms preprocess, 33.8ms inference, 0.6ms postprocess per image at shape (1, 3, 640, 544)\n",
      "\n",
      "0: 640x640 (no detections), 37.3ms\n",
      "Speed: 1.0ms preprocess, 37.3ms inference, 0.3ms postprocess per image at shape (1, 3, 640, 640)\n"
     ]
    },
    {
     "name": "stderr",
     "output_type": "stream",
     "text": [
      "Processing tiles:  50%|█████     | 209/416 [00:08<00:08, 25.21it/s]"
     ]
    },
    {
     "name": "stdout",
     "output_type": "stream",
     "text": [
      "\n",
      "0: 640x640 (no detections), 36.9ms\n",
      "Speed: 1.0ms preprocess, 36.9ms inference, 0.3ms postprocess per image at shape (1, 3, 640, 640)\n",
      "\n",
      "0: 640x640 1 proteccion-diferencial, 1 proteccion-termomagnetica, 37.0ms\n",
      "Speed: 1.0ms preprocess, 37.0ms inference, 0.6ms postprocess per image at shape (1, 3, 640, 640)\n",
      "\n",
      "0: 640x640 1 borne-cortocircuitable, 1 equipo-de-medida, 4 proteccion-diferencials, 4 proteccion-termomagneticas, 1 transformador-corriente, 37.0ms\n",
      "Speed: 1.0ms preprocess, 37.0ms inference, 0.6ms postprocess per image at shape (1, 3, 640, 640)\n"
     ]
    },
    {
     "name": "stderr",
     "output_type": "stream",
     "text": [
      "Processing tiles:  51%|█████     | 212/416 [00:08<00:08, 25.09it/s]"
     ]
    },
    {
     "name": "stdout",
     "output_type": "stream",
     "text": [
      "\n",
      "0: 640x640 1 equipo-de-medida, 5 proteccion-diferencials, 5 proteccion-termomagneticas, 1 puerto-comunicacion, 37.0ms\n",
      "Speed: 1.0ms preprocess, 37.0ms inference, 0.7ms postprocess per image at shape (1, 3, 640, 640)\n",
      "\n",
      "0: 640x640 1 equipo-de-medida, 2 proteccion-diferencials, 2 proteccion-termomagneticas, 36.9ms\n",
      "Speed: 1.0ms preprocess, 36.9ms inference, 0.6ms postprocess per image at shape (1, 3, 640, 640)\n",
      "\n",
      "0: 640x640 5 proteccion-diferencials, 5 proteccion-termomagneticas, 36.7ms\n",
      "Speed: 1.0ms preprocess, 36.7ms inference, 0.7ms postprocess per image at shape (1, 3, 640, 640)\n"
     ]
    },
    {
     "name": "stderr",
     "output_type": "stream",
     "text": [
      "Processing tiles:  52%|█████▏    | 215/416 [00:08<00:08, 24.99it/s]"
     ]
    },
    {
     "name": "stdout",
     "output_type": "stream",
     "text": [
      "\n",
      "0: 640x640 5 proteccion-diferencials, 4 proteccion-termomagneticas, 36.7ms\n",
      "Speed: 1.0ms preprocess, 36.7ms inference, 0.7ms postprocess per image at shape (1, 3, 640, 640)\n",
      "\n",
      "0: 640x640 1 borne-cortocircuitable, 1 equipo-de-medida, 5 proteccion-diferencials, 6 proteccion-termomagneticas, 1 transformador-corriente, 36.8ms\n",
      "Speed: 1.0ms preprocess, 36.8ms inference, 0.7ms postprocess per image at shape (1, 3, 640, 640)\n",
      "\n",
      "0: 640x640 1 equipo-de-medida, 4 proteccion-diferencials, 4 proteccion-termomagneticas, 1 puerto-comunicacion, 37.0ms\n",
      "Speed: 1.0ms preprocess, 37.0ms inference, 0.6ms postprocess per image at shape (1, 3, 640, 640)\n"
     ]
    },
    {
     "name": "stderr",
     "output_type": "stream",
     "text": [
      "Processing tiles:  52%|█████▏    | 218/416 [00:08<00:07, 24.91it/s]"
     ]
    },
    {
     "name": "stdout",
     "output_type": "stream",
     "text": [
      "\n",
      "0: 640x640 5 proteccion-diferencials, 5 proteccion-termomagneticas, 37.2ms\n",
      "Speed: 1.0ms preprocess, 37.2ms inference, 0.7ms postprocess per image at shape (1, 3, 640, 640)\n",
      "\n",
      "0: 640x640 4 proteccion-diferencials, 4 proteccion-termomagneticas, 37.3ms\n",
      "Speed: 1.0ms preprocess, 37.3ms inference, 0.6ms postprocess per image at shape (1, 3, 640, 640)\n",
      "\n",
      "0: 640x640 5 proteccion-diferencials, 4 proteccion-termomagneticas, 37.2ms\n",
      "Speed: 1.0ms preprocess, 37.2ms inference, 0.6ms postprocess per image at shape (1, 3, 640, 640)\n"
     ]
    },
    {
     "name": "stderr",
     "output_type": "stream",
     "text": [
      "Processing tiles:  53%|█████▎    | 221/416 [00:08<00:07, 24.80it/s]"
     ]
    },
    {
     "name": "stdout",
     "output_type": "stream",
     "text": [
      "\n",
      "0: 640x640 5 proteccion-diferencials, 5 proteccion-termomagneticas, 37.3ms\n",
      "Speed: 1.0ms preprocess, 37.3ms inference, 0.6ms postprocess per image at shape (1, 3, 640, 640)\n",
      "\n",
      "0: 640x640 1 borne-cortocircuitable, 5 proteccion-diferencials, 6 proteccion-termomagneticas, 1 transformador-corriente, 37.2ms\n",
      "Speed: 1.0ms preprocess, 37.2ms inference, 0.6ms postprocess per image at shape (1, 3, 640, 640)\n",
      "\n",
      "0: 640x640 1 equipo-de-medida, 5 proteccion-diferencials, 4 proteccion-termomagneticas, 1 puerto-comunicacion, 37.0ms\n",
      "Speed: 1.0ms preprocess, 37.0ms inference, 0.6ms postprocess per image at shape (1, 3, 640, 640)\n"
     ]
    },
    {
     "name": "stderr",
     "output_type": "stream",
     "text": [
      "Processing tiles:  54%|█████▍    | 224/416 [00:08<00:07, 24.73it/s]"
     ]
    },
    {
     "name": "stdout",
     "output_type": "stream",
     "text": [
      "\n",
      "0: 640x640 5 proteccion-diferencials, 5 proteccion-termomagneticas, 37.2ms\n",
      "Speed: 1.0ms preprocess, 37.2ms inference, 0.6ms postprocess per image at shape (1, 3, 640, 640)\n",
      "\n",
      "0: 640x640 4 proteccion-diferencials, 4 proteccion-termomagneticas, 37.0ms\n",
      "Speed: 1.0ms preprocess, 37.0ms inference, 0.6ms postprocess per image at shape (1, 3, 640, 640)\n",
      "\n",
      "0: 640x640 2 proteccion-diferencials, 3 proteccion-termomagneticas, 1 transformador-corriente, 37.0ms\n",
      "Speed: 1.0ms preprocess, 37.0ms inference, 0.6ms postprocess per image at shape (1, 3, 640, 640)\n"
     ]
    },
    {
     "name": "stderr",
     "output_type": "stream",
     "text": [
      "Processing tiles:  55%|█████▍    | 227/416 [00:09<00:07, 24.70it/s]"
     ]
    },
    {
     "name": "stdout",
     "output_type": "stream",
     "text": [
      "\n",
      "0: 640x640 1 borne-cortocircuitable, 1 equipo-de-medida, 1 proteccion-diferencial, 1 proteccion-termomagnetica, 1 puerto-comunicacion, 37.0ms\n",
      "Speed: 1.0ms preprocess, 37.0ms inference, 0.6ms postprocess per image at shape (1, 3, 640, 640)\n",
      "\n",
      "0: 640x640 (no detections), 37.0ms\n",
      "Speed: 1.0ms preprocess, 37.0ms inference, 0.3ms postprocess per image at shape (1, 3, 640, 640)\n",
      "\n",
      "0: 640x640 (no detections), 37.0ms\n",
      "Speed: 1.0ms preprocess, 37.0ms inference, 0.3ms postprocess per image at shape (1, 3, 640, 640)\n"
     ]
    },
    {
     "name": "stderr",
     "output_type": "stream",
     "text": [
      "Processing tiles:  55%|█████▌    | 230/416 [00:09<00:07, 24.77it/s]"
     ]
    },
    {
     "name": "stdout",
     "output_type": "stream",
     "text": [
      "\n",
      "0: 640x640 (no detections), 36.9ms\n",
      "Speed: 0.9ms preprocess, 36.9ms inference, 0.3ms postprocess per image at shape (1, 3, 640, 640)\n",
      "\n",
      "0: 640x640 (no detections), 36.9ms\n",
      "Speed: 1.0ms preprocess, 36.9ms inference, 0.3ms postprocess per image at shape (1, 3, 640, 640)\n",
      "\n",
      "0: 640x640 (no detections), 37.1ms\n",
      "Speed: 0.9ms preprocess, 37.1ms inference, 0.3ms postprocess per image at shape (1, 3, 640, 640)\n"
     ]
    },
    {
     "name": "stderr",
     "output_type": "stream",
     "text": [
      "Processing tiles:  56%|█████▌    | 233/416 [00:09<00:07, 24.90it/s]"
     ]
    },
    {
     "name": "stdout",
     "output_type": "stream",
     "text": [
      "\n",
      "0: 640x544 (no detections), 33.8ms\n",
      "Speed: 0.9ms preprocess, 33.8ms inference, 0.3ms postprocess per image at shape (1, 3, 640, 544)\n",
      "\n",
      "0: 640x640 (no detections), 37.4ms\n",
      "Speed: 1.0ms preprocess, 37.4ms inference, 0.3ms postprocess per image at shape (1, 3, 640, 640)\n",
      "\n",
      "0: 640x640 2 transformador-corrientes, 37.0ms\n",
      "Speed: 1.0ms preprocess, 37.0ms inference, 0.6ms postprocess per image at shape (1, 3, 640, 640)\n"
     ]
    },
    {
     "name": "stderr",
     "output_type": "stream",
     "text": [
      "Processing tiles:  57%|█████▋    | 236/416 [00:09<00:07, 25.11it/s]"
     ]
    },
    {
     "name": "stdout",
     "output_type": "stream",
     "text": [
      "\n",
      "0: 640x640 1 actuador-knx, 1 borne, 1 proteccion-diferencial, 36.9ms\n",
      "Speed: 1.0ms preprocess, 36.9ms inference, 0.6ms postprocess per image at shape (1, 3, 640, 640)\n",
      "\n",
      "0: 640x640 3 bornes, 4 proteccion-diferencials, 37.1ms\n",
      "Speed: 1.0ms preprocess, 37.1ms inference, 0.6ms postprocess per image at shape (1, 3, 640, 640)\n",
      "\n",
      "0: 640x640 5 bornes, 5 proteccion-diferencials, 37.2ms\n",
      "Speed: 1.0ms preprocess, 37.2ms inference, 0.7ms postprocess per image at shape (1, 3, 640, 640)\n"
     ]
    },
    {
     "name": "stderr",
     "output_type": "stream",
     "text": [
      "Processing tiles:  57%|█████▋    | 239/416 [00:09<00:07, 24.98it/s]"
     ]
    },
    {
     "name": "stdout",
     "output_type": "stream",
     "text": [
      "\n",
      "0: 640x640 1 borne, 1 fuente-knx, 2 proteccion-diferencials, 37.0ms\n",
      "Speed: 1.0ms preprocess, 37.0ms inference, 0.7ms postprocess per image at shape (1, 3, 640, 640)\n",
      "\n",
      "0: 640x640 5 bornes, 5 proteccion-diferencials, 37.1ms\n",
      "Speed: 1.0ms preprocess, 37.1ms inference, 0.7ms postprocess per image at shape (1, 3, 640, 640)\n",
      "\n",
      "0: 640x640 4 bornes, 5 proteccion-diferencials, 37.0ms\n",
      "Speed: 1.0ms preprocess, 37.0ms inference, 0.6ms postprocess per image at shape (1, 3, 640, 640)\n"
     ]
    },
    {
     "name": "stderr",
     "output_type": "stream",
     "text": [
      "Processing tiles:  58%|█████▊    | 242/416 [00:09<00:06, 24.87it/s]"
     ]
    },
    {
     "name": "stdout",
     "output_type": "stream",
     "text": [
      "\n",
      "0: 640x640 5 bornes, 5 proteccion-diferencials, 37.0ms\n",
      "Speed: 1.0ms preprocess, 37.0ms inference, 0.6ms postprocess per image at shape (1, 3, 640, 640)\n",
      "\n",
      "0: 640x640 4 bornes, 4 proteccion-diferencials, 37.0ms\n",
      "Speed: 1.0ms preprocess, 37.0ms inference, 0.7ms postprocess per image at shape (1, 3, 640, 640)\n",
      "\n",
      "0: 640x640 5 bornes, 5 proteccion-diferencials, 37.0ms\n",
      "Speed: 1.0ms preprocess, 37.0ms inference, 0.7ms postprocess per image at shape (1, 3, 640, 640)\n"
     ]
    },
    {
     "name": "stderr",
     "output_type": "stream",
     "text": [
      "Processing tiles:  59%|█████▉    | 245/416 [00:09<00:06, 24.81it/s]"
     ]
    },
    {
     "name": "stdout",
     "output_type": "stream",
     "text": [
      "\n",
      "0: 640x640 4 bornes, 4 proteccion-diferencials, 37.0ms\n",
      "Speed: 1.0ms preprocess, 37.0ms inference, 0.6ms postprocess per image at shape (1, 3, 640, 640)\n",
      "\n",
      "0: 640x640 4 bornes, 6 proteccion-diferencials, 36.9ms\n",
      "Speed: 1.0ms preprocess, 36.9ms inference, 0.7ms postprocess per image at shape (1, 3, 640, 640)\n",
      "\n",
      "0: 640x640 5 bornes, 5 proteccion-diferencials, 36.9ms\n",
      "Speed: 1.0ms preprocess, 36.9ms inference, 0.7ms postprocess per image at shape (1, 3, 640, 640)\n"
     ]
    },
    {
     "name": "stderr",
     "output_type": "stream",
     "text": [
      "Processing tiles:  60%|█████▉    | 248/416 [00:09<00:06, 24.79it/s]"
     ]
    },
    {
     "name": "stdout",
     "output_type": "stream",
     "text": [
      "\n",
      "0: 640x640 5 bornes, 5 proteccion-diferencials, 36.9ms\n",
      "Speed: 1.0ms preprocess, 36.9ms inference, 0.7ms postprocess per image at shape (1, 3, 640, 640)\n",
      "\n",
      "0: 640x640 4 bornes, 5 proteccion-diferencials, 37.0ms\n",
      "Speed: 1.0ms preprocess, 37.0ms inference, 0.7ms postprocess per image at shape (1, 3, 640, 640)\n",
      "\n",
      "0: 640x640 5 bornes, 5 proteccion-diferencials, 37.0ms\n",
      "Speed: 1.0ms preprocess, 37.0ms inference, 0.6ms postprocess per image at shape (1, 3, 640, 640)\n"
     ]
    },
    {
     "name": "stderr",
     "output_type": "stream",
     "text": [
      "Processing tiles:  60%|██████    | 251/416 [00:10<00:06, 24.76it/s]"
     ]
    },
    {
     "name": "stdout",
     "output_type": "stream",
     "text": [
      "\n",
      "0: 640x640 4 bornes, 4 proteccion-diferencials, 36.9ms\n",
      "Speed: 0.9ms preprocess, 36.9ms inference, 0.7ms postprocess per image at shape (1, 3, 640, 640)\n",
      "\n",
      "0: 640x640 2 bornes, 2 proteccion-diferencials, 37.0ms\n",
      "Speed: 1.0ms preprocess, 37.0ms inference, 0.6ms postprocess per image at shape (1, 3, 640, 640)\n",
      "\n",
      "0: 640x640 1 borne, 1 proteccion-diferencial, 36.9ms\n",
      "Speed: 0.9ms preprocess, 36.9ms inference, 0.7ms postprocess per image at shape (1, 3, 640, 640)\n"
     ]
    },
    {
     "name": "stderr",
     "output_type": "stream",
     "text": [
      "Processing tiles:  61%|██████    | 254/416 [00:10<00:06, 24.76it/s]"
     ]
    },
    {
     "name": "stdout",
     "output_type": "stream",
     "text": [
      "\n",
      "0: 640x640 (no detections), 36.8ms\n",
      "Speed: 1.0ms preprocess, 36.8ms inference, 0.3ms postprocess per image at shape (1, 3, 640, 640)\n",
      "\n",
      "0: 640x640 (no detections), 36.9ms\n",
      "Speed: 1.0ms preprocess, 36.9ms inference, 0.3ms postprocess per image at shape (1, 3, 640, 640)\n",
      "\n",
      "0: 640x640 (no detections), 36.9ms\n",
      "Speed: 0.9ms preprocess, 36.9ms inference, 0.3ms postprocess per image at shape (1, 3, 640, 640)\n"
     ]
    },
    {
     "name": "stderr",
     "output_type": "stream",
     "text": [
      "Processing tiles:  62%|██████▏   | 257/416 [00:10<00:06, 24.89it/s]"
     ]
    },
    {
     "name": "stdout",
     "output_type": "stream",
     "text": [
      "\n",
      "0: 640x640 (no detections), 36.9ms\n",
      "Speed: 0.9ms preprocess, 36.9ms inference, 0.3ms postprocess per image at shape (1, 3, 640, 640)\n",
      "\n",
      "0: 640x640 (no detections), 37.1ms\n",
      "Speed: 0.9ms preprocess, 37.1ms inference, 0.3ms postprocess per image at shape (1, 3, 640, 640)\n",
      "\n",
      "0: 640x544 (no detections), 33.5ms\n",
      "Speed: 0.8ms preprocess, 33.5ms inference, 0.3ms postprocess per image at shape (1, 3, 640, 544)\n"
     ]
    },
    {
     "name": "stderr",
     "output_type": "stream",
     "text": [
      "Processing tiles:  62%|██████▎   | 260/416 [00:10<00:06, 25.22it/s]"
     ]
    },
    {
     "name": "stdout",
     "output_type": "stream",
     "text": [
      "\n",
      "0: 640x640 (no detections), 38.3ms\n",
      "Speed: 0.9ms preprocess, 38.3ms inference, 0.3ms postprocess per image at shape (1, 3, 640, 640)\n",
      "\n",
      "0: 640x640 (no detections), 37.0ms\n",
      "Speed: 1.0ms preprocess, 37.0ms inference, 0.3ms postprocess per image at shape (1, 3, 640, 640)\n",
      "\n",
      "0: 640x640 1 fuente-knx, 36.9ms\n",
      "Speed: 0.9ms preprocess, 36.9ms inference, 0.6ms postprocess per image at shape (1, 3, 640, 640)\n"
     ]
    },
    {
     "name": "stderr",
     "output_type": "stream",
     "text": [
      "Processing tiles:  63%|██████▎   | 263/416 [00:10<00:06, 25.09it/s]"
     ]
    },
    {
     "name": "stdout",
     "output_type": "stream",
     "text": [
      "\n",
      "0: 640x640 (no detections), 37.1ms\n",
      "Speed: 0.9ms preprocess, 37.1ms inference, 0.3ms postprocess per image at shape (1, 3, 640, 640)\n",
      "\n",
      "0: 640x640 (no detections), 37.1ms\n",
      "Speed: 1.0ms preprocess, 37.1ms inference, 0.3ms postprocess per image at shape (1, 3, 640, 640)\n",
      "\n",
      "0: 640x640 (no detections), 37.0ms\n",
      "Speed: 1.0ms preprocess, 37.0ms inference, 0.3ms postprocess per image at shape (1, 3, 640, 640)\n"
     ]
    },
    {
     "name": "stderr",
     "output_type": "stream",
     "text": [
      "Processing tiles:  64%|██████▍   | 266/416 [00:10<00:05, 25.09it/s]"
     ]
    },
    {
     "name": "stdout",
     "output_type": "stream",
     "text": [
      "\n",
      "0: 640x640 (no detections), 36.9ms\n",
      "Speed: 0.9ms preprocess, 36.9ms inference, 0.3ms postprocess per image at shape (1, 3, 640, 640)\n",
      "\n",
      "0: 640x640 (no detections), 37.0ms\n",
      "Speed: 1.0ms preprocess, 37.0ms inference, 0.3ms postprocess per image at shape (1, 3, 640, 640)\n",
      "\n",
      "0: 640x640 (no detections), 37.0ms\n",
      "Speed: 1.0ms preprocess, 37.0ms inference, 0.3ms postprocess per image at shape (1, 3, 640, 640)\n"
     ]
    },
    {
     "name": "stderr",
     "output_type": "stream",
     "text": [
      "Processing tiles:  65%|██████▍   | 269/416 [00:10<00:05, 25.11it/s]"
     ]
    },
    {
     "name": "stdout",
     "output_type": "stream",
     "text": [
      "\n",
      "0: 640x640 (no detections), 37.0ms\n",
      "Speed: 1.0ms preprocess, 37.0ms inference, 0.3ms postprocess per image at shape (1, 3, 640, 640)\n",
      "\n",
      "0: 640x640 (no detections), 37.0ms\n",
      "Speed: 1.0ms preprocess, 37.0ms inference, 0.3ms postprocess per image at shape (1, 3, 640, 640)\n",
      "\n",
      "0: 640x640 (no detections), 37.0ms\n",
      "Speed: 1.0ms preprocess, 37.0ms inference, 0.3ms postprocess per image at shape (1, 3, 640, 640)\n"
     ]
    },
    {
     "name": "stderr",
     "output_type": "stream",
     "text": [
      "Processing tiles:  65%|██████▌   | 272/416 [00:10<00:05, 25.12it/s]"
     ]
    },
    {
     "name": "stdout",
     "output_type": "stream",
     "text": [
      "\n",
      "0: 640x640 (no detections), 37.0ms\n",
      "Speed: 1.1ms preprocess, 37.0ms inference, 0.3ms postprocess per image at shape (1, 3, 640, 640)\n",
      "\n",
      "0: 640x640 (no detections), 37.0ms\n",
      "Speed: 1.0ms preprocess, 37.0ms inference, 0.3ms postprocess per image at shape (1, 3, 640, 640)\n",
      "\n",
      "0: 640x640 (no detections), 37.0ms\n",
      "Speed: 1.0ms preprocess, 37.0ms inference, 0.3ms postprocess per image at shape (1, 3, 640, 640)\n"
     ]
    },
    {
     "name": "stderr",
     "output_type": "stream",
     "text": [
      "Processing tiles:  66%|██████▌   | 275/416 [00:10<00:05, 25.13it/s]"
     ]
    },
    {
     "name": "stdout",
     "output_type": "stream",
     "text": [
      "\n",
      "0: 640x640 (no detections), 37.0ms\n",
      "Speed: 1.0ms preprocess, 37.0ms inference, 0.3ms postprocess per image at shape (1, 3, 640, 640)\n",
      "\n",
      "0: 640x640 (no detections), 37.0ms\n",
      "Speed: 0.9ms preprocess, 37.0ms inference, 0.3ms postprocess per image at shape (1, 3, 640, 640)\n",
      "\n",
      "0: 640x640 (no detections), 37.1ms\n",
      "Speed: 1.0ms preprocess, 37.1ms inference, 0.3ms postprocess per image at shape (1, 3, 640, 640)\n"
     ]
    },
    {
     "name": "stderr",
     "output_type": "stream",
     "text": [
      "Processing tiles:  67%|██████▋   | 278/416 [00:11<00:05, 25.13it/s]"
     ]
    },
    {
     "name": "stdout",
     "output_type": "stream",
     "text": [
      "\n",
      "0: 640x640 1 luz-piloto, 37.0ms\n",
      "Speed: 0.9ms preprocess, 37.0ms inference, 0.6ms postprocess per image at shape (1, 3, 640, 640)\n",
      "\n",
      "0: 640x640 (no detections), 37.0ms\n",
      "Speed: 0.9ms preprocess, 37.0ms inference, 0.3ms postprocess per image at shape (1, 3, 640, 640)\n",
      "\n",
      "0: 640x640 (no detections), 37.0ms\n",
      "Speed: 1.0ms preprocess, 37.0ms inference, 0.3ms postprocess per image at shape (1, 3, 640, 640)\n"
     ]
    },
    {
     "name": "stderr",
     "output_type": "stream",
     "text": [
      "Processing tiles:  68%|██████▊   | 281/416 [00:11<00:05, 25.09it/s]"
     ]
    },
    {
     "name": "stdout",
     "output_type": "stream",
     "text": [
      "\n",
      "0: 640x640 (no detections), 37.0ms\n",
      "Speed: 1.0ms preprocess, 37.0ms inference, 0.3ms postprocess per image at shape (1, 3, 640, 640)\n",
      "\n",
      "0: 640x640 (no detections), 37.0ms\n",
      "Speed: 0.9ms preprocess, 37.0ms inference, 0.3ms postprocess per image at shape (1, 3, 640, 640)\n",
      "\n",
      "0: 640x640 1 proteccion-termomagnetica, 37.1ms\n",
      "Speed: 1.0ms preprocess, 37.1ms inference, 0.6ms postprocess per image at shape (1, 3, 640, 640)\n"
     ]
    },
    {
     "name": "stderr",
     "output_type": "stream",
     "text": [
      "Processing tiles:  68%|██████▊   | 284/416 [00:11<00:05, 25.09it/s]"
     ]
    },
    {
     "name": "stdout",
     "output_type": "stream",
     "text": [
      "\n",
      "0: 640x640 2 proteccion-termomagneticas, 37.0ms\n",
      "Speed: 1.0ms preprocess, 37.0ms inference, 0.6ms postprocess per image at shape (1, 3, 640, 640)\n",
      "\n",
      "0: 640x544 (no detections), 33.7ms\n",
      "Speed: 0.9ms preprocess, 33.7ms inference, 0.3ms postprocess per image at shape (1, 3, 640, 544)\n",
      "\n",
      "0: 640x640 (no detections), 37.6ms\n",
      "Speed: 0.9ms preprocess, 37.6ms inference, 0.3ms postprocess per image at shape (1, 3, 640, 640)\n"
     ]
    },
    {
     "name": "stderr",
     "output_type": "stream",
     "text": [
      "Processing tiles:  69%|██████▉   | 287/416 [00:11<00:05, 25.25it/s]"
     ]
    },
    {
     "name": "stdout",
     "output_type": "stream",
     "text": [
      "\n",
      "0: 640x640 (no detections), 37.1ms\n",
      "Speed: 1.0ms preprocess, 37.1ms inference, 0.3ms postprocess per image at shape (1, 3, 640, 640)\n",
      "\n",
      "0: 640x640 (no detections), 37.1ms\n",
      "Speed: 0.9ms preprocess, 37.1ms inference, 0.3ms postprocess per image at shape (1, 3, 640, 640)\n",
      "\n",
      "0: 640x640 (no detections), 37.0ms\n",
      "Speed: 1.0ms preprocess, 37.0ms inference, 0.3ms postprocess per image at shape (1, 3, 640, 640)\n"
     ]
    },
    {
     "name": "stderr",
     "output_type": "stream",
     "text": [
      "Processing tiles:  70%|██████▉   | 290/416 [00:11<00:04, 25.20it/s]"
     ]
    },
    {
     "name": "stdout",
     "output_type": "stream",
     "text": [
      "\n",
      "0: 640x640 (no detections), 37.0ms\n",
      "Speed: 1.0ms preprocess, 37.0ms inference, 0.3ms postprocess per image at shape (1, 3, 640, 640)\n",
      "\n",
      "0: 640x640 (no detections), 37.1ms\n",
      "Speed: 1.0ms preprocess, 37.1ms inference, 0.3ms postprocess per image at shape (1, 3, 640, 640)\n",
      "\n",
      "0: 640x640 (no detections), 37.1ms\n",
      "Speed: 0.9ms preprocess, 37.1ms inference, 0.3ms postprocess per image at shape (1, 3, 640, 640)\n"
     ]
    },
    {
     "name": "stderr",
     "output_type": "stream",
     "text": [
      "Processing tiles:  70%|███████   | 293/416 [00:11<00:04, 25.18it/s]"
     ]
    },
    {
     "name": "stdout",
     "output_type": "stream",
     "text": [
      "\n",
      "0: 640x640 (no detections), 37.1ms\n",
      "Speed: 0.9ms preprocess, 37.1ms inference, 0.3ms postprocess per image at shape (1, 3, 640, 640)\n",
      "\n",
      "0: 640x640 (no detections), 37.1ms\n",
      "Speed: 1.0ms preprocess, 37.1ms inference, 0.3ms postprocess per image at shape (1, 3, 640, 640)\n",
      "\n",
      "0: 640x640 (no detections), 36.9ms\n",
      "Speed: 0.9ms preprocess, 36.9ms inference, 0.3ms postprocess per image at shape (1, 3, 640, 640)\n"
     ]
    },
    {
     "name": "stderr",
     "output_type": "stream",
     "text": [
      "Processing tiles:  71%|███████   | 296/416 [00:11<00:04, 25.17it/s]"
     ]
    },
    {
     "name": "stdout",
     "output_type": "stream",
     "text": [
      "\n",
      "0: 640x640 (no detections), 36.9ms\n",
      "Speed: 1.0ms preprocess, 36.9ms inference, 0.3ms postprocess per image at shape (1, 3, 640, 640)\n",
      "\n",
      "0: 640x640 (no detections), 36.9ms\n",
      "Speed: 1.0ms preprocess, 36.9ms inference, 0.3ms postprocess per image at shape (1, 3, 640, 640)\n",
      "\n",
      "0: 640x640 (no detections), 36.9ms\n",
      "Speed: 1.0ms preprocess, 36.9ms inference, 0.3ms postprocess per image at shape (1, 3, 640, 640)\n"
     ]
    },
    {
     "name": "stderr",
     "output_type": "stream",
     "text": [
      "Processing tiles:  72%|███████▏  | 299/416 [00:11<00:04, 25.18it/s]"
     ]
    },
    {
     "name": "stdout",
     "output_type": "stream",
     "text": [
      "\n",
      "0: 640x640 (no detections), 36.9ms\n",
      "Speed: 1.0ms preprocess, 36.9ms inference, 0.3ms postprocess per image at shape (1, 3, 640, 640)\n",
      "\n",
      "0: 640x640 (no detections), 36.7ms\n",
      "Speed: 0.9ms preprocess, 36.7ms inference, 0.3ms postprocess per image at shape (1, 3, 640, 640)\n",
      "\n",
      "0: 640x640 (no detections), 36.8ms\n",
      "Speed: 1.0ms preprocess, 36.8ms inference, 0.3ms postprocess per image at shape (1, 3, 640, 640)\n"
     ]
    },
    {
     "name": "stderr",
     "output_type": "stream",
     "text": [
      "Processing tiles:  73%|███████▎  | 302/416 [00:12<00:04, 25.21it/s]"
     ]
    },
    {
     "name": "stdout",
     "output_type": "stream",
     "text": [
      "\n",
      "0: 640x640 1 fusible, 3 luz-pilotos, 2 proteccion-termomagneticas, 37.0ms\n",
      "Speed: 0.9ms preprocess, 37.0ms inference, 0.6ms postprocess per image at shape (1, 3, 640, 640)\n",
      "\n",
      "0: 640x640 (no detections), 37.1ms\n",
      "Speed: 1.0ms preprocess, 37.1ms inference, 0.3ms postprocess per image at shape (1, 3, 640, 640)\n",
      "\n",
      "0: 640x640 (no detections), 37.1ms\n",
      "Speed: 0.9ms preprocess, 37.1ms inference, 0.3ms postprocess per image at shape (1, 3, 640, 640)\n"
     ]
    },
    {
     "name": "stderr",
     "output_type": "stream",
     "text": [
      "Processing tiles:  73%|███████▎  | 305/416 [00:12<00:04, 25.16it/s]"
     ]
    },
    {
     "name": "stdout",
     "output_type": "stream",
     "text": [
      "\n",
      "0: 640x640 1 fusible, 37.1ms\n",
      "Speed: 0.9ms preprocess, 37.1ms inference, 0.6ms postprocess per image at shape (1, 3, 640, 640)\n",
      "\n",
      "0: 640x640 (no detections), 37.0ms\n",
      "Speed: 0.9ms preprocess, 37.0ms inference, 0.3ms postprocess per image at shape (1, 3, 640, 640)\n",
      "\n",
      "0: 640x640 (no detections), 37.0ms\n",
      "Speed: 1.0ms preprocess, 37.0ms inference, 0.3ms postprocess per image at shape (1, 3, 640, 640)\n"
     ]
    },
    {
     "name": "stderr",
     "output_type": "stream",
     "text": [
      "Processing tiles:  74%|███████▍  | 308/416 [00:12<00:04, 25.13it/s]"
     ]
    },
    {
     "name": "stdout",
     "output_type": "stream",
     "text": [
      "\n",
      "0: 640x640 (no detections), 37.0ms\n",
      "Speed: 0.9ms preprocess, 37.0ms inference, 0.3ms postprocess per image at shape (1, 3, 640, 640)\n",
      "\n",
      "0: 640x640 (no detections), 37.1ms\n",
      "Speed: 1.0ms preprocess, 37.1ms inference, 0.3ms postprocess per image at shape (1, 3, 640, 640)\n",
      "\n",
      "0: 640x640 (no detections), 37.2ms\n",
      "Speed: 0.9ms preprocess, 37.2ms inference, 0.3ms postprocess per image at shape (1, 3, 640, 640)\n"
     ]
    },
    {
     "name": "stderr",
     "output_type": "stream",
     "text": [
      "Processing tiles:  75%|███████▍  | 311/416 [00:12<00:04, 25.11it/s]"
     ]
    },
    {
     "name": "stdout",
     "output_type": "stream",
     "text": [
      "\n",
      "0: 640x544 (no detections), 33.8ms\n",
      "Speed: 0.9ms preprocess, 33.8ms inference, 0.3ms postprocess per image at shape (1, 3, 640, 544)\n",
      "\n",
      "0: 640x640 (no detections), 38.1ms\n",
      "Speed: 1.0ms preprocess, 38.1ms inference, 0.3ms postprocess per image at shape (1, 3, 640, 640)\n",
      "\n",
      "0: 640x640 (no detections), 37.1ms\n",
      "Speed: 0.9ms preprocess, 37.1ms inference, 0.3ms postprocess per image at shape (1, 3, 640, 640)\n"
     ]
    },
    {
     "name": "stderr",
     "output_type": "stream",
     "text": [
      "Processing tiles:  75%|███████▌  | 314/416 [00:12<00:04, 25.28it/s]"
     ]
    },
    {
     "name": "stdout",
     "output_type": "stream",
     "text": [
      "\n",
      "0: 640x640 (no detections), 36.9ms\n",
      "Speed: 0.9ms preprocess, 36.9ms inference, 0.3ms postprocess per image at shape (1, 3, 640, 640)\n",
      "\n",
      "0: 640x640 (no detections), 37.0ms\n",
      "Speed: 1.0ms preprocess, 37.0ms inference, 0.3ms postprocess per image at shape (1, 3, 640, 640)\n",
      "\n",
      "0: 640x640 (no detections), 37.0ms\n",
      "Speed: 0.9ms preprocess, 37.0ms inference, 0.3ms postprocess per image at shape (1, 3, 640, 640)\n"
     ]
    },
    {
     "name": "stderr",
     "output_type": "stream",
     "text": [
      "Processing tiles:  76%|███████▌  | 317/416 [00:12<00:03, 25.23it/s]"
     ]
    },
    {
     "name": "stdout",
     "output_type": "stream",
     "text": [
      "\n",
      "0: 640x640 (no detections), 37.0ms\n",
      "Speed: 0.9ms preprocess, 37.0ms inference, 0.3ms postprocess per image at shape (1, 3, 640, 640)\n",
      "\n",
      "0: 640x640 (no detections), 36.9ms\n",
      "Speed: 0.9ms preprocess, 36.9ms inference, 0.3ms postprocess per image at shape (1, 3, 640, 640)\n",
      "\n",
      "0: 640x640 (no detections), 36.9ms\n",
      "Speed: 0.9ms preprocess, 36.9ms inference, 0.3ms postprocess per image at shape (1, 3, 640, 640)\n"
     ]
    },
    {
     "name": "stderr",
     "output_type": "stream",
     "text": [
      "Processing tiles:  77%|███████▋  | 320/416 [00:12<00:03, 25.22it/s]"
     ]
    },
    {
     "name": "stdout",
     "output_type": "stream",
     "text": [
      "\n",
      "0: 640x640 (no detections), 36.9ms\n",
      "Speed: 1.0ms preprocess, 36.9ms inference, 0.3ms postprocess per image at shape (1, 3, 640, 640)\n",
      "\n",
      "0: 640x640 (no detections), 37.0ms\n",
      "Speed: 1.0ms preprocess, 37.0ms inference, 0.3ms postprocess per image at shape (1, 3, 640, 640)\n",
      "\n",
      "0: 640x640 (no detections), 36.9ms\n",
      "Speed: 1.0ms preprocess, 36.9ms inference, 0.3ms postprocess per image at shape (1, 3, 640, 640)\n"
     ]
    },
    {
     "name": "stderr",
     "output_type": "stream",
     "text": [
      "Processing tiles:  78%|███████▊  | 323/416 [00:12<00:03, 25.22it/s]"
     ]
    },
    {
     "name": "stdout",
     "output_type": "stream",
     "text": [
      "\n",
      "0: 640x640 (no detections), 36.9ms\n",
      "Speed: 0.9ms preprocess, 36.9ms inference, 0.3ms postprocess per image at shape (1, 3, 640, 640)\n",
      "\n",
      "0: 640x640 (no detections), 36.9ms\n",
      "Speed: 1.0ms preprocess, 36.9ms inference, 0.3ms postprocess per image at shape (1, 3, 640, 640)\n",
      "\n",
      "0: 640x640 (no detections), 36.9ms\n",
      "Speed: 1.0ms preprocess, 36.9ms inference, 0.3ms postprocess per image at shape (1, 3, 640, 640)\n"
     ]
    },
    {
     "name": "stderr",
     "output_type": "stream",
     "text": [
      "Processing tiles:  78%|███████▊  | 326/416 [00:13<00:03, 25.22it/s]"
     ]
    },
    {
     "name": "stdout",
     "output_type": "stream",
     "text": [
      "\n",
      "0: 640x640 (no detections), 36.9ms\n",
      "Speed: 0.9ms preprocess, 36.9ms inference, 0.3ms postprocess per image at shape (1, 3, 640, 640)\n",
      "\n",
      "0: 640x640 (no detections), 36.9ms\n",
      "Speed: 1.0ms preprocess, 36.9ms inference, 0.3ms postprocess per image at shape (1, 3, 640, 640)\n",
      "\n",
      "0: 640x640 1 contactor, 1 enclavamiento, 1 mando-motorizado, 2 proteccion-diferencials, 37.0ms\n",
      "Speed: 1.0ms preprocess, 37.0ms inference, 0.6ms postprocess per image at shape (1, 3, 640, 640)\n"
     ]
    },
    {
     "name": "stderr",
     "output_type": "stream",
     "text": [
      "Processing tiles:  79%|███████▉  | 329/416 [00:13<00:03, 25.18it/s]"
     ]
    },
    {
     "name": "stdout",
     "output_type": "stream",
     "text": [
      "\n",
      "0: 640x640 (no detections), 37.0ms\n",
      "Speed: 0.9ms preprocess, 37.0ms inference, 0.3ms postprocess per image at shape (1, 3, 640, 640)\n",
      "\n",
      "0: 640x640 (no detections), 37.0ms\n",
      "Speed: 0.9ms preprocess, 37.0ms inference, 0.3ms postprocess per image at shape (1, 3, 640, 640)\n",
      "\n",
      "0: 640x640 1 fusible, 1 puerto-comunicacion, 1 seccionador, 37.1ms\n",
      "Speed: 1.0ms preprocess, 37.1ms inference, 0.6ms postprocess per image at shape (1, 3, 640, 640)\n"
     ]
    },
    {
     "name": "stderr",
     "output_type": "stream",
     "text": [
      "Processing tiles:  80%|███████▉  | 332/416 [00:13<00:03, 25.13it/s]"
     ]
    },
    {
     "name": "stdout",
     "output_type": "stream",
     "text": [
      "\n",
      "0: 640x640 (no detections), 37.0ms\n",
      "Speed: 1.0ms preprocess, 37.0ms inference, 0.3ms postprocess per image at shape (1, 3, 640, 640)\n",
      "\n",
      "0: 640x640 (no detections), 37.0ms\n",
      "Speed: 1.0ms preprocess, 37.0ms inference, 0.3ms postprocess per image at shape (1, 3, 640, 640)\n",
      "\n",
      "0: 640x640 (no detections), 37.1ms\n",
      "Speed: 0.9ms preprocess, 37.1ms inference, 0.3ms postprocess per image at shape (1, 3, 640, 640)\n"
     ]
    },
    {
     "name": "stderr",
     "output_type": "stream",
     "text": [
      "Processing tiles:  81%|████████  | 335/416 [00:13<00:03, 25.15it/s]"
     ]
    },
    {
     "name": "stdout",
     "output_type": "stream",
     "text": [
      "\n",
      "0: 640x640 1 equipo-de-medida, 37.2ms\n",
      "Speed: 1.0ms preprocess, 37.2ms inference, 0.6ms postprocess per image at shape (1, 3, 640, 640)\n",
      "\n",
      "0: 640x640 (no detections), 37.2ms\n",
      "Speed: 1.0ms preprocess, 37.2ms inference, 0.3ms postprocess per image at shape (1, 3, 640, 640)\n",
      "\n",
      "0: 640x544 (no detections), 33.6ms\n",
      "Speed: 0.8ms preprocess, 33.6ms inference, 0.3ms postprocess per image at shape (1, 3, 640, 544)\n"
     ]
    },
    {
     "name": "stderr",
     "output_type": "stream",
     "text": [
      "Processing tiles:  81%|████████▏ | 338/416 [00:13<00:03, 25.34it/s]"
     ]
    },
    {
     "name": "stdout",
     "output_type": "stream",
     "text": [
      "\n",
      "0: 640x640 (no detections), 38.0ms\n",
      "Speed: 0.9ms preprocess, 38.0ms inference, 0.3ms postprocess per image at shape (1, 3, 640, 640)\n",
      "\n",
      "0: 640x640 (no detections), 37.0ms\n",
      "Speed: 0.9ms preprocess, 37.0ms inference, 0.3ms postprocess per image at shape (1, 3, 640, 640)\n",
      "\n",
      "0: 640x640 (no detections), 37.0ms\n",
      "Speed: 1.0ms preprocess, 37.0ms inference, 0.3ms postprocess per image at shape (1, 3, 640, 640)\n"
     ]
    },
    {
     "name": "stderr",
     "output_type": "stream",
     "text": [
      "Processing tiles:  82%|████████▏ | 341/416 [00:13<00:02, 25.22it/s]"
     ]
    },
    {
     "name": "stdout",
     "output_type": "stream",
     "text": [
      "\n",
      "0: 640x640 (no detections), 37.0ms\n",
      "Speed: 1.0ms preprocess, 37.0ms inference, 0.3ms postprocess per image at shape (1, 3, 640, 640)\n",
      "\n",
      "0: 640x640 (no detections), 37.0ms\n",
      "Speed: 1.0ms preprocess, 37.0ms inference, 0.3ms postprocess per image at shape (1, 3, 640, 640)\n",
      "\n",
      "0: 640x640 (no detections), 37.0ms\n",
      "Speed: 1.0ms preprocess, 37.0ms inference, 0.3ms postprocess per image at shape (1, 3, 640, 640)\n"
     ]
    },
    {
     "name": "stderr",
     "output_type": "stream",
     "text": [
      "Processing tiles:  83%|████████▎ | 344/416 [00:13<00:02, 25.19it/s]"
     ]
    },
    {
     "name": "stdout",
     "output_type": "stream",
     "text": [
      "\n",
      "0: 640x640 (no detections), 37.0ms\n",
      "Speed: 0.9ms preprocess, 37.0ms inference, 0.3ms postprocess per image at shape (1, 3, 640, 640)\n",
      "\n",
      "0: 640x640 (no detections), 37.0ms\n",
      "Speed: 1.0ms preprocess, 37.0ms inference, 0.3ms postprocess per image at shape (1, 3, 640, 640)\n",
      "\n",
      "0: 640x640 (no detections), 37.2ms\n",
      "Speed: 0.9ms preprocess, 37.2ms inference, 0.3ms postprocess per image at shape (1, 3, 640, 640)\n"
     ]
    },
    {
     "name": "stderr",
     "output_type": "stream",
     "text": [
      "Processing tiles:  83%|████████▎ | 347/416 [00:13<00:02, 25.18it/s]"
     ]
    },
    {
     "name": "stdout",
     "output_type": "stream",
     "text": [
      "\n",
      "0: 640x640 (no detections), 37.0ms\n",
      "Speed: 1.0ms preprocess, 37.0ms inference, 0.3ms postprocess per image at shape (1, 3, 640, 640)\n",
      "\n",
      "0: 640x640 (no detections), 37.0ms\n",
      "Speed: 0.9ms preprocess, 37.0ms inference, 0.3ms postprocess per image at shape (1, 3, 640, 640)\n",
      "\n",
      "0: 640x640 (no detections), 37.0ms\n",
      "Speed: 1.0ms preprocess, 37.0ms inference, 0.3ms postprocess per image at shape (1, 3, 640, 640)\n"
     ]
    },
    {
     "name": "stderr",
     "output_type": "stream",
     "text": [
      "Processing tiles:  84%|████████▍ | 350/416 [00:13<00:02, 25.16it/s]"
     ]
    },
    {
     "name": "stdout",
     "output_type": "stream",
     "text": [
      "\n",
      "0: 640x640 (no detections), 37.0ms\n",
      "Speed: 1.0ms preprocess, 37.0ms inference, 0.3ms postprocess per image at shape (1, 3, 640, 640)\n",
      "\n",
      "0: 640x640 (no detections), 37.2ms\n",
      "Speed: 1.0ms preprocess, 37.2ms inference, 0.3ms postprocess per image at shape (1, 3, 640, 640)\n",
      "\n",
      "0: 640x640 (no detections), 37.2ms\n",
      "Speed: 1.0ms preprocess, 37.2ms inference, 0.3ms postprocess per image at shape (1, 3, 640, 640)\n"
     ]
    },
    {
     "name": "stderr",
     "output_type": "stream",
     "text": [
      "Processing tiles:  85%|████████▍ | 353/416 [00:14<00:02, 25.14it/s]"
     ]
    },
    {
     "name": "stdout",
     "output_type": "stream",
     "text": [
      "\n",
      "0: 640x640 (no detections), 37.1ms\n",
      "Speed: 1.0ms preprocess, 37.1ms inference, 0.3ms postprocess per image at shape (1, 3, 640, 640)\n",
      "\n",
      "0: 640x640 1 interruptor-puerta, 1 transformador-corriente, 1 ventilador, 37.2ms\n",
      "Speed: 1.0ms preprocess, 37.2ms inference, 0.6ms postprocess per image at shape (1, 3, 640, 640)\n",
      "\n",
      "0: 640x640 1 bloqueo, 1 ventilador, 37.1ms\n",
      "Speed: 0.9ms preprocess, 37.1ms inference, 0.6ms postprocess per image at shape (1, 3, 640, 640)\n"
     ]
    },
    {
     "name": "stderr",
     "output_type": "stream",
     "text": [
      "Processing tiles:  86%|████████▌ | 356/416 [00:14<00:02, 25.03it/s]"
     ]
    },
    {
     "name": "stdout",
     "output_type": "stream",
     "text": [
      "\n",
      "0: 640x640 (no detections), 37.1ms\n",
      "Speed: 1.0ms preprocess, 37.1ms inference, 0.3ms postprocess per image at shape (1, 3, 640, 640)\n",
      "\n",
      "0: 640x640 1 analizador-red, 1 borne, 2 fusibles, 1 lampara, 37.2ms\n",
      "Speed: 0.9ms preprocess, 37.2ms inference, 0.7ms postprocess per image at shape (1, 3, 640, 640)\n",
      "\n",
      "0: 640x640 (no detections), 37.0ms\n",
      "Speed: 0.9ms preprocess, 37.0ms inference, 0.3ms postprocess per image at shape (1, 3, 640, 640)\n"
     ]
    },
    {
     "name": "stderr",
     "output_type": "stream",
     "text": [
      "Processing tiles:  86%|████████▋ | 359/416 [00:14<00:02, 25.00it/s]"
     ]
    },
    {
     "name": "stdout",
     "output_type": "stream",
     "text": [
      "\n",
      "0: 640x640 (no detections), 37.1ms\n",
      "Speed: 1.0ms preprocess, 37.1ms inference, 0.3ms postprocess per image at shape (1, 3, 640, 640)\n",
      "\n",
      "0: 640x640 (no detections), 37.1ms\n",
      "Speed: 0.9ms preprocess, 37.1ms inference, 0.3ms postprocess per image at shape (1, 3, 640, 640)\n",
      "\n",
      "0: 640x640 (no detections), 37.0ms\n",
      "Speed: 1.3ms preprocess, 37.0ms inference, 0.3ms postprocess per image at shape (1, 3, 640, 640)\n"
     ]
    },
    {
     "name": "stderr",
     "output_type": "stream",
     "text": [
      "Processing tiles:  87%|████████▋ | 362/416 [00:14<00:02, 25.00it/s]"
     ]
    },
    {
     "name": "stdout",
     "output_type": "stream",
     "text": [
      "\n",
      "0: 640x640 (no detections), 37.2ms\n",
      "Speed: 1.3ms preprocess, 37.2ms inference, 0.3ms postprocess per image at shape (1, 3, 640, 640)\n",
      "\n",
      "0: 640x544 (no detections), 33.8ms\n",
      "Speed: 1.1ms preprocess, 33.8ms inference, 0.3ms postprocess per image at shape (1, 3, 640, 544)\n",
      "\n",
      "0: 640x640 (no detections), 37.5ms\n",
      "Speed: 1.3ms preprocess, 37.5ms inference, 0.3ms postprocess per image at shape (1, 3, 640, 640)\n"
     ]
    },
    {
     "name": "stderr",
     "output_type": "stream",
     "text": [
      "Processing tiles:  88%|████████▊ | 365/416 [00:14<00:02, 25.15it/s]"
     ]
    },
    {
     "name": "stdout",
     "output_type": "stream",
     "text": [
      "\n",
      "0: 640x640 (no detections), 37.0ms\n",
      "Speed: 1.3ms preprocess, 37.0ms inference, 0.3ms postprocess per image at shape (1, 3, 640, 640)\n",
      "\n",
      "0: 640x640 (no detections), 37.1ms\n",
      "Speed: 1.3ms preprocess, 37.1ms inference, 0.3ms postprocess per image at shape (1, 3, 640, 640)\n",
      "\n",
      "0: 640x640 (no detections), 37.1ms\n",
      "Speed: 1.3ms preprocess, 37.1ms inference, 0.3ms postprocess per image at shape (1, 3, 640, 640)\n"
     ]
    },
    {
     "name": "stderr",
     "output_type": "stream",
     "text": [
      "Processing tiles:  88%|████████▊ | 368/416 [00:14<00:01, 25.07it/s]"
     ]
    },
    {
     "name": "stdout",
     "output_type": "stream",
     "text": [
      "\n",
      "0: 640x640 (no detections), 37.1ms\n",
      "Speed: 1.3ms preprocess, 37.1ms inference, 0.3ms postprocess per image at shape (1, 3, 640, 640)\n",
      "\n",
      "0: 640x640 (no detections), 37.1ms\n",
      "Speed: 1.3ms preprocess, 37.1ms inference, 0.3ms postprocess per image at shape (1, 3, 640, 640)\n",
      "\n",
      "0: 640x640 (no detections), 37.1ms\n",
      "Speed: 1.3ms preprocess, 37.1ms inference, 0.3ms postprocess per image at shape (1, 3, 640, 640)\n"
     ]
    },
    {
     "name": "stderr",
     "output_type": "stream",
     "text": [
      "Processing tiles:  89%|████████▉ | 371/416 [00:14<00:01, 25.01it/s]"
     ]
    },
    {
     "name": "stdout",
     "output_type": "stream",
     "text": [
      "\n",
      "0: 640x640 (no detections), 37.1ms\n",
      "Speed: 1.2ms preprocess, 37.1ms inference, 0.3ms postprocess per image at shape (1, 3, 640, 640)\n",
      "\n",
      "0: 640x640 (no detections), 37.0ms\n",
      "Speed: 1.3ms preprocess, 37.0ms inference, 0.4ms postprocess per image at shape (1, 3, 640, 640)\n",
      "\n",
      "0: 640x640 (no detections), 37.0ms\n",
      "Speed: 1.2ms preprocess, 37.0ms inference, 0.4ms postprocess per image at shape (1, 3, 640, 640)\n"
     ]
    },
    {
     "name": "stderr",
     "output_type": "stream",
     "text": [
      "Processing tiles:  90%|████████▉ | 374/416 [00:14<00:01, 24.98it/s]"
     ]
    },
    {
     "name": "stdout",
     "output_type": "stream",
     "text": [
      "\n",
      "0: 640x640 (no detections), 36.9ms\n",
      "Speed: 1.2ms preprocess, 36.9ms inference, 0.3ms postprocess per image at shape (1, 3, 640, 640)\n",
      "\n",
      "0: 640x640 (no detections), 36.9ms\n",
      "Speed: 1.3ms preprocess, 36.9ms inference, 0.3ms postprocess per image at shape (1, 3, 640, 640)\n",
      "\n",
      "0: 640x640 (no detections), 37.0ms\n",
      "Speed: 1.2ms preprocess, 37.0ms inference, 0.3ms postprocess per image at shape (1, 3, 640, 640)\n"
     ]
    },
    {
     "name": "stderr",
     "output_type": "stream",
     "text": [
      "Processing tiles:  91%|█████████ | 377/416 [00:15<00:01, 24.98it/s]"
     ]
    },
    {
     "name": "stdout",
     "output_type": "stream",
     "text": [
      "\n",
      "0: 640x640 (no detections), 37.1ms\n",
      "Speed: 1.3ms preprocess, 37.1ms inference, 0.3ms postprocess per image at shape (1, 3, 640, 640)\n",
      "\n",
      "0: 640x640 1 fuente-knx, 37.1ms\n",
      "Speed: 1.3ms preprocess, 37.1ms inference, 0.7ms postprocess per image at shape (1, 3, 640, 640)\n",
      "\n",
      "0: 640x640 (no detections), 37.0ms\n",
      "Speed: 1.3ms preprocess, 37.0ms inference, 0.3ms postprocess per image at shape (1, 3, 640, 640)\n"
     ]
    },
    {
     "name": "stderr",
     "output_type": "stream",
     "text": [
      "Processing tiles:  91%|█████████▏| 380/416 [00:15<00:01, 24.92it/s]"
     ]
    },
    {
     "name": "stdout",
     "output_type": "stream",
     "text": [
      "\n",
      "0: 640x640 1 proteccion-termomagnetica, 37.0ms\n",
      "Speed: 1.3ms preprocess, 37.0ms inference, 0.7ms postprocess per image at shape (1, 3, 640, 640)\n",
      "\n",
      "0: 640x640 (no detections), 37.0ms\n",
      "Speed: 1.3ms preprocess, 37.0ms inference, 0.3ms postprocess per image at shape (1, 3, 640, 640)\n",
      "\n",
      "0: 640x640 (no detections), 37.1ms\n",
      "Speed: 1.3ms preprocess, 37.1ms inference, 0.3ms postprocess per image at shape (1, 3, 640, 640)\n"
     ]
    },
    {
     "name": "stderr",
     "output_type": "stream",
     "text": [
      "Processing tiles:  92%|█████████▏| 383/416 [00:15<00:01, 24.88it/s]"
     ]
    },
    {
     "name": "stdout",
     "output_type": "stream",
     "text": [
      "\n",
      "0: 640x640 1 actuador-knx, 1 fuente-knx, 37.1ms\n",
      "Speed: 1.3ms preprocess, 37.1ms inference, 0.7ms postprocess per image at shape (1, 3, 640, 640)\n",
      "\n",
      "0: 640x640 (no detections), 36.9ms\n",
      "Speed: 1.3ms preprocess, 36.9ms inference, 0.3ms postprocess per image at shape (1, 3, 640, 640)\n",
      "\n",
      "0: 640x640 (no detections), 36.9ms\n",
      "Speed: 1.3ms preprocess, 36.9ms inference, 0.4ms postprocess per image at shape (1, 3, 640, 640)\n"
     ]
    },
    {
     "name": "stderr",
     "output_type": "stream",
     "text": [
      "Processing tiles:  93%|█████████▎| 386/416 [00:15<00:01, 24.87it/s]"
     ]
    },
    {
     "name": "stdout",
     "output_type": "stream",
     "text": [
      "\n",
      "0: 640x640 (no detections), 36.9ms\n",
      "Speed: 1.3ms preprocess, 36.9ms inference, 0.3ms postprocess per image at shape (1, 3, 640, 640)\n",
      "\n",
      "0: 640x640 (no detections), 36.9ms\n",
      "Speed: 1.3ms preprocess, 36.9ms inference, 0.4ms postprocess per image at shape (1, 3, 640, 640)\n",
      "\n",
      "0: 640x640 1 proteccion-termomagnetica, 37.0ms\n",
      "Speed: 1.2ms preprocess, 37.0ms inference, 0.7ms postprocess per image at shape (1, 3, 640, 640)\n"
     ]
    },
    {
     "name": "stderr",
     "output_type": "stream",
     "text": [
      "Processing tiles:  94%|█████████▎| 389/416 [00:15<00:01, 24.87it/s]"
     ]
    },
    {
     "name": "stdout",
     "output_type": "stream",
     "text": [
      "\n",
      "0: 640x544 (no detections), 33.5ms\n",
      "Speed: 1.1ms preprocess, 33.5ms inference, 0.3ms postprocess per image at shape (1, 3, 640, 544)\n",
      "\n",
      "0: 352x640 (no detections), 22.2ms\n",
      "Speed: 0.6ms preprocess, 22.2ms inference, 0.3ms postprocess per image at shape (1, 3, 352, 640)\n",
      "\n",
      "0: 352x640 (no detections), 21.4ms\n",
      "Speed: 0.6ms preprocess, 21.4ms inference, 0.3ms postprocess per image at shape (1, 3, 352, 640)\n",
      "\n",
      "0: 352x640 (no detections), 21.3ms\n",
      "Speed: 0.6ms preprocess, 21.3ms inference, 0.3ms postprocess per image at shape (1, 3, 352, 640)\n"
     ]
    },
    {
     "name": "stderr",
     "output_type": "stream",
     "text": [
      "Processing tiles:  94%|█████████▍| 393/416 [00:15<00:00, 28.24it/s]"
     ]
    },
    {
     "name": "stdout",
     "output_type": "stream",
     "text": [
      "\n",
      "0: 352x640 (no detections), 21.3ms\n",
      "Speed: 0.7ms preprocess, 21.3ms inference, 0.3ms postprocess per image at shape (1, 3, 352, 640)\n",
      "\n",
      "0: 352x640 (no detections), 21.7ms\n",
      "Speed: 0.7ms preprocess, 21.7ms inference, 0.3ms postprocess per image at shape (1, 3, 352, 640)\n",
      "\n",
      "0: 352x640 (no detections), 21.6ms\n",
      "Speed: 0.7ms preprocess, 21.6ms inference, 0.3ms postprocess per image at shape (1, 3, 352, 640)\n",
      "\n",
      "0: 352x640 (no detections), 21.3ms\n",
      "Speed: 0.7ms preprocess, 21.3ms inference, 0.3ms postprocess per image at shape (1, 3, 352, 640)\n",
      "\n",
      "0: 352x640 (no detections), 21.2ms\n",
      "Speed: 0.8ms preprocess, 21.2ms inference, 0.3ms postprocess per image at shape (1, 3, 352, 640)\n"
     ]
    },
    {
     "name": "stderr",
     "output_type": "stream",
     "text": [
      "Processing tiles:  96%|█████████▌| 398/416 [00:15<00:00, 32.48it/s]"
     ]
    },
    {
     "name": "stdout",
     "output_type": "stream",
     "text": [
      "\n",
      "0: 352x640 (no detections), 21.3ms\n",
      "Speed: 0.8ms preprocess, 21.3ms inference, 0.3ms postprocess per image at shape (1, 3, 352, 640)\n",
      "\n",
      "0: 352x640 (no detections), 21.3ms\n",
      "Speed: 0.7ms preprocess, 21.3ms inference, 0.3ms postprocess per image at shape (1, 3, 352, 640)\n",
      "\n",
      "0: 352x640 (no detections), 21.8ms\n",
      "Speed: 0.8ms preprocess, 21.8ms inference, 0.3ms postprocess per image at shape (1, 3, 352, 640)\n",
      "\n",
      "0: 352x640 (no detections), 21.5ms\n",
      "Speed: 0.8ms preprocess, 21.5ms inference, 0.3ms postprocess per image at shape (1, 3, 352, 640)\n",
      "\n",
      "0: 352x640 (no detections), 21.3ms\n",
      "Speed: 0.7ms preprocess, 21.3ms inference, 0.3ms postprocess per image at shape (1, 3, 352, 640)\n"
     ]
    },
    {
     "name": "stderr",
     "output_type": "stream",
     "text": [
      "Processing tiles:  97%|█████████▋| 403/416 [00:15<00:00, 35.38it/s]"
     ]
    },
    {
     "name": "stdout",
     "output_type": "stream",
     "text": [
      "\n",
      "0: 352x640 (no detections), 21.2ms\n",
      "Speed: 0.7ms preprocess, 21.2ms inference, 0.3ms postprocess per image at shape (1, 3, 352, 640)\n",
      "\n",
      "0: 352x640 (no detections), 21.3ms\n",
      "Speed: 0.8ms preprocess, 21.3ms inference, 0.3ms postprocess per image at shape (1, 3, 352, 640)\n",
      "\n",
      "0: 352x640 (no detections), 21.9ms\n",
      "Speed: 0.7ms preprocess, 21.9ms inference, 0.3ms postprocess per image at shape (1, 3, 352, 640)\n",
      "\n",
      "0: 352x640 (no detections), 21.5ms\n",
      "Speed: 0.7ms preprocess, 21.5ms inference, 0.3ms postprocess per image at shape (1, 3, 352, 640)\n",
      "\n",
      "0: 352x640 (no detections), 21.4ms\n",
      "Speed: 0.8ms preprocess, 21.4ms inference, 0.3ms postprocess per image at shape (1, 3, 352, 640)\n"
     ]
    },
    {
     "name": "stderr",
     "output_type": "stream",
     "text": [
      "Processing tiles:  98%|█████████▊| 408/416 [00:15<00:00, 37.41it/s]"
     ]
    },
    {
     "name": "stdout",
     "output_type": "stream",
     "text": [
      "\n",
      "0: 352x640 (no detections), 21.2ms\n",
      "Speed: 0.8ms preprocess, 21.2ms inference, 0.3ms postprocess per image at shape (1, 3, 352, 640)\n",
      "\n",
      "0: 352x640 (no detections), 21.3ms\n",
      "Speed: 0.7ms preprocess, 21.3ms inference, 0.3ms postprocess per image at shape (1, 3, 352, 640)\n",
      "\n",
      "0: 352x640 (no detections), 21.8ms\n",
      "Speed: 0.7ms preprocess, 21.8ms inference, 0.3ms postprocess per image at shape (1, 3, 352, 640)\n",
      "\n",
      "0: 352x640 (no detections), 21.6ms\n",
      "Speed: 0.9ms preprocess, 21.6ms inference, 0.3ms postprocess per image at shape (1, 3, 352, 640)\n",
      "\n",
      "0: 352x640 (no detections), 21.3ms\n",
      "Speed: 0.7ms preprocess, 21.3ms inference, 0.3ms postprocess per image at shape (1, 3, 352, 640)\n"
     ]
    },
    {
     "name": "stderr",
     "output_type": "stream",
     "text": [
      "Processing tiles:  99%|█████████▉| 413/416 [00:16<00:00, 38.81it/s]"
     ]
    },
    {
     "name": "stdout",
     "output_type": "stream",
     "text": [
      "\n",
      "0: 352x640 1 transformador-corriente, 21.3ms\n",
      "Speed: 0.8ms preprocess, 21.3ms inference, 0.6ms postprocess per image at shape (1, 3, 352, 640)\n",
      "\n",
      "0: 352x640 3 proteccion-termomagneticas, 21.2ms\n",
      "Speed: 0.8ms preprocess, 21.2ms inference, 0.6ms postprocess per image at shape (1, 3, 352, 640)\n",
      "\n",
      "0: 384x640 (no detections), 22.9ms\n",
      "Speed: 1.0ms preprocess, 22.9ms inference, 0.3ms postprocess per image at shape (1, 3, 384, 640)\n"
     ]
    },
    {
     "name": "stderr",
     "output_type": "stream",
     "text": [
      "Processing tiles: 100%|██████████| 416/416 [00:16<00:00, 25.70it/s]\n"
     ]
    },
    {
     "ename": "AttributeError",
     "evalue": "'dict' object has no attribute 'x1'",
     "output_type": "error",
     "traceback": [
      "\u001b[0;31m---------------------------------------------------------------------------\u001b[0m",
      "\u001b[0;31mAttributeError\u001b[0m                            Traceback (most recent call last)",
      "Cell \u001b[0;32mIn[16], line 8\u001b[0m\n\u001b[1;32m      5\u001b[0m global_detections \u001b[38;5;241m=\u001b[39m adjust_detections_to_global_space(tiles_with_detections)\n\u001b[1;32m      7\u001b[0m \u001b[38;5;66;03m# Visualizar las detecciones en la imagen completa\u001b[39;00m\n\u001b[0;32m----> 8\u001b[0m \u001b[43mvisualize_detections\u001b[49m\u001b[43m(\u001b[49m\u001b[43mimage_path\u001b[49m\u001b[43m,\u001b[49m\u001b[43m \u001b[49m\u001b[43mglobal_detections\u001b[49m\u001b[43m)\u001b[49m\n",
      "Cell \u001b[0;32mIn[11], line 7\u001b[0m, in \u001b[0;36mvisualize_detections\u001b[0;34m(image_path, global_detections)\u001b[0m\n\u001b[1;32m      5\u001b[0m image \u001b[38;5;241m=\u001b[39m cv2\u001b[38;5;241m.\u001b[39mimread(image_path)\n\u001b[1;32m      6\u001b[0m \u001b[38;5;28;01mfor\u001b[39;00m detection \u001b[38;5;129;01min\u001b[39;00m global_detections:\n\u001b[0;32m----> 7\u001b[0m     x1, y1, x2, y2 \u001b[38;5;241m=\u001b[39m \u001b[38;5;28mmap\u001b[39m(\u001b[38;5;28mint\u001b[39m, [\u001b[43mdetection\u001b[49m\u001b[38;5;241;43m.\u001b[39;49m\u001b[43mx1\u001b[49m, detection\u001b[38;5;241m.\u001b[39my1, detection\u001b[38;5;241m.\u001b[39mx2, detection\u001b[38;5;241m.\u001b[39my2])\n\u001b[1;32m      8\u001b[0m     label \u001b[38;5;241m=\u001b[39m detection\u001b[38;5;241m.\u001b[39mlabel\n\u001b[1;32m      9\u001b[0m     cv2\u001b[38;5;241m.\u001b[39mrectangle(image, (x1, y1), (x2, y2), (\u001b[38;5;241m0\u001b[39m, \u001b[38;5;241m255\u001b[39m, \u001b[38;5;241m0\u001b[39m), \u001b[38;5;241m2\u001b[39m)\n",
      "\u001b[0;31mAttributeError\u001b[0m: 'dict' object has no attribute 'x1'"
     ]
    }
   ],
   "source": [
    "    # Aplicar el modelo a cada subimagen\n",
    "    tiles_with_detections = apply_model_to_tiles(model, tiles)\n",
    "\n"
   ]
  },
  {
   "cell_type": "code",
   "execution_count": 17,
   "id": "ad9a1382-49a4-416e-8fa6-71386a590318",
   "metadata": {},
   "outputs": [],
   "source": [
    "    # Ajustar las detecciones al espacio global\n",
    "    global_detections = adjust_detections_to_global_space(tiles_with_detections)\n"
   ]
  },
  {
   "cell_type": "code",
   "execution_count": 47,
   "id": "3c362988-6d9a-4349-961c-0eab42253919",
   "metadata": {},
   "outputs": [
    {
     "name": "stdout",
     "output_type": "stream",
     "text": [
      "Detections saved to output_with_detections.jpg\n"
     ]
    }
   ],
   "source": [
    "# Visualizar las detecciones en la imagen completa\n",
    "class_names = [\n",
    "    'actuador-knx', 'analizador-red', 'bloqueo', 'borne', 'borne-cortocircuitable',\n",
    "    'contactor', 'enclavamiento', 'equipo-de-medida', 'fuente-knx', 'fusible',\n",
    "    'interruptor-puerta', 'lampara', 'luz-piloto', 'mando-motorizado', 'proteccion-diferencial',\n",
    "    'proteccion-sobretension', 'proteccion-termomagnetica', 'proteccion-termomagnetica-extraible',\n",
    "    'puerto-comunicacion', 'seccionador', 'seccionador-extraible', 'selector',\n",
    "    'transformador-aislacion', 'transformador-corriente', 'ventilador'\n",
    "]\n",
    "#abreviadas\n",
    "class_names = [\n",
    "        'act-knx', 'ana-red', 'bloqueo', 'borne', 'borne-cc',\n",
    "        'contactor', 'enclav', 'eq-medida', 'fuente-knx', 'fusible',\n",
    "        'int-puerta', 'lampara', 'luz-piloto', 'mando-motor', 'prot-diff',\n",
    "        'prot-sobre', 'prot-term', 'prot-term-ext', 'pto-com', 'seccionador',\n",
    "        'secc-ext', 'selector', 'trafo-aisl', 'trafo-corr', 'ventilador'\n",
    "    ]\n",
    "\n",
    "\n",
    "visualize_detections(image_path, global_detections, class_names)\n"
   ]
  },
  {
   "cell_type": "markdown",
   "id": "bcdf23b6-69d1-403c-9439-1ab40296bfeb",
   "metadata": {},
   "source": [
    "## consolidado de detecciones"
   ]
  },
  {
   "cell_type": "code",
   "execution_count": 43,
   "id": "f76bdfe3-1752-4f6d-8f5d-2c771ca33236",
   "metadata": {},
   "outputs": [],
   "source": [
    "import pandas as pd\n",
    "def consolidate_detections(global_detections, class_names):\n",
    "\n",
    "    # Inicializar un contador para cada clase\n",
    "    class_counts = {class_name: 0 for class_name in class_names}\n",
    "\n",
    "    # Contar las detecciones por clase\n",
    "    for detection in global_detections:\n",
    "        class_id = int(detection['label'])  # ID de la clase\n",
    "        if class_id < len(class_names):  # Verificar que el ID esté en el rango válido\n",
    "            class_name = class_names[class_id]\n",
    "            class_counts[class_name] += 1\n",
    "\n",
    "    # Crear un DataFrame a partir del diccionario y ordenarlo\n",
    "    df = pd.DataFrame(list(class_counts.items()), columns=[\"Class\", \"Count\"])\n",
    "    df = df.sort_values(by=\"Count\", ascending=False).reset_index(drop=True)\n",
    "\n",
    "    return df"
   ]
  },
  {
   "cell_type": "code",
   "execution_count": 48,
   "id": "4da43755-0c21-4bf1-9137-97c21795644b",
   "metadata": {},
   "outputs": [
    {
     "name": "stdout",
     "output_type": "stream",
     "text": [
      "                                  Class  Count\n",
      "0                proteccion-diferencial    212\n",
      "1             proteccion-termomagnetica    165\n",
      "2                                 borne    137\n",
      "3                               fusible     19\n",
      "4                   puerto-comunicacion     16\n",
      "5               transformador-corriente     16\n",
      "6                      equipo-de-medida     15\n",
      "7                            luz-piloto     14\n",
      "8                borne-cortocircuitable      9\n",
      "9                            ventilador      9\n",
      "10                              lampara      8\n",
      "11                              bloqueo      6\n",
      "12                           fuente-knx      5\n",
      "13                   interruptor-puerta      4\n",
      "14              transformador-aislacion      3\n",
      "15                         actuador-knx      3\n",
      "16                       analizador-red      1\n",
      "17                            contactor      1\n",
      "18                        enclavamiento      1\n",
      "19                          seccionador      1\n",
      "20                     mando-motorizado      1\n",
      "21              proteccion-sobretension      0\n",
      "22  proteccion-termomagnetica-extraible      0\n",
      "23                seccionador-extraible      0\n",
      "24                             selector      0\n"
     ]
    }
   ],
   "source": [
    "consolidated_df = consolidate_detections(global_detections, class_names)\n",
    "# Mostrar el DataFrame\n",
    "\n",
    "print(consolidated_df)"
   ]
  },
  {
   "cell_type": "code",
   "execution_count": null,
   "id": "9ff3cd79-703c-4016-ad5d-716499633de9",
   "metadata": {},
   "outputs": [],
   "source": []
  },
  {
   "cell_type": "code",
   "execution_count": null,
   "id": "0e087b32-d068-426f-865c-6d7339823852",
   "metadata": {},
   "outputs": [],
   "source": []
  }
 ],
 "metadata": {
  "kernelspec": {
   "display_name": "Python 3 (ipykernel)",
   "language": "python",
   "name": "python3"
  },
  "language_info": {
   "codemirror_mode": {
    "name": "ipython",
    "version": 3
   },
   "file_extension": ".py",
   "mimetype": "text/x-python",
   "name": "python",
   "nbconvert_exporter": "python",
   "pygments_lexer": "ipython3",
   "version": "3.12.3"
  }
 },
 "nbformat": 4,
 "nbformat_minor": 5
}
